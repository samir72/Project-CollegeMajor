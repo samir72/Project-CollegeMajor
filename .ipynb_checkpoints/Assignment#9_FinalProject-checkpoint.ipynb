{
 "cells": [
  {
   "cell_type": "markdown",
   "metadata": {},
   "source": [
    "# Assignment # 9 : Analysis Of College Major In US.\n",
    "## Data Science 350\n",
    "\n",
    "In this assignment I am analysing published data on \"US College Majors\" to ascertain employment and salary patterns across different majors available to students."
   ]
  },
  {
   "cell_type": "markdown",
   "metadata": {},
   "source": [
    "## About the data set\n",
    "\n",
    "This data set is from the [Five Thirty Eight](https://github.com/rudeboybert/fivethirtyeight/tree/master/data-raw/college-majors).\n",
    "\n",
    "- **Source**:\n",
    "As per the information on above link, this data has been created from American Community Survey 2010-2012 Public Use Microdata Series."
   ]
  },
  {
   "cell_type": "markdown",
   "metadata": {},
   "source": [
    "## Load & examine the data set.\n",
    "\n",
    "The function(Loaddata.R)shown below loads three different files to data frames. Herein I am also sourcing another function \"ZScoreNormalise.R\" which I am using to normalise various columns in the file.\n",
    "Make sure you have the **.csv file** in your working directory!."
   ]
  },
  {
   "cell_type": "code",
   "execution_count": 3,
   "metadata": {
    "collapsed": false
   },
   "outputs": [
    {
     "name": "stdout",
     "output_type": "stream",
     "text": [
      "\f"
     ]
    }
   ],
   "source": [
    "rm(list=ls())\n",
    "# Clear Console:\n",
    "cat(\"\\014\")\n",
    "library(dplyr)\n",
    "library(repr)\n",
    "source('Loaddata.R')\n",
    "source('ZScoreNormalise.R')\n",
    "# Load and cleanse the csv file.\n",
    "allages = Loaddata('all-ages.csv')\n",
    "gradstudents = Loaddata('grad-students.csv')\n",
    "recentgrads = Loaddata('recent-grads.csv')"
   ]
  },
  {
   "cell_type": "markdown",
   "metadata": {},
   "source": [
    "We now look at the data structure of the loaded file and give a cursory look to the structure."
   ]
  },
  {
   "cell_type": "code",
   "execution_count": 4,
   "metadata": {
    "collapsed": false
   },
   "outputs": [
    {
     "name": "stdout",
     "output_type": "stream",
     "text": [
      "'data.frame':\t172 obs. of  21 variables:\n",
      " $ Rank                : int  1 2 3 4 5 6 7 8 9 10 ...\n",
      " $ Major_code          : int  2419 2416 2415 2417 2405 2418 6202 5001 2414 2408 ...\n",
      " $ Major               : chr  \"PETROLEUM ENGINEERING\" \"MINING AND MINERAL ENGINEERING\" \"METALLURGICAL ENGINEERING\" \"NAVAL ARCHITECTURE AND MARINE ENGINEERING\" ...\n",
      " $ Major_category      : chr  \"Engineering\" \"Engineering\" \"Engineering\" \"Engineering\" ...\n",
      " $ Total               : int  2339 756 856 1258 32260 2573 3777 1792 91227 81527 ...\n",
      " $ Sample_size         : int  36 7 3 16 289 17 51 10 1029 631 ...\n",
      " $ Men                 : int  2057 679 725 1123 21239 2200 832 2110 12953 8407 ...\n",
      " $ Women               : int  282 77 131 135 11021 373 960 1667 2105 6548 ...\n",
      " $ ShareWomen          : num  0.121 0.102 0.153 0.107 0.342 ...\n",
      " $ Employed            : int  1976 640 648 758 25694 1857 2912 1526 76442 61928 ...\n",
      " $ Full_time           : int  1849 556 558 1069 23170 2038 2924 1085 71298 55450 ...\n",
      " $ Part_time           : int  270 170 133 150 5180 264 296 553 13101 12695 ...\n",
      " $ Full_time_year_round: int  1207 388 340 692 16697 1449 2482 827 54639 41413 ...\n",
      " $ Unemployed          : int  37 85 16 40 1672 400 308 33 4650 3895 ...\n",
      " $ Unemployment_rate   : num  0.0184 0.1172 0.0241 0.0501 0.0611 ...\n",
      " $ Median              : int  110000 75000 73000 70000 65000 65000 62000 62000 60000 60000 ...\n",
      " $ P25th               : int  95000 55000 50000 43000 50000 50000 53000 31500 48000 45000 ...\n",
      " $ P75th               : int  125000 90000 105000 80000 75000 102000 72000 109000 70000 72000 ...\n",
      " $ College_jobs        : int  1534 350 456 529 18314 1142 1768 972 52844 45829 ...\n",
      " $ Non_college_jobs    : int  364 257 176 102 4440 657 314 500 16384 10874 ...\n",
      " $ Low_wage_jobs       : int  193 50 0 0 972 244 259 220 3253 3170 ...\n"
     ]
    }
   ],
   "source": [
    "str((recentgrads))"
   ]
  },
  {
   "cell_type": "markdown",
   "metadata": {},
   "source": [
    "## Normalize key columns used in analysis.\n",
    "I am now calling the custom \"ZScoreNormalise\" function to normalise columms from \"grad-students.csv\" and \"recent-grads.csv\" files. I then go onto use mutate function from dplyr package to add normlaized columns back in the loaded data frames."
   ]
  },
  {
   "cell_type": "code",
   "execution_count": 5,
   "metadata": {
    "collapsed": false
   },
   "outputs": [],
   "source": [
    "#z-Score Normalization of grad median income data\n",
    "df_gradstudent_median <- ZScoreNormalise(gradstudents$Grad_median)\n",
    "#z-Score Normalization of recent grad mediam income data\n",
    "df_recent_gradstudent_median <- ZScoreNormalise(recentgrads$Median)\n",
    "gradstudents = mutate(gradstudents,normalized_gradmedian = df_gradstudent_median$normalized_logColumn)\n",
    "recentgrads = mutate(recentgrads,normalized_gradmedian = round(df_recent_gradstudent_median$normalized_logColumn),normalized_gradmedian_1 = df_recent_gradstudent_median$normalized_logColumn)\n",
    "\n",
    "#z-Score Normalization of grad unemployment rate data\n",
    "df_gradstudent_unemployment <- ZScoreNormalise(gradstudents$Grad_unemployment_rate)\n",
    "#z-Score Normalization of recent grad unemployment data\n",
    "df_recent_gradstudent_unemployment <- ZScoreNormalise(recentgrads$Unemployment_rate)\n",
    "gradstudents = mutate(gradstudents,normalized_gradunemployment = round(df_gradstudent_unemployment$normalized_logColumn))\n",
    "recentgrads = mutate(recentgrads,normalized_gradundemploymentrate = round(df_recent_gradstudent_unemployment$normalized_logColumn))\n",
    "\n",
    "#z-Score Normalization of recent grad employment and unemployment data\n",
    "df_recent_gradstudent_unemployednum <- ZScoreNormalise(recentgrads$Unemployed)\n",
    "df_recent_gradstudent_employednum <- ZScoreNormalise(recentgrads$Employed)\n",
    "#Add normalized unemployment and employment numbers to the recent graduate data frame.\n",
    "recentgrads = mutate(recentgrads,normalized_gradunemployednum = round(df_recent_gradstudent_unemployednum$normalized_logColumn),normalized_grademployednum = round(df_recent_gradstudent_employednum$normalized_logColumn))\n"
   ]
  },
  {
   "cell_type": "markdown",
   "metadata": {
    "collapsed": false
   },
   "source": [
    "## Group Data By Key Columns across Major Category\n",
    "    I am now trying to get key metrics (mean) of median pay and unemployment rate across major categories."
   ]
  },
  {
   "cell_type": "code",
   "execution_count": 7,
   "metadata": {
    "collapsed": true
   },
   "outputs": [],
   "source": [
    "#Group data by median pay by major category\n",
    "Recent_Graduate_GroupbyMajorCategorybyMedian <-\n",
    "  recentgrads %>% group_by(Major_category) %>% summarise(normalized_gradmedian = mean(normalized_gradmedian))\n",
    "\n",
    "#Group data by employment rate by major category\n",
    "Recent_Graduate_GroupbyMajor_unemploymentrate <-\n",
    "  recentgrads %>% group_by(Major_category) %>% summarise(normalized_gradundemploymentrate = mean(normalized_gradundemploymentrate))"
   ]
  },
  {
   "cell_type": "markdown",
   "metadata": {},
   "source": [
    "### Numeric conversion for Major Category\n",
    "I am now allocating a numeric value to each major category which I will be using in later part of the notebook.\n",
    "\n",
    "Observe data type of column \"Major_category_n\"."
   ]
  },
  {
   "cell_type": "code",
   "execution_count": 8,
   "metadata": {
    "collapsed": false
   },
   "outputs": [
    {
     "name": "stdout",
     "output_type": "stream",
     "text": [
      "'data.frame':\t172 obs. of  27 variables:\n",
      " $ Rank                            : int  1 2 3 4 5 6 7 8 9 10 ...\n",
      " $ Major_code                      : int  2419 2416 2415 2417 2405 2418 6202 5001 2414 2408 ...\n",
      " $ Major                           : chr  \"PETROLEUM ENGINEERING\" \"MINING AND MINERAL ENGINEERING\" \"METALLURGICAL ENGINEERING\" \"NAVAL ARCHITECTURE AND MARINE ENGINEERING\" ...\n",
      " $ Major_category                  : chr  \"Engineering\" \"Engineering\" \"Engineering\" \"Engineering\" ...\n",
      " $ Total                           : int  2339 756 856 1258 32260 2573 3777 1792 91227 81527 ...\n",
      " $ Sample_size                     : int  36 7 3 16 289 17 51 10 1029 631 ...\n",
      " $ Men                             : int  2057 679 725 1123 21239 2200 832 2110 12953 8407 ...\n",
      " $ Women                           : int  282 77 131 135 11021 373 960 1667 2105 6548 ...\n",
      " $ ShareWomen                      : num  0.121 0.102 0.153 0.107 0.342 ...\n",
      " $ Employed                        : int  1976 640 648 758 25694 1857 2912 1526 76442 61928 ...\n",
      " $ Full_time                       : int  1849 556 558 1069 23170 2038 2924 1085 71298 55450 ...\n",
      " $ Part_time                       : int  270 170 133 150 5180 264 296 553 13101 12695 ...\n",
      " $ Full_time_year_round            : int  1207 388 340 692 16697 1449 2482 827 54639 41413 ...\n",
      " $ Unemployed                      : int  37 85 16 40 1672 400 308 33 4650 3895 ...\n",
      " $ Unemployment_rate               : num  0.0184 0.1172 0.0241 0.0501 0.0611 ...\n",
      " $ Median                          : int  110000 75000 73000 70000 65000 65000 62000 62000 60000 60000 ...\n",
      " $ P25th                           : int  95000 55000 50000 43000 50000 50000 53000 31500 48000 45000 ...\n",
      " $ P75th                           : int  125000 90000 105000 80000 75000 102000 72000 109000 70000 72000 ...\n",
      " $ College_jobs                    : int  1534 350 456 529 18314 1142 1768 972 52844 45829 ...\n",
      " $ Non_college_jobs                : int  364 257 176 102 4440 657 314 500 16384 10874 ...\n",
      " $ Low_wage_jobs                   : int  193 50 0 0 972 244 259 220 3253 3170 ...\n",
      " $ normalized_gradmedian           : num  6 3 3 3 2 2 2 2 2 2 ...\n",
      " $ normalized_gradmedian_1         : num  6.07 3.03 2.86 2.59 2.16 ...\n",
      " $ normalized_gradundemploymentrate: num  -2 2 -1 -1 0 4 1 -2 0 0 ...\n",
      " $ normalized_gradunemployednum    : num  -1 -1 -1 -1 0 0 -1 -1 1 0 ...\n",
      " $ normalized_grademployednum      : num  -1 -1 -1 -1 0 -1 -1 -1 1 1 ...\n",
      " $ Major_category_n                : num  8 8 8 8 8 8 4 14 8 8 ...\n"
     ]
    }
   ],
   "source": [
    "#Convert Categorical variables(Major Category) into numeric\n",
    "recentgrads$Major_category_n <- as.numeric(factor(recentgrads$Major_category , levels=Recent_Graduate_GroupbyMajor_unemploymentrate$Major_category))\n",
    "str(recentgrads)"
   ]
  },
  {
   "cell_type": "markdown",
   "metadata": {},
   "source": [
    "## Create data frame with only numeric features.\n",
    "\n",
    "I am now going to create a data frame with all numeric features so I can calcuate the following of all such features in one go.\n",
    "        - Summary.\n",
    "        - Covariance.\n",
    "        - Correlation."
   ]
  },
  {
   "cell_type": "code",
   "execution_count": 10,
   "metadata": {
    "collapsed": false
   },
   "outputs": [
    {
     "name": "stdout",
     "output_type": "stream",
     "text": [
      "'data.frame':\t172 obs. of  25 variables:\n",
      " $ Rank                            : num  1 2 3 4 5 6 7 8 9 10 ...\n",
      " $ Major_code                      : num  2419 2416 2415 2417 2405 ...\n",
      " $ Total                           : num  2339 756 856 1258 32260 ...\n",
      " $ Sample_size                     : num  36 7 3 16 289 ...\n",
      " $ Men                             : num  2057 679 725 1123 21239 ...\n",
      " $ Women                           : num  282 77 131 135 11021 ...\n",
      " $ ShareWomen                      : num  0.121 0.102 0.153 0.107 0.342 ...\n",
      " $ Employed                        : num  1976 640 648 758 25694 ...\n",
      " $ Full_time                       : num  1849 556 558 1069 23170 ...\n",
      " $ Part_time                       : num  270 170 133 150 5180 ...\n",
      " $ Full_time_year_round            : num  1207 388 340 692 16697 ...\n",
      " $ Unemployed                      : num  37 85 16 40 1672 ...\n",
      " $ Unemployment_rate               : num  0.0184 0.1172 0.0241 0.0501 0.0611 ...\n",
      " $ Median                          : num  110000 75000 73000 70000 65000 65000 62000 62000 60000 60000 ...\n",
      " $ P25th                           : num  95000 55000 50000 43000 50000 50000 53000 31500 48000 45000 ...\n",
      " $ P75th                           : num  125000 90000 105000 80000 75000 102000 72000 109000 70000 72000 ...\n",
      " $ College_jobs                    : num  1534 350 456 529 18314 ...\n",
      " $ Non_college_jobs                : num  364 257 176 102 4440 ...\n",
      " $ Low_wage_jobs                   : num  193 50 0 0 972 ...\n",
      " $ normalized_gradmedian           : num  6 3 3 3 2 2 2 2 2 2 ...\n",
      " $ normalized_gradmedian_1         : num  6.07 3.03 2.86 2.59 2.16 ...\n",
      " $ normalized_gradundemploymentrate: num  -2 2 -1 -1 0 4 1 -2 0 0 ...\n",
      " $ normalized_gradunemployednum    : num  -1 -1 -1 -1 0 0 -1 -1 1 0 ...\n",
      " $ normalized_grademployednum      : num  -1 -1 -1 -1 0 -1 -1 -1 1 1 ...\n",
      " $ Major_category_n                : num  8 8 8 8 8 8 4 14 8 8 ...\n"
     ]
    },
    {
     "data": {
      "text/plain": [
       "$Rank\n",
       "   Min. 1st Qu.  Median    Mean 3rd Qu.    Max. \n",
       "   1.00   43.75   87.50   87.08  130.20  173.00 \n",
       "\n",
       "$Major_code\n",
       "   Min. 1st Qu.  Median    Mean 3rd Qu.    Max. \n",
       "   1100    2403    3608    3880    5503    6403 \n",
       "\n",
       "$Total\n",
       "   Min. 1st Qu.  Median    Mean 3rd Qu.    Max. \n",
       "    609    4560   15100   39390   38910  393700 \n",
       "\n",
       "$Sample_size\n",
       "   Min. 1st Qu.  Median    Mean 3rd Qu.    Max. \n",
       "    2.0    42.0   131.0   358.1   339.0  4212.0 \n",
       "\n",
       "$Men\n",
       "   Min. 1st Qu.  Median    Mean 3rd Qu.    Max. \n",
       "    119    2178    5434   16720   14630  173800 \n",
       "\n",
       "$Women\n",
       "   Min. 1st Qu.  Median    Mean 3rd Qu.    Max. \n",
       "      0    1852    8386   22650   22550  307100 \n",
       "\n",
       "$ShareWomen\n",
       "   Min. 1st Qu.  Median    Mean 3rd Qu.    Max. \n",
       " 0.0000  0.3360  0.5396  0.5231  0.7033  0.9690 \n",
       "\n",
       "$Employed\n",
       "   Min. 1st Qu.  Median    Mean 3rd Qu.    Max. \n",
       "    559    3735   12030   31370   31700  307900 \n",
       "\n",
       "$Full_time\n",
       "   Min. 1st Qu.  Median    Mean 3rd Qu.    Max. \n",
       "    488    3181   10070   26180   25450  251500 \n",
       "\n",
       "$Part_time\n",
       "   Min. 1st Qu.  Median    Mean 3rd Qu.    Max. \n",
       "      0    1038    3332    8884    9981  115200 \n",
       "\n",
       "$Full_time_year_round\n",
       "   Min. 1st Qu.  Median    Mean 3rd Qu.    Max. \n",
       "    340    2475    7436   19810   17670  199900 \n",
       "\n",
       "$Unemployed\n",
       "   Min. 1st Qu.  Median    Mean 3rd Qu.    Max. \n",
       "      0     307     905    2430    2397   28170 \n",
       "\n",
       "$Unemployment_rate\n",
       "   Min. 1st Qu.  Median    Mean 3rd Qu.    Max. \n",
       "0.00000 0.05072 0.06827 0.06859 0.08760 0.17720 \n",
       "\n",
       "$Median\n",
       "   Min. 1st Qu.  Median    Mean 3rd Qu.    Max. \n",
       "  22000   33000   36000   40150   45000  110000 \n",
       "\n",
       "$P25th\n",
       "   Min. 1st Qu.  Median    Mean 3rd Qu.    Max. \n",
       "  18500   24000   27000   29440   33000   95000 \n",
       "\n",
       "$P75th\n",
       "   Min. 1st Qu.  Median    Mean 3rd Qu.    Max. \n",
       "  22000   42000   47050   51560   60000  125000 \n",
       "\n",
       "$College_jobs\n",
       "   Min. 1st Qu.  Median    Mean 3rd Qu.    Max. \n",
       "    162    1745    4468   12390   14600  151600 \n",
       "\n",
       "$Non_college_jobs\n",
       "   Min. 1st Qu.  Median    Mean 3rd Qu.    Max. \n",
       "     50    1594    4604   13360   11790  148400 \n",
       "\n",
       "$Low_wage_jobs\n",
       "   Min. 1st Qu.  Median    Mean 3rd Qu.    Max. \n",
       "    0.0   342.2  1238.0  3881.0  3496.0 48210.0 \n",
       "\n",
       "$normalized_gradmedian\n",
       "     Min.   1st Qu.    Median      Mean   3rd Qu.      Max. \n",
       "-2.000000 -1.000000  0.000000  0.005814  0.000000  6.000000 \n",
       "\n",
       "$normalized_gradmedian_1\n",
       "   Min. 1st Qu.  Median    Mean 3rd Qu.    Max. \n",
       "-1.5780 -0.6217 -0.3610  0.0000  0.4214  6.0720 \n",
       "\n",
       "$normalized_gradundemploymentrate\n",
       "    Min.  1st Qu.   Median     Mean  3rd Qu.     Max. \n",
       "-2.00000 -1.00000  0.00000  0.02907  1.00000  4.00000 \n",
       "\n",
       "$normalized_gradunemployednum\n",
       "   Min. 1st Qu.  Median    Mean 3rd Qu.    Max. \n",
       "     -1      -1       0       0       0       6 \n",
       "\n",
       "$normalized_grademployednum\n",
       "     Min.   1st Qu.    Median      Mean   3rd Qu.      Max. \n",
       "-1.000000 -1.000000  0.000000 -0.005814  0.000000  5.000000 \n",
       "\n",
       "$Major_category_n\n",
       "   Min. 1st Qu.  Median    Mean 3rd Qu.    Max. \n",
       "  1.000   4.000   8.000   7.965  10.000  16.000 \n"
      ]
     },
     "metadata": {},
     "output_type": "display_data"
    },
    {
     "data": {
      "text/plain": [
       "\n",
       " 1  2  3  4  5  6  7  8  9 10 11 12 13 14 15 16 \n",
       "10  8 14 13  4 11 16 29 12 15  6  1  5 10  9  9 "
      ]
     },
     "metadata": {},
     "output_type": "display_data"
    },
    {
     "data": {
      "text/html": [
       "<table>\n",
       "<thead><tr><th></th><th scope=col>Rank</th><th scope=col>Major_code</th><th scope=col>Total</th><th scope=col>Sample_size</th><th scope=col>Men</th><th scope=col>Women</th><th scope=col>ShareWomen</th><th scope=col>Employed</th><th scope=col>Full_time</th><th scope=col>Part_time</th><th scope=col>...</th><th scope=col>P75th</th><th scope=col>College_jobs</th><th scope=col>Non_college_jobs</th><th scope=col>Low_wage_jobs</th><th scope=col>normalized_gradmedian</th><th scope=col>normalized_gradmedian_1</th><th scope=col>normalized_gradundemploymentrate</th><th scope=col>normalized_gradunemployednum</th><th scope=col>normalized_grademployednum</th><th scope=col>Major_category_n</th></tr></thead>\n",
       "<tbody>\n",
       "\t<tr><th scope=row>Rank</th><td> 2.522176e+03</td><td> 9.213143e+03</td><td> 2.360459e+05</td><td> 2.376219e+02</td><td>-8.479121e+04</td><td> 4.173724e+05</td><td> 7.577426e+00</td><td> 1.782353e+05</td><td> 7.301280e+04</td><td> 1.418762e+05</td><td>...          </td><td>-6.036526e+05</td><td> 5.554130e+04</td><td> 1.723892e+05</td><td> 7.070150e+04</td><td>-4.629869e+01</td><td>-4.386829e+01</td><td> 1.424691e+00</td><td> 6.473684e+00</td><td> 6.772372e+00</td><td> 1.095002e+01</td></tr>\n",
       "\t<tr><th scope=row>Major_code</th><td> 9.213143e+03</td><td> 2.865132e+06</td><td> 2.152817e+07</td><td> 2.166933e+05</td><td> 1.752468e+06</td><td> 3.360033e+06</td><td> 2.872270e+01</td><td> 1.727052e+07</td><td> 1.449942e+07</td><td> 4.849552e+06</td><td>...          </td><td>-2.398079e+06</td><td> 1.483955e+06</td><td> 9.380528e+06</td><td> 2.654423e+06</td><td>-2.689080e+02</td><td>-2.980406e+02</td><td> 2.055710e+02</td><td> 4.028129e+02</td><td> 3.518963e+02</td><td> 2.252355e+03</td></tr>\n",
       "\t<tr><th scope=row>Total</th><td> 2.360459e+05</td><td> 2.152817e+07</td><td> 4.028313e+09</td><td> 3.718309e+07</td><td> 4.666856e+08</td><td> 1.252311e+09</td><td> 7.693770e+02</td><td> 3.209902e+09</td><td> 2.696848e+09</td><td> 8.850833e+08</td><td>...          </td><td>-8.503182e+07</td><td> 1.084123e+09</td><td> 1.424014e+09</td><td> 4.131826e+08</td><td>-8.041916e+03</td><td>-6.982867e+03</td><td> 4.665008e+03</td><td> 6.197253e+04</td><td> 6.265733e+04</td><td>-2.134544e+02</td></tr>\n",
       "\t<tr><th scope=row>Sample_size</th><td> 2.376219e+02</td><td> 2.166933e+05</td><td> 3.718309e+07</td><td> 3.838773e+05</td><td> 3.019064e+06</td><td> 8.691361e+06</td><td> 1.745223e+00</td><td> 3.033399e+07</td><td> 2.603421e+07</td><td> 7.496541e+06</td><td>...          </td><td>-5.405640e+05</td><td> 9.270676e+06</td><td> 1.351827e+07</td><td> 3.708269e+06</td><td>-3.553291e+01</td><td>-4.193713e+01</td><td> 2.945240e+01</td><td> 5.712164e+02</td><td> 5.981469e+02</td><td>-1.505043e+02</td></tr>\n",
       "\t<tr><th scope=row>Men</th><td>-8.479121e+04</td><td> 1.752468e+06</td><td> 4.666856e+08</td><td> 3.019064e+06</td><td> 7.908571e+08</td><td> 7.766743e+08</td><td>-7.413401e+02</td><td> 3.323457e+08</td><td> 2.789987e+08</td><td> 1.105749e+08</td><td>...          </td><td> 1.273078e+07</td><td> 1.287434e+08</td><td> 1.246709e+08</td><td> 4.171915e+07</td><td> 6.201528e+02</td><td> 6.298477e+02</td><td> 3.779337e+03</td><td> 7.573743e+03</td><td> 6.204935e+03</td><td> 1.318596e+04</td></tr>\n",
       "\t<tr><th scope=row>Women</th><td> 4.173724e+05</td><td> 3.360033e+06</td><td> 1.252311e+09</td><td> 8.691361e+06</td><td> 7.766743e+08</td><td> 1.685413e+09</td><td> 2.809019e+03</td><td> 9.647258e+08</td><td> 7.545094e+08</td><td> 3.338085e+08</td><td>...          </td><td>-1.052033e+08</td><td> 5.350672e+08</td><td> 3.505233e+08</td><td> 1.208185e+08</td><td>-8.661969e+03</td><td>-7.612486e+03</td><td> 1.817788e+03</td><td> 1.773568e+04</td><td> 1.855033e+04</td><td> 1.798495e+04</td></tr>\n",
       "\t<tr><th scope=row>ShareWomen</th><td> 7.577426e+00</td><td> 2.872270e+01</td><td> 7.693770e+02</td><td> 1.745223e+00</td><td>-7.413401e+02</td><td> 2.809019e+03</td><td> 5.342361e-02</td><td> 6.446723e+02</td><td> 3.143200e+02</td><td> 3.828458e+02</td><td>...          </td><td>-1.920141e+03</td><td> 7.399200e+02</td><td> 2.228910e+02</td><td> 1.209588e+02</td><td>-1.515175e-01</td><td>-1.421563e-01</td><td>-9.384887e-03</td><td> 2.008110e-03</td><td> 1.504430e-02</td><td> 3.322636e-02</td></tr>\n",
       "\t<tr><th scope=row>Employed</th><td> 1.782353e+05</td><td> 1.727052e+07</td><td> 3.209902e+09</td><td> 3.033399e+07</td><td> 3.323457e+08</td><td> 9.647258e+08</td><td> 6.446723e+02</td><td> 2.577250e+09</td><td> 2.171275e+09</td><td> 6.961330e+08</td><td>...          </td><td>-6.863611e+07</td><td> 8.636084e+08</td><td> 1.139005e+09</td><td> 3.275257e+08</td><td>-6.152784e+03</td><td>-5.468267e+03</td><td> 3.075119e+03</td><td> 4.918202e+04</td><td> 5.036747e+04</td><td>-1.901265e+03</td></tr>\n",
       "\t<tr><th scope=row>Full_time</th><td> 7.301280e+04</td><td> 1.449942e+07</td><td> 2.696848e+09</td><td> 2.603421e+07</td><td> 2.789987e+08</td><td> 7.545094e+08</td><td> 3.143200e+02</td><td> 2.171275e+09</td><td> 1.844603e+09</td><td> 5.676785e+08</td><td>...          </td><td>-4.357876e+07</td><td> 7.076437e+08</td><td> 9.551910e+08</td><td> 2.703884e+08</td><td>-3.849819e+03</td><td>-3.538669e+03</td><td> 2.406316e+03</td><td> 4.128787e+04</td><td> 4.254872e+04</td><td>-3.277673e+03</td></tr>\n",
       "\t<tr><th scope=row>Part_time</th><td> 1.418762e+05</td><td> 4.849552e+06</td><td> 8.850833e+08</td><td> 7.496541e+06</td><td> 1.105749e+08</td><td> 3.338085e+08</td><td> 3.828458e+02</td><td> 6.961330e+08</td><td> 5.676785e+08</td><td> 2.153651e+08</td><td>...          </td><td>-3.534638e+07</td><td> 2.519880e+08</td><td> 3.181484e+08</td><td> 9.717274e+07</td><td>-3.291168e+03</td><td>-2.793787e+03</td><td> 1.469265e+03</td><td> 1.386107e+04</td><td> 1.344048e+04</td><td> 2.978635e+03</td></tr>\n",
       "\t<tr><th scope=row>Full_time_year_round</th><td> 3.261169e+04</td><td> 1.156705e+07</td><td> 2.068842e+09</td><td> 2.028026e+07</td><td> 2.031369e+08</td><td> 5.570620e+08</td><td> 1.742065e+02</td><td> 1.671531e+09</td><td> 1.424356e+09</td><td> 4.293576e+08</td><td>...          </td><td>-2.963055e+07</td><td> 5.351540e+08</td><td> 7.355318e+08</td><td> 2.063831e+08</td><td>-2.531557e+03</td><td>-2.428736e+03</td><td> 1.660530e+03</td><td> 3.159600e+04</td><td> 3.280466e+04</td><td>-3.354902e+03</td></tr>\n",
       "\t<tr><th scope=row>Unemployed</th><td> 1.847891e+04</td><td> 1.558784e+06</td><td> 2.549303e+08</td><td> 2.343454e+06</td><td> 3.070417e+07</td><td> 7.425780e+07</td><td> 2.570023e+01</td><td> 2.026721e+08</td><td> 1.699014e+08</td><td> 5.714467e+07</td><td>...          </td><td>-6.152788e+06</td><td> 6.272134e+07</td><td> 9.394767e+07</td><td> 2.739388e+07</td><td>-5.678385e+02</td><td>-5.215063e+02</td><td> 6.747843e+02</td><td> 4.116053e+03</td><td> 3.934201e+03</td><td> 5.613174e+02</td></tr>\n",
       "\t<tr><th scope=row>Unemployment_rate</th><td> 1.000660e-01</td><td> 6.487224e+00</td><td> 1.386878e+02</td><td> 9.882760e-01</td><td> 1.170072e+02</td><td> 5.284399e+01</td><td>-2.390768e-04</td><td> 9.270371e+01</td><td> 7.245660e+01</td><td> 4.514349e+01</td><td>...          </td><td>-1.951225e+01</td><td>-1.439861e+01</td><td> 7.912716e+01</td><td> 2.566696e+01</td><td>-3.161509e-03</td><td>-3.315936e-03</td><td> 3.008212e-02</td><td> 7.307599e-03</td><td> 2.616208e-03</td><td> 9.362232e-03</td></tr>\n",
       "\t<tr><th scope=row>Median</th><td>-5.046461e+05</td><td>-3.428559e+06</td><td>-8.032857e+07</td><td>-4.824307e+05</td><td> 7.245558e+06</td><td>-8.757150e+07</td><td>-1.635319e+03</td><td>-6.290511e+07</td><td>-4.070767e+07</td><td>-3.213879e+07</td><td>...          </td><td> 1.551002e+08</td><td>-1.236578e+07</td><td>-4.786881e+07</td><td>-1.678438e+07</td><td> 1.176870e+04</td><td> 1.150367e+04</td><td>-9.389569e+02</td><td>-2.057310e+03</td><td>-2.113729e+03</td><td>-1.629158e+03</td></tr>\n",
       "\t<tr><th scope=row>P25th</th><td>-3.389110e+05</td><td>-2.591606e+06</td><td>-4.006665e+07</td><td>-1.220915e+05</td><td> 1.257804e+07</td><td>-4.355289e+07</td><td>-1.115900e+03</td><td>-2.961673e+07</td><td>-1.537801e+07</td><td>-2.018603e+07</td><td>...          </td><td> 1.016509e+08</td><td>-1.508005e+06</td><td>-2.963967e+07</td><td>-1.089240e+07</td><td> 8.364968e+03</td><td> 8.197850e+03</td><td>-6.462107e+02</td><td>-1.395322e+03</td><td>-1.207951e+03</td><td> 4.221780e+02</td></tr>\n",
       "\t<tr><th scope=row>P75th</th><td>-6.036526e+05</td><td>-2.398079e+06</td><td>-8.503182e+07</td><td>-5.405640e+05</td><td> 1.273078e+07</td><td>-1.052033e+08</td><td>-1.920141e+03</td><td>-6.863611e+07</td><td>-4.357876e+07</td><td>-3.534638e+07</td><td>...          </td><td> 2.227195e+08</td><td>-1.887092e+07</td><td>-5.060108e+07</td><td>-1.832471e+07</td><td> 1.383590e+04</td><td> 1.348268e+04</td><td>-2.128961e+02</td><td>-1.907602e+03</td><td>-2.448181e+03</td><td> 4.255338e+02</td></tr>\n",
       "\t<tr><th scope=row>College_jobs</th><td> 5.554130e+04</td><td> 1.483955e+06</td><td> 1.084123e+09</td><td> 9.270676e+06</td><td> 1.287434e+08</td><td> 5.350672e+08</td><td> 7.399200e+02</td><td> 8.636084e+08</td><td> 7.076437e+08</td><td> 2.519880e+08</td><td>...          </td><td>-1.887092e+07</td><td> 4.554444e+08</td><td> 3.117126e+08</td><td> 9.647088e+07</td><td>-1.676955e+03</td><td>-1.074943e+03</td><td>-3.739789e+02</td><td> 1.505380e+04</td><td> 1.678415e+04</td><td> 3.698811e+03</td></tr>\n",
       "\t<tr><th scope=row>Non_college_jobs</th><td> 1.723892e+05</td><td> 9.380528e+06</td><td> 1.424014e+09</td><td> 1.351827e+07</td><td> 1.246709e+08</td><td> 3.505233e+08</td><td> 2.228910e+02</td><td> 1.139005e+09</td><td> 9.551910e+08</td><td> 3.181484e+08</td><td>...          </td><td>-5.060108e+07</td><td> 3.117126e+08</td><td> 5.682193e+08</td><td> 1.618510e+08</td><td>-4.339531e+03</td><td>-4.161179e+03</td><td> 2.479955e+03</td><td> 2.299447e+04</td><td> 2.217731e+04</td><td>-3.388515e+02</td></tr>\n",
       "\t<tr><th scope=row>Low_wage_jobs</th><td> 7.070150e+04</td><td> 2.654423e+06</td><td> 4.131826e+08</td><td> 3.708269e+06</td><td> 4.171915e+07</td><td> 1.208185e+08</td><td> 1.209588e+02</td><td> 3.275257e+08</td><td> 2.703884e+08</td><td> 9.717274e+07</td><td>...          </td><td>-1.832471e+07</td><td> 9.647088e+07</td><td> 1.618510e+08</td><td> 4.842748e+07</td><td>-1.600628e+03</td><td>-1.459046e+03</td><td> 8.533961e+02</td><td> 6.679772e+03</td><td> 6.335155e+03</td><td>-9.646362e+01</td></tr>\n",
       "\t<tr><th scope=row>normalized_gradmedian</th><td>-4.629869e+01</td><td>-2.689080e+02</td><td>-8.041916e+03</td><td>-3.553291e+01</td><td> 6.201528e+02</td><td>-8.661969e+03</td><td>-1.515175e-01</td><td>-6.152784e+03</td><td>-3.849819e+03</td><td>-3.291168e+03</td><td>...          </td><td> 1.383590e+04</td><td>-1.676955e+03</td><td>-4.339531e+03</td><td>-1.600628e+03</td><td> 1.140317e+00</td><td> 1.023039e+00</td><td>-8.204134e-02</td><td>-1.929825e-01</td><td>-1.987964e-01</td><td>-7.581939e-02</td></tr>\n",
       "\t<tr><th scope=row>normalized_gradmedian_1</th><td>-4.386829e+01</td><td>-2.980406e+02</td><td>-6.982867e+03</td><td>-4.193713e+01</td><td> 6.298477e+02</td><td>-7.612486e+03</td><td>-1.421563e-01</td><td>-5.468267e+03</td><td>-3.538669e+03</td><td>-2.793787e+03</td><td>...          </td><td> 1.348268e+04</td><td>-1.074943e+03</td><td>-4.161179e+03</td><td>-1.459046e+03</td><td> 1.023039e+00</td><td> 1.000000e+00</td><td>-8.162241e-02</td><td>-1.788395e-01</td><td>-1.837440e-01</td><td>-1.416208e-01</td></tr>\n",
       "\t<tr><th scope=row>normalized_gradundemploymentrate</th><td> 1.424691e+00</td><td> 2.055710e+02</td><td> 4.665008e+03</td><td> 2.945240e+01</td><td> 3.779337e+03</td><td> 1.817788e+03</td><td>-9.384887e-03</td><td> 3.075119e+03</td><td> 2.406316e+03</td><td> 1.469265e+03</td><td>...          </td><td>-2.128961e+02</td><td>-3.739789e+02</td><td> 2.479955e+03</td><td> 8.533961e+02</td><td>-8.204134e-02</td><td>-8.162241e-02</td><td> 1.092717e+00</td><td> 2.456140e-01</td><td> 7.034544e-02</td><td> 3.051136e-01</td></tr>\n",
       "\t<tr><th scope=row>normalized_gradunemployednum</th><td> 6.473684e+00</td><td> 4.028129e+02</td><td> 6.197253e+04</td><td> 5.712164e+02</td><td> 7.573743e+03</td><td> 1.773568e+04</td><td> 2.008110e-03</td><td> 4.918202e+04</td><td> 4.128787e+04</td><td> 1.386107e+04</td><td>...          </td><td>-1.907602e+03</td><td> 1.505380e+04</td><td> 2.299447e+04</td><td> 6.679772e+03</td><td>-1.929825e-01</td><td>-1.788395e-01</td><td> 2.456140e-01</td><td> 1.134503e+00</td><td> 1.040936e+00</td><td> 3.508772e-02</td></tr>\n",
       "\t<tr><th scope=row>normalized_grademployednum</th><td> 6.772372e+00</td><td> 3.518963e+02</td><td> 6.265733e+04</td><td> 5.981469e+02</td><td> 6.204935e+03</td><td> 1.855033e+04</td><td> 1.504430e-02</td><td> 5.036747e+04</td><td> 4.254872e+04</td><td> 1.344048e+04</td><td>...          </td><td>-2.448181e+03</td><td> 1.678415e+04</td><td> 2.217731e+04</td><td> 6.335155e+03</td><td>-1.987964e-01</td><td>-1.837440e-01</td><td> 7.034544e-02</td><td> 1.040936e+00</td><td> 1.116925e+00</td><td>-2.692098e-01</td></tr>\n",
       "\t<tr><th scope=row>Major_category_n</th><td> 1.095002e+01</td><td> 2.252355e+03</td><td>-2.134544e+02</td><td>-1.505043e+02</td><td> 1.318596e+04</td><td> 1.798495e+04</td><td> 3.322636e-02</td><td>-1.901265e+03</td><td>-3.277673e+03</td><td> 2.978635e+03</td><td>...          </td><td> 4.255338e+02</td><td> 3.698811e+03</td><td>-3.388515e+02</td><td>-9.646362e+01</td><td>-7.581939e-02</td><td>-1.416208e-01</td><td> 3.051136e-01</td><td> 3.508772e-02</td><td>-2.692098e-01</td><td> 1.798708e+01</td></tr>\n",
       "</tbody>\n",
       "</table>\n"
      ],
      "text/latex": [
       "\\begin{tabular}{r|lllllllllllllllllllllllll}\n",
       "  & Rank & Major\\_code & Total & Sample\\_size & Men & Women & ShareWomen & Employed & Full\\_time & Part\\_time & ... & P75th & College\\_jobs & Non\\_college\\_jobs & Low\\_wage\\_jobs & normalized\\_gradmedian & normalized\\_gradmedian\\_1 & normalized\\_gradundemploymentrate & normalized\\_gradunemployednum & normalized\\_grademployednum & Major\\_category\\_n\\\\\n",
       "\\hline\n",
       "\tRank &  2.522176e+03 &  9.213143e+03 &  2.360459e+05 &  2.376219e+02 & -8.479121e+04 &  4.173724e+05 &  7.577426e+00 &  1.782353e+05 &  7.301280e+04 &  1.418762e+05 & ...           & -6.036526e+05 &  5.554130e+04 &  1.723892e+05 &  7.070150e+04 & -4.629869e+01 & -4.386829e+01 &  1.424691e+00 &  6.473684e+00 &  6.772372e+00 &  1.095002e+01\\\\\n",
       "\tMajor\\_code &  9.213143e+03 &  2.865132e+06 &  2.152817e+07 &  2.166933e+05 &  1.752468e+06 &  3.360033e+06 &  2.872270e+01 &  1.727052e+07 &  1.449942e+07 &  4.849552e+06 & ...           & -2.398079e+06 &  1.483955e+06 &  9.380528e+06 &  2.654423e+06 & -2.689080e+02 & -2.980406e+02 &  2.055710e+02 &  4.028129e+02 &  3.518963e+02 &  2.252355e+03\\\\\n",
       "\tTotal &  2.360459e+05 &  2.152817e+07 &  4.028313e+09 &  3.718309e+07 &  4.666856e+08 &  1.252311e+09 &  7.693770e+02 &  3.209902e+09 &  2.696848e+09 &  8.850833e+08 & ...           & -8.503182e+07 &  1.084123e+09 &  1.424014e+09 &  4.131826e+08 & -8.041916e+03 & -6.982867e+03 &  4.665008e+03 &  6.197253e+04 &  6.265733e+04 & -2.134544e+02\\\\\n",
       "\tSample\\_size &  2.376219e+02 &  2.166933e+05 &  3.718309e+07 &  3.838773e+05 &  3.019064e+06 &  8.691361e+06 &  1.745223e+00 &  3.033399e+07 &  2.603421e+07 &  7.496541e+06 & ...           & -5.405640e+05 &  9.270676e+06 &  1.351827e+07 &  3.708269e+06 & -3.553291e+01 & -4.193713e+01 &  2.945240e+01 &  5.712164e+02 &  5.981469e+02 & -1.505043e+02\\\\\n",
       "\tMen & -8.479121e+04 &  1.752468e+06 &  4.666856e+08 &  3.019064e+06 &  7.908571e+08 &  7.766743e+08 & -7.413401e+02 &  3.323457e+08 &  2.789987e+08 &  1.105749e+08 & ...           &  1.273078e+07 &  1.287434e+08 &  1.246709e+08 &  4.171915e+07 &  6.201528e+02 &  6.298477e+02 &  3.779337e+03 &  7.573743e+03 &  6.204935e+03 &  1.318596e+04\\\\\n",
       "\tWomen &  4.173724e+05 &  3.360033e+06 &  1.252311e+09 &  8.691361e+06 &  7.766743e+08 &  1.685413e+09 &  2.809019e+03 &  9.647258e+08 &  7.545094e+08 &  3.338085e+08 & ...           & -1.052033e+08 &  5.350672e+08 &  3.505233e+08 &  1.208185e+08 & -8.661969e+03 & -7.612486e+03 &  1.817788e+03 &  1.773568e+04 &  1.855033e+04 &  1.798495e+04\\\\\n",
       "\tShareWomen &  7.577426e+00 &  2.872270e+01 &  7.693770e+02 &  1.745223e+00 & -7.413401e+02 &  2.809019e+03 &  5.342361e-02 &  6.446723e+02 &  3.143200e+02 &  3.828458e+02 & ...           & -1.920141e+03 &  7.399200e+02 &  2.228910e+02 &  1.209588e+02 & -1.515175e-01 & -1.421563e-01 & -9.384887e-03 &  2.008110e-03 &  1.504430e-02 &  3.322636e-02\\\\\n",
       "\tEmployed &  1.782353e+05 &  1.727052e+07 &  3.209902e+09 &  3.033399e+07 &  3.323457e+08 &  9.647258e+08 &  6.446723e+02 &  2.577250e+09 &  2.171275e+09 &  6.961330e+08 & ...           & -6.863611e+07 &  8.636084e+08 &  1.139005e+09 &  3.275257e+08 & -6.152784e+03 & -5.468267e+03 &  3.075119e+03 &  4.918202e+04 &  5.036747e+04 & -1.901265e+03\\\\\n",
       "\tFull\\_time &  7.301280e+04 &  1.449942e+07 &  2.696848e+09 &  2.603421e+07 &  2.789987e+08 &  7.545094e+08 &  3.143200e+02 &  2.171275e+09 &  1.844603e+09 &  5.676785e+08 & ...           & -4.357876e+07 &  7.076437e+08 &  9.551910e+08 &  2.703884e+08 & -3.849819e+03 & -3.538669e+03 &  2.406316e+03 &  4.128787e+04 &  4.254872e+04 & -3.277673e+03\\\\\n",
       "\tPart\\_time &  1.418762e+05 &  4.849552e+06 &  8.850833e+08 &  7.496541e+06 &  1.105749e+08 &  3.338085e+08 &  3.828458e+02 &  6.961330e+08 &  5.676785e+08 &  2.153651e+08 & ...           & -3.534638e+07 &  2.519880e+08 &  3.181484e+08 &  9.717274e+07 & -3.291168e+03 & -2.793787e+03 &  1.469265e+03 &  1.386107e+04 &  1.344048e+04 &  2.978635e+03\\\\\n",
       "\tFull\\_time\\_year\\_round &  3.261169e+04 &  1.156705e+07 &  2.068842e+09 &  2.028026e+07 &  2.031369e+08 &  5.570620e+08 &  1.742065e+02 &  1.671531e+09 &  1.424356e+09 &  4.293576e+08 & ...           & -2.963055e+07 &  5.351540e+08 &  7.355318e+08 &  2.063831e+08 & -2.531557e+03 & -2.428736e+03 &  1.660530e+03 &  3.159600e+04 &  3.280466e+04 & -3.354902e+03\\\\\n",
       "\tUnemployed &  1.847891e+04 &  1.558784e+06 &  2.549303e+08 &  2.343454e+06 &  3.070417e+07 &  7.425780e+07 &  2.570023e+01 &  2.026721e+08 &  1.699014e+08 &  5.714467e+07 & ...           & -6.152788e+06 &  6.272134e+07 &  9.394767e+07 &  2.739388e+07 & -5.678385e+02 & -5.215063e+02 &  6.747843e+02 &  4.116053e+03 &  3.934201e+03 &  5.613174e+02\\\\\n",
       "\tUnemployment\\_rate &  1.000660e-01 &  6.487224e+00 &  1.386878e+02 &  9.882760e-01 &  1.170072e+02 &  5.284399e+01 & -2.390768e-04 &  9.270371e+01 &  7.245660e+01 &  4.514349e+01 & ...           & -1.951225e+01 & -1.439861e+01 &  7.912716e+01 &  2.566696e+01 & -3.161509e-03 & -3.315936e-03 &  3.008212e-02 &  7.307599e-03 &  2.616208e-03 &  9.362232e-03\\\\\n",
       "\tMedian & -5.046461e+05 & -3.428559e+06 & -8.032857e+07 & -4.824307e+05 &  7.245558e+06 & -8.757150e+07 & -1.635319e+03 & -6.290511e+07 & -4.070767e+07 & -3.213879e+07 & ...           &  1.551002e+08 & -1.236578e+07 & -4.786881e+07 & -1.678438e+07 &  1.176870e+04 &  1.150367e+04 & -9.389569e+02 & -2.057310e+03 & -2.113729e+03 & -1.629158e+03\\\\\n",
       "\tP25th & -3.389110e+05 & -2.591606e+06 & -4.006665e+07 & -1.220915e+05 &  1.257804e+07 & -4.355289e+07 & -1.115900e+03 & -2.961673e+07 & -1.537801e+07 & -2.018603e+07 & ...           &  1.016509e+08 & -1.508005e+06 & -2.963967e+07 & -1.089240e+07 &  8.364968e+03 &  8.197850e+03 & -6.462107e+02 & -1.395322e+03 & -1.207951e+03 &  4.221780e+02\\\\\n",
       "\tP75th & -6.036526e+05 & -2.398079e+06 & -8.503182e+07 & -5.405640e+05 &  1.273078e+07 & -1.052033e+08 & -1.920141e+03 & -6.863611e+07 & -4.357876e+07 & -3.534638e+07 & ...           &  2.227195e+08 & -1.887092e+07 & -5.060108e+07 & -1.832471e+07 &  1.383590e+04 &  1.348268e+04 & -2.128961e+02 & -1.907602e+03 & -2.448181e+03 &  4.255338e+02\\\\\n",
       "\tCollege\\_jobs &  5.554130e+04 &  1.483955e+06 &  1.084123e+09 &  9.270676e+06 &  1.287434e+08 &  5.350672e+08 &  7.399200e+02 &  8.636084e+08 &  7.076437e+08 &  2.519880e+08 & ...           & -1.887092e+07 &  4.554444e+08 &  3.117126e+08 &  9.647088e+07 & -1.676955e+03 & -1.074943e+03 & -3.739789e+02 &  1.505380e+04 &  1.678415e+04 &  3.698811e+03\\\\\n",
       "\tNon\\_college\\_jobs &  1.723892e+05 &  9.380528e+06 &  1.424014e+09 &  1.351827e+07 &  1.246709e+08 &  3.505233e+08 &  2.228910e+02 &  1.139005e+09 &  9.551910e+08 &  3.181484e+08 & ...           & -5.060108e+07 &  3.117126e+08 &  5.682193e+08 &  1.618510e+08 & -4.339531e+03 & -4.161179e+03 &  2.479955e+03 &  2.299447e+04 &  2.217731e+04 & -3.388515e+02\\\\\n",
       "\tLow\\_wage\\_jobs &  7.070150e+04 &  2.654423e+06 &  4.131826e+08 &  3.708269e+06 &  4.171915e+07 &  1.208185e+08 &  1.209588e+02 &  3.275257e+08 &  2.703884e+08 &  9.717274e+07 & ...           & -1.832471e+07 &  9.647088e+07 &  1.618510e+08 &  4.842748e+07 & -1.600628e+03 & -1.459046e+03 &  8.533961e+02 &  6.679772e+03 &  6.335155e+03 & -9.646362e+01\\\\\n",
       "\tnormalized\\_gradmedian & -4.629869e+01 & -2.689080e+02 & -8.041916e+03 & -3.553291e+01 &  6.201528e+02 & -8.661969e+03 & -1.515175e-01 & -6.152784e+03 & -3.849819e+03 & -3.291168e+03 & ...           &  1.383590e+04 & -1.676955e+03 & -4.339531e+03 & -1.600628e+03 &  1.140317e+00 &  1.023039e+00 & -8.204134e-02 & -1.929825e-01 & -1.987964e-01 & -7.581939e-02\\\\\n",
       "\tnormalized\\_gradmedian\\_1 & -4.386829e+01 & -2.980406e+02 & -6.982867e+03 & -4.193713e+01 &  6.298477e+02 & -7.612486e+03 & -1.421563e-01 & -5.468267e+03 & -3.538669e+03 & -2.793787e+03 & ...           &  1.348268e+04 & -1.074943e+03 & -4.161179e+03 & -1.459046e+03 &  1.023039e+00 &  1.000000e+00 & -8.162241e-02 & -1.788395e-01 & -1.837440e-01 & -1.416208e-01\\\\\n",
       "\tnormalized\\_gradundemploymentrate &  1.424691e+00 &  2.055710e+02 &  4.665008e+03 &  2.945240e+01 &  3.779337e+03 &  1.817788e+03 & -9.384887e-03 &  3.075119e+03 &  2.406316e+03 &  1.469265e+03 & ...           & -2.128961e+02 & -3.739789e+02 &  2.479955e+03 &  8.533961e+02 & -8.204134e-02 & -8.162241e-02 &  1.092717e+00 &  2.456140e-01 &  7.034544e-02 &  3.051136e-01\\\\\n",
       "\tnormalized\\_gradunemployednum &  6.473684e+00 &  4.028129e+02 &  6.197253e+04 &  5.712164e+02 &  7.573743e+03 &  1.773568e+04 &  2.008110e-03 &  4.918202e+04 &  4.128787e+04 &  1.386107e+04 & ...           & -1.907602e+03 &  1.505380e+04 &  2.299447e+04 &  6.679772e+03 & -1.929825e-01 & -1.788395e-01 &  2.456140e-01 &  1.134503e+00 &  1.040936e+00 &  3.508772e-02\\\\\n",
       "\tnormalized\\_grademployednum &  6.772372e+00 &  3.518963e+02 &  6.265733e+04 &  5.981469e+02 &  6.204935e+03 &  1.855033e+04 &  1.504430e-02 &  5.036747e+04 &  4.254872e+04 &  1.344048e+04 & ...           & -2.448181e+03 &  1.678415e+04 &  2.217731e+04 &  6.335155e+03 & -1.987964e-01 & -1.837440e-01 &  7.034544e-02 &  1.040936e+00 &  1.116925e+00 & -2.692098e-01\\\\\n",
       "\tMajor\\_category\\_n &  1.095002e+01 &  2.252355e+03 & -2.134544e+02 & -1.505043e+02 &  1.318596e+04 &  1.798495e+04 &  3.322636e-02 & -1.901265e+03 & -3.277673e+03 &  2.978635e+03 & ...           &  4.255338e+02 &  3.698811e+03 & -3.388515e+02 & -9.646362e+01 & -7.581939e-02 & -1.416208e-01 &  3.051136e-01 &  3.508772e-02 & -2.692098e-01 &  1.798708e+01\\\\\n",
       "\\end{tabular}\n"
      ],
      "text/markdown": [
       "\n",
       "| <!--/--> | Rank | Major_code | Total | Sample_size | Men | Women | ShareWomen | Employed | Full_time | Part_time | ... | P75th | College_jobs | Non_college_jobs | Low_wage_jobs | normalized_gradmedian | normalized_gradmedian_1 | normalized_gradundemploymentrate | normalized_gradunemployednum | normalized_grademployednum | Major_category_n | \n",
       "|---|---|---|---|---|---|---|---|---|---|---|---|---|---|---|---|---|---|---|---|---|---|---|---|---|\n",
       "| Rank |  2.522176e+03 |  9.213143e+03 |  2.360459e+05 |  2.376219e+02 | -8.479121e+04 |  4.173724e+05 |  7.577426e+00 |  1.782353e+05 |  7.301280e+04 |  1.418762e+05 | ...           | -6.036526e+05 |  5.554130e+04 |  1.723892e+05 |  7.070150e+04 | -4.629869e+01 | -4.386829e+01 |  1.424691e+00 |  6.473684e+00 |  6.772372e+00 |  1.095002e+01 | \n",
       "| Major_code |  9.213143e+03 |  2.865132e+06 |  2.152817e+07 |  2.166933e+05 |  1.752468e+06 |  3.360033e+06 |  2.872270e+01 |  1.727052e+07 |  1.449942e+07 |  4.849552e+06 | ...           | -2.398079e+06 |  1.483955e+06 |  9.380528e+06 |  2.654423e+06 | -2.689080e+02 | -2.980406e+02 |  2.055710e+02 |  4.028129e+02 |  3.518963e+02 |  2.252355e+03 | \n",
       "| Total |  2.360459e+05 |  2.152817e+07 |  4.028313e+09 |  3.718309e+07 |  4.666856e+08 |  1.252311e+09 |  7.693770e+02 |  3.209902e+09 |  2.696848e+09 |  8.850833e+08 | ...           | -8.503182e+07 |  1.084123e+09 |  1.424014e+09 |  4.131826e+08 | -8.041916e+03 | -6.982867e+03 |  4.665008e+03 |  6.197253e+04 |  6.265733e+04 | -2.134544e+02 | \n",
       "| Sample_size |  2.376219e+02 |  2.166933e+05 |  3.718309e+07 |  3.838773e+05 |  3.019064e+06 |  8.691361e+06 |  1.745223e+00 |  3.033399e+07 |  2.603421e+07 |  7.496541e+06 | ...           | -5.405640e+05 |  9.270676e+06 |  1.351827e+07 |  3.708269e+06 | -3.553291e+01 | -4.193713e+01 |  2.945240e+01 |  5.712164e+02 |  5.981469e+02 | -1.505043e+02 | \n",
       "| Men | -8.479121e+04 |  1.752468e+06 |  4.666856e+08 |  3.019064e+06 |  7.908571e+08 |  7.766743e+08 | -7.413401e+02 |  3.323457e+08 |  2.789987e+08 |  1.105749e+08 | ...           |  1.273078e+07 |  1.287434e+08 |  1.246709e+08 |  4.171915e+07 |  6.201528e+02 |  6.298477e+02 |  3.779337e+03 |  7.573743e+03 |  6.204935e+03 |  1.318596e+04 | \n",
       "| Women |  4.173724e+05 |  3.360033e+06 |  1.252311e+09 |  8.691361e+06 |  7.766743e+08 |  1.685413e+09 |  2.809019e+03 |  9.647258e+08 |  7.545094e+08 |  3.338085e+08 | ...           | -1.052033e+08 |  5.350672e+08 |  3.505233e+08 |  1.208185e+08 | -8.661969e+03 | -7.612486e+03 |  1.817788e+03 |  1.773568e+04 |  1.855033e+04 |  1.798495e+04 | \n",
       "| ShareWomen |  7.577426e+00 |  2.872270e+01 |  7.693770e+02 |  1.745223e+00 | -7.413401e+02 |  2.809019e+03 |  5.342361e-02 |  6.446723e+02 |  3.143200e+02 |  3.828458e+02 | ...           | -1.920141e+03 |  7.399200e+02 |  2.228910e+02 |  1.209588e+02 | -1.515175e-01 | -1.421563e-01 | -9.384887e-03 |  2.008110e-03 |  1.504430e-02 |  3.322636e-02 | \n",
       "| Employed |  1.782353e+05 |  1.727052e+07 |  3.209902e+09 |  3.033399e+07 |  3.323457e+08 |  9.647258e+08 |  6.446723e+02 |  2.577250e+09 |  2.171275e+09 |  6.961330e+08 | ...           | -6.863611e+07 |  8.636084e+08 |  1.139005e+09 |  3.275257e+08 | -6.152784e+03 | -5.468267e+03 |  3.075119e+03 |  4.918202e+04 |  5.036747e+04 | -1.901265e+03 | \n",
       "| Full_time |  7.301280e+04 |  1.449942e+07 |  2.696848e+09 |  2.603421e+07 |  2.789987e+08 |  7.545094e+08 |  3.143200e+02 |  2.171275e+09 |  1.844603e+09 |  5.676785e+08 | ...           | -4.357876e+07 |  7.076437e+08 |  9.551910e+08 |  2.703884e+08 | -3.849819e+03 | -3.538669e+03 |  2.406316e+03 |  4.128787e+04 |  4.254872e+04 | -3.277673e+03 | \n",
       "| Part_time |  1.418762e+05 |  4.849552e+06 |  8.850833e+08 |  7.496541e+06 |  1.105749e+08 |  3.338085e+08 |  3.828458e+02 |  6.961330e+08 |  5.676785e+08 |  2.153651e+08 | ...           | -3.534638e+07 |  2.519880e+08 |  3.181484e+08 |  9.717274e+07 | -3.291168e+03 | -2.793787e+03 |  1.469265e+03 |  1.386107e+04 |  1.344048e+04 |  2.978635e+03 | \n",
       "| Full_time_year_round |  3.261169e+04 |  1.156705e+07 |  2.068842e+09 |  2.028026e+07 |  2.031369e+08 |  5.570620e+08 |  1.742065e+02 |  1.671531e+09 |  1.424356e+09 |  4.293576e+08 | ...           | -2.963055e+07 |  5.351540e+08 |  7.355318e+08 |  2.063831e+08 | -2.531557e+03 | -2.428736e+03 |  1.660530e+03 |  3.159600e+04 |  3.280466e+04 | -3.354902e+03 | \n",
       "| Unemployed |  1.847891e+04 |  1.558784e+06 |  2.549303e+08 |  2.343454e+06 |  3.070417e+07 |  7.425780e+07 |  2.570023e+01 |  2.026721e+08 |  1.699014e+08 |  5.714467e+07 | ...           | -6.152788e+06 |  6.272134e+07 |  9.394767e+07 |  2.739388e+07 | -5.678385e+02 | -5.215063e+02 |  6.747843e+02 |  4.116053e+03 |  3.934201e+03 |  5.613174e+02 | \n",
       "| Unemployment_rate |  1.000660e-01 |  6.487224e+00 |  1.386878e+02 |  9.882760e-01 |  1.170072e+02 |  5.284399e+01 | -2.390768e-04 |  9.270371e+01 |  7.245660e+01 |  4.514349e+01 | ...           | -1.951225e+01 | -1.439861e+01 |  7.912716e+01 |  2.566696e+01 | -3.161509e-03 | -3.315936e-03 |  3.008212e-02 |  7.307599e-03 |  2.616208e-03 |  9.362232e-03 | \n",
       "| Median | -5.046461e+05 | -3.428559e+06 | -8.032857e+07 | -4.824307e+05 |  7.245558e+06 | -8.757150e+07 | -1.635319e+03 | -6.290511e+07 | -4.070767e+07 | -3.213879e+07 | ...           |  1.551002e+08 | -1.236578e+07 | -4.786881e+07 | -1.678438e+07 |  1.176870e+04 |  1.150367e+04 | -9.389569e+02 | -2.057310e+03 | -2.113729e+03 | -1.629158e+03 | \n",
       "| P25th | -3.389110e+05 | -2.591606e+06 | -4.006665e+07 | -1.220915e+05 |  1.257804e+07 | -4.355289e+07 | -1.115900e+03 | -2.961673e+07 | -1.537801e+07 | -2.018603e+07 | ...           |  1.016509e+08 | -1.508005e+06 | -2.963967e+07 | -1.089240e+07 |  8.364968e+03 |  8.197850e+03 | -6.462107e+02 | -1.395322e+03 | -1.207951e+03 |  4.221780e+02 | \n",
       "| P75th | -6.036526e+05 | -2.398079e+06 | -8.503182e+07 | -5.405640e+05 |  1.273078e+07 | -1.052033e+08 | -1.920141e+03 | -6.863611e+07 | -4.357876e+07 | -3.534638e+07 | ...           |  2.227195e+08 | -1.887092e+07 | -5.060108e+07 | -1.832471e+07 |  1.383590e+04 |  1.348268e+04 | -2.128961e+02 | -1.907602e+03 | -2.448181e+03 |  4.255338e+02 | \n",
       "| College_jobs |  5.554130e+04 |  1.483955e+06 |  1.084123e+09 |  9.270676e+06 |  1.287434e+08 |  5.350672e+08 |  7.399200e+02 |  8.636084e+08 |  7.076437e+08 |  2.519880e+08 | ...           | -1.887092e+07 |  4.554444e+08 |  3.117126e+08 |  9.647088e+07 | -1.676955e+03 | -1.074943e+03 | -3.739789e+02 |  1.505380e+04 |  1.678415e+04 |  3.698811e+03 | \n",
       "| Non_college_jobs |  1.723892e+05 |  9.380528e+06 |  1.424014e+09 |  1.351827e+07 |  1.246709e+08 |  3.505233e+08 |  2.228910e+02 |  1.139005e+09 |  9.551910e+08 |  3.181484e+08 | ...           | -5.060108e+07 |  3.117126e+08 |  5.682193e+08 |  1.618510e+08 | -4.339531e+03 | -4.161179e+03 |  2.479955e+03 |  2.299447e+04 |  2.217731e+04 | -3.388515e+02 | \n",
       "| Low_wage_jobs |  7.070150e+04 |  2.654423e+06 |  4.131826e+08 |  3.708269e+06 |  4.171915e+07 |  1.208185e+08 |  1.209588e+02 |  3.275257e+08 |  2.703884e+08 |  9.717274e+07 | ...           | -1.832471e+07 |  9.647088e+07 |  1.618510e+08 |  4.842748e+07 | -1.600628e+03 | -1.459046e+03 |  8.533961e+02 |  6.679772e+03 |  6.335155e+03 | -9.646362e+01 | \n",
       "| normalized_gradmedian | -4.629869e+01 | -2.689080e+02 | -8.041916e+03 | -3.553291e+01 |  6.201528e+02 | -8.661969e+03 | -1.515175e-01 | -6.152784e+03 | -3.849819e+03 | -3.291168e+03 | ...           |  1.383590e+04 | -1.676955e+03 | -4.339531e+03 | -1.600628e+03 |  1.140317e+00 |  1.023039e+00 | -8.204134e-02 | -1.929825e-01 | -1.987964e-01 | -7.581939e-02 | \n",
       "| normalized_gradmedian_1 | -4.386829e+01 | -2.980406e+02 | -6.982867e+03 | -4.193713e+01 |  6.298477e+02 | -7.612486e+03 | -1.421563e-01 | -5.468267e+03 | -3.538669e+03 | -2.793787e+03 | ...           |  1.348268e+04 | -1.074943e+03 | -4.161179e+03 | -1.459046e+03 |  1.023039e+00 |  1.000000e+00 | -8.162241e-02 | -1.788395e-01 | -1.837440e-01 | -1.416208e-01 | \n",
       "| normalized_gradundemploymentrate |  1.424691e+00 |  2.055710e+02 |  4.665008e+03 |  2.945240e+01 |  3.779337e+03 |  1.817788e+03 | -9.384887e-03 |  3.075119e+03 |  2.406316e+03 |  1.469265e+03 | ...           | -2.128961e+02 | -3.739789e+02 |  2.479955e+03 |  8.533961e+02 | -8.204134e-02 | -8.162241e-02 |  1.092717e+00 |  2.456140e-01 |  7.034544e-02 |  3.051136e-01 | \n",
       "| normalized_gradunemployednum |  6.473684e+00 |  4.028129e+02 |  6.197253e+04 |  5.712164e+02 |  7.573743e+03 |  1.773568e+04 |  2.008110e-03 |  4.918202e+04 |  4.128787e+04 |  1.386107e+04 | ...           | -1.907602e+03 |  1.505380e+04 |  2.299447e+04 |  6.679772e+03 | -1.929825e-01 | -1.788395e-01 |  2.456140e-01 |  1.134503e+00 |  1.040936e+00 |  3.508772e-02 | \n",
       "| normalized_grademployednum |  6.772372e+00 |  3.518963e+02 |  6.265733e+04 |  5.981469e+02 |  6.204935e+03 |  1.855033e+04 |  1.504430e-02 |  5.036747e+04 |  4.254872e+04 |  1.344048e+04 | ...           | -2.448181e+03 |  1.678415e+04 |  2.217731e+04 |  6.335155e+03 | -1.987964e-01 | -1.837440e-01 |  7.034544e-02 |  1.040936e+00 |  1.116925e+00 | -2.692098e-01 | \n",
       "| Major_category_n |  1.095002e+01 |  2.252355e+03 | -2.134544e+02 | -1.505043e+02 |  1.318596e+04 |  1.798495e+04 |  3.322636e-02 | -1.901265e+03 | -3.277673e+03 |  2.978635e+03 | ...           |  4.255338e+02 |  3.698811e+03 | -3.388515e+02 | -9.646362e+01 | -7.581939e-02 | -1.416208e-01 |  3.051136e-01 |  3.508772e-02 | -2.692098e-01 |  1.798708e+01 | \n",
       "\n",
       "\n"
      ],
      "text/plain": [
       "                                 Rank          Major_code    Total        \n",
       "Rank                              2.522176e+03  9.213143e+03  2.360459e+05\n",
       "Major_code                        9.213143e+03  2.865132e+06  2.152817e+07\n",
       "Total                             2.360459e+05  2.152817e+07  4.028313e+09\n",
       "Sample_size                       2.376219e+02  2.166933e+05  3.718309e+07\n",
       "Men                              -8.479121e+04  1.752468e+06  4.666856e+08\n",
       "Women                             4.173724e+05  3.360033e+06  1.252311e+09\n",
       "ShareWomen                        7.577426e+00  2.872270e+01  7.693770e+02\n",
       "Employed                          1.782353e+05  1.727052e+07  3.209902e+09\n",
       "Full_time                         7.301280e+04  1.449942e+07  2.696848e+09\n",
       "Part_time                         1.418762e+05  4.849552e+06  8.850833e+08\n",
       "Full_time_year_round              3.261169e+04  1.156705e+07  2.068842e+09\n",
       "Unemployed                        1.847891e+04  1.558784e+06  2.549303e+08\n",
       "Unemployment_rate                 1.000660e-01  6.487224e+00  1.386878e+02\n",
       "Median                           -5.046461e+05 -3.428559e+06 -8.032857e+07\n",
       "P25th                            -3.389110e+05 -2.591606e+06 -4.006665e+07\n",
       "P75th                            -6.036526e+05 -2.398079e+06 -8.503182e+07\n",
       "College_jobs                      5.554130e+04  1.483955e+06  1.084123e+09\n",
       "Non_college_jobs                  1.723892e+05  9.380528e+06  1.424014e+09\n",
       "Low_wage_jobs                     7.070150e+04  2.654423e+06  4.131826e+08\n",
       "normalized_gradmedian            -4.629869e+01 -2.689080e+02 -8.041916e+03\n",
       "normalized_gradmedian_1          -4.386829e+01 -2.980406e+02 -6.982867e+03\n",
       "normalized_gradundemploymentrate  1.424691e+00  2.055710e+02  4.665008e+03\n",
       "normalized_gradunemployednum      6.473684e+00  4.028129e+02  6.197253e+04\n",
       "normalized_grademployednum        6.772372e+00  3.518963e+02  6.265733e+04\n",
       "Major_category_n                  1.095002e+01  2.252355e+03 -2.134544e+02\n",
       "                                 Sample_size   Men           Women        \n",
       "Rank                              2.376219e+02 -8.479121e+04  4.173724e+05\n",
       "Major_code                        2.166933e+05  1.752468e+06  3.360033e+06\n",
       "Total                             3.718309e+07  4.666856e+08  1.252311e+09\n",
       "Sample_size                       3.838773e+05  3.019064e+06  8.691361e+06\n",
       "Men                               3.019064e+06  7.908571e+08  7.766743e+08\n",
       "Women                             8.691361e+06  7.766743e+08  1.685413e+09\n",
       "ShareWomen                        1.745223e+00 -7.413401e+02  2.809019e+03\n",
       "Employed                          3.033399e+07  3.323457e+08  9.647258e+08\n",
       "Full_time                         2.603421e+07  2.789987e+08  7.545094e+08\n",
       "Part_time                         7.496541e+06  1.105749e+08  3.338085e+08\n",
       "Full_time_year_round              2.028026e+07  2.031369e+08  5.570620e+08\n",
       "Unemployed                        2.343454e+06  3.070417e+07  7.425780e+07\n",
       "Unemployment_rate                 9.882760e-01  1.170072e+02  5.284399e+01\n",
       "Median                           -4.824307e+05  7.245558e+06 -8.757150e+07\n",
       "P25th                            -1.220915e+05  1.257804e+07 -4.355289e+07\n",
       "P75th                            -5.405640e+05  1.273078e+07 -1.052033e+08\n",
       "College_jobs                      9.270676e+06  1.287434e+08  5.350672e+08\n",
       "Non_college_jobs                  1.351827e+07  1.246709e+08  3.505233e+08\n",
       "Low_wage_jobs                     3.708269e+06  4.171915e+07  1.208185e+08\n",
       "normalized_gradmedian            -3.553291e+01  6.201528e+02 -8.661969e+03\n",
       "normalized_gradmedian_1          -4.193713e+01  6.298477e+02 -7.612486e+03\n",
       "normalized_gradundemploymentrate  2.945240e+01  3.779337e+03  1.817788e+03\n",
       "normalized_gradunemployednum      5.712164e+02  7.573743e+03  1.773568e+04\n",
       "normalized_grademployednum        5.981469e+02  6.204935e+03  1.855033e+04\n",
       "Major_category_n                 -1.505043e+02  1.318596e+04  1.798495e+04\n",
       "                                 ShareWomen    Employed      Full_time    \n",
       "Rank                              7.577426e+00  1.782353e+05  7.301280e+04\n",
       "Major_code                        2.872270e+01  1.727052e+07  1.449942e+07\n",
       "Total                             7.693770e+02  3.209902e+09  2.696848e+09\n",
       "Sample_size                       1.745223e+00  3.033399e+07  2.603421e+07\n",
       "Men                              -7.413401e+02  3.323457e+08  2.789987e+08\n",
       "Women                             2.809019e+03  9.647258e+08  7.545094e+08\n",
       "ShareWomen                        5.342361e-02  6.446723e+02  3.143200e+02\n",
       "Employed                          6.446723e+02  2.577250e+09  2.171275e+09\n",
       "Full_time                         3.143200e+02  2.171275e+09  1.844603e+09\n",
       "Part_time                         3.828458e+02  6.961330e+08  5.676785e+08\n",
       "Full_time_year_round              1.742065e+02  1.671531e+09  1.424356e+09\n",
       "Unemployed                        2.570023e+01  2.026721e+08  1.699014e+08\n",
       "Unemployment_rate                -2.390768e-04  9.270371e+01  7.245660e+01\n",
       "Median                           -1.635319e+03 -6.290511e+07 -4.070767e+07\n",
       "P25th                            -1.115900e+03 -2.961673e+07 -1.537801e+07\n",
       "P75th                            -1.920141e+03 -6.863611e+07 -4.357876e+07\n",
       "College_jobs                      7.399200e+02  8.636084e+08  7.076437e+08\n",
       "Non_college_jobs                  2.228910e+02  1.139005e+09  9.551910e+08\n",
       "Low_wage_jobs                     1.209588e+02  3.275257e+08  2.703884e+08\n",
       "normalized_gradmedian            -1.515175e-01 -6.152784e+03 -3.849819e+03\n",
       "normalized_gradmedian_1          -1.421563e-01 -5.468267e+03 -3.538669e+03\n",
       "normalized_gradundemploymentrate -9.384887e-03  3.075119e+03  2.406316e+03\n",
       "normalized_gradunemployednum      2.008110e-03  4.918202e+04  4.128787e+04\n",
       "normalized_grademployednum        1.504430e-02  5.036747e+04  4.254872e+04\n",
       "Major_category_n                  3.322636e-02 -1.901265e+03 -3.277673e+03\n",
       "                                 Part_time     ... P75th         College_jobs \n",
       "Rank                              1.418762e+05 ... -6.036526e+05  5.554130e+04\n",
       "Major_code                        4.849552e+06 ... -2.398079e+06  1.483955e+06\n",
       "Total                             8.850833e+08 ... -8.503182e+07  1.084123e+09\n",
       "Sample_size                       7.496541e+06 ... -5.405640e+05  9.270676e+06\n",
       "Men                               1.105749e+08 ...  1.273078e+07  1.287434e+08\n",
       "Women                             3.338085e+08 ... -1.052033e+08  5.350672e+08\n",
       "ShareWomen                        3.828458e+02 ... -1.920141e+03  7.399200e+02\n",
       "Employed                          6.961330e+08 ... -6.863611e+07  8.636084e+08\n",
       "Full_time                         5.676785e+08 ... -4.357876e+07  7.076437e+08\n",
       "Part_time                         2.153651e+08 ... -3.534638e+07  2.519880e+08\n",
       "Full_time_year_round              4.293576e+08 ... -2.963055e+07  5.351540e+08\n",
       "Unemployed                        5.714467e+07 ... -6.152788e+06  6.272134e+07\n",
       "Unemployment_rate                 4.514349e+01 ... -1.951225e+01 -1.439861e+01\n",
       "Median                           -3.213879e+07 ...  1.551002e+08 -1.236578e+07\n",
       "P25th                            -2.018603e+07 ...  1.016509e+08 -1.508005e+06\n",
       "P75th                            -3.534638e+07 ...  2.227195e+08 -1.887092e+07\n",
       "College_jobs                      2.519880e+08 ... -1.887092e+07  4.554444e+08\n",
       "Non_college_jobs                  3.181484e+08 ... -5.060108e+07  3.117126e+08\n",
       "Low_wage_jobs                     9.717274e+07 ... -1.832471e+07  9.647088e+07\n",
       "normalized_gradmedian            -3.291168e+03 ...  1.383590e+04 -1.676955e+03\n",
       "normalized_gradmedian_1          -2.793787e+03 ...  1.348268e+04 -1.074943e+03\n",
       "normalized_gradundemploymentrate  1.469265e+03 ... -2.128961e+02 -3.739789e+02\n",
       "normalized_gradunemployednum      1.386107e+04 ... -1.907602e+03  1.505380e+04\n",
       "normalized_grademployednum        1.344048e+04 ... -2.448181e+03  1.678415e+04\n",
       "Major_category_n                  2.978635e+03 ...  4.255338e+02  3.698811e+03\n",
       "                                 Non_college_jobs Low_wage_jobs\n",
       "Rank                              1.723892e+05     7.070150e+04\n",
       "Major_code                        9.380528e+06     2.654423e+06\n",
       "Total                             1.424014e+09     4.131826e+08\n",
       "Sample_size                       1.351827e+07     3.708269e+06\n",
       "Men                               1.246709e+08     4.171915e+07\n",
       "Women                             3.505233e+08     1.208185e+08\n",
       "ShareWomen                        2.228910e+02     1.209588e+02\n",
       "Employed                          1.139005e+09     3.275257e+08\n",
       "Full_time                         9.551910e+08     2.703884e+08\n",
       "Part_time                         3.181484e+08     9.717274e+07\n",
       "Full_time_year_round              7.355318e+08     2.063831e+08\n",
       "Unemployed                        9.394767e+07     2.739388e+07\n",
       "Unemployment_rate                 7.912716e+01     2.566696e+01\n",
       "Median                           -4.786881e+07    -1.678438e+07\n",
       "P25th                            -2.963967e+07    -1.089240e+07\n",
       "P75th                            -5.060108e+07    -1.832471e+07\n",
       "College_jobs                      3.117126e+08     9.647088e+07\n",
       "Non_college_jobs                  5.682193e+08     1.618510e+08\n",
       "Low_wage_jobs                     1.618510e+08     4.842748e+07\n",
       "normalized_gradmedian            -4.339531e+03    -1.600628e+03\n",
       "normalized_gradmedian_1          -4.161179e+03    -1.459046e+03\n",
       "normalized_gradundemploymentrate  2.479955e+03     8.533961e+02\n",
       "normalized_gradunemployednum      2.299447e+04     6.679772e+03\n",
       "normalized_grademployednum        2.217731e+04     6.335155e+03\n",
       "Major_category_n                 -3.388515e+02    -9.646362e+01\n",
       "                                 normalized_gradmedian normalized_gradmedian_1\n",
       "Rank                             -4.629869e+01         -4.386829e+01          \n",
       "Major_code                       -2.689080e+02         -2.980406e+02          \n",
       "Total                            -8.041916e+03         -6.982867e+03          \n",
       "Sample_size                      -3.553291e+01         -4.193713e+01          \n",
       "Men                               6.201528e+02          6.298477e+02          \n",
       "Women                            -8.661969e+03         -7.612486e+03          \n",
       "ShareWomen                       -1.515175e-01         -1.421563e-01          \n",
       "Employed                         -6.152784e+03         -5.468267e+03          \n",
       "Full_time                        -3.849819e+03         -3.538669e+03          \n",
       "Part_time                        -3.291168e+03         -2.793787e+03          \n",
       "Full_time_year_round             -2.531557e+03         -2.428736e+03          \n",
       "Unemployed                       -5.678385e+02         -5.215063e+02          \n",
       "Unemployment_rate                -3.161509e-03         -3.315936e-03          \n",
       "Median                            1.176870e+04          1.150367e+04          \n",
       "P25th                             8.364968e+03          8.197850e+03          \n",
       "P75th                             1.383590e+04          1.348268e+04          \n",
       "College_jobs                     -1.676955e+03         -1.074943e+03          \n",
       "Non_college_jobs                 -4.339531e+03         -4.161179e+03          \n",
       "Low_wage_jobs                    -1.600628e+03         -1.459046e+03          \n",
       "normalized_gradmedian             1.140317e+00          1.023039e+00          \n",
       "normalized_gradmedian_1           1.023039e+00          1.000000e+00          \n",
       "normalized_gradundemploymentrate -8.204134e-02         -8.162241e-02          \n",
       "normalized_gradunemployednum     -1.929825e-01         -1.788395e-01          \n",
       "normalized_grademployednum       -1.987964e-01         -1.837440e-01          \n",
       "Major_category_n                 -7.581939e-02         -1.416208e-01          \n",
       "                                 normalized_gradundemploymentrate\n",
       "Rank                              1.424691e+00                   \n",
       "Major_code                        2.055710e+02                   \n",
       "Total                             4.665008e+03                   \n",
       "Sample_size                       2.945240e+01                   \n",
       "Men                               3.779337e+03                   \n",
       "Women                             1.817788e+03                   \n",
       "ShareWomen                       -9.384887e-03                   \n",
       "Employed                          3.075119e+03                   \n",
       "Full_time                         2.406316e+03                   \n",
       "Part_time                         1.469265e+03                   \n",
       "Full_time_year_round              1.660530e+03                   \n",
       "Unemployed                        6.747843e+02                   \n",
       "Unemployment_rate                 3.008212e-02                   \n",
       "Median                           -9.389569e+02                   \n",
       "P25th                            -6.462107e+02                   \n",
       "P75th                            -2.128961e+02                   \n",
       "College_jobs                     -3.739789e+02                   \n",
       "Non_college_jobs                  2.479955e+03                   \n",
       "Low_wage_jobs                     8.533961e+02                   \n",
       "normalized_gradmedian            -8.204134e-02                   \n",
       "normalized_gradmedian_1          -8.162241e-02                   \n",
       "normalized_gradundemploymentrate  1.092717e+00                   \n",
       "normalized_gradunemployednum      2.456140e-01                   \n",
       "normalized_grademployednum        7.034544e-02                   \n",
       "Major_category_n                  3.051136e-01                   \n",
       "                                 normalized_gradunemployednum\n",
       "Rank                              6.473684e+00               \n",
       "Major_code                        4.028129e+02               \n",
       "Total                             6.197253e+04               \n",
       "Sample_size                       5.712164e+02               \n",
       "Men                               7.573743e+03               \n",
       "Women                             1.773568e+04               \n",
       "ShareWomen                        2.008110e-03               \n",
       "Employed                          4.918202e+04               \n",
       "Full_time                         4.128787e+04               \n",
       "Part_time                         1.386107e+04               \n",
       "Full_time_year_round              3.159600e+04               \n",
       "Unemployed                        4.116053e+03               \n",
       "Unemployment_rate                 7.307599e-03               \n",
       "Median                           -2.057310e+03               \n",
       "P25th                            -1.395322e+03               \n",
       "P75th                            -1.907602e+03               \n",
       "College_jobs                      1.505380e+04               \n",
       "Non_college_jobs                  2.299447e+04               \n",
       "Low_wage_jobs                     6.679772e+03               \n",
       "normalized_gradmedian            -1.929825e-01               \n",
       "normalized_gradmedian_1          -1.788395e-01               \n",
       "normalized_gradundemploymentrate  2.456140e-01               \n",
       "normalized_gradunemployednum      1.134503e+00               \n",
       "normalized_grademployednum        1.040936e+00               \n",
       "Major_category_n                  3.508772e-02               \n",
       "                                 normalized_grademployednum Major_category_n\n",
       "Rank                              6.772372e+00               1.095002e+01   \n",
       "Major_code                        3.518963e+02               2.252355e+03   \n",
       "Total                             6.265733e+04              -2.134544e+02   \n",
       "Sample_size                       5.981469e+02              -1.505043e+02   \n",
       "Men                               6.204935e+03               1.318596e+04   \n",
       "Women                             1.855033e+04               1.798495e+04   \n",
       "ShareWomen                        1.504430e-02               3.322636e-02   \n",
       "Employed                          5.036747e+04              -1.901265e+03   \n",
       "Full_time                         4.254872e+04              -3.277673e+03   \n",
       "Part_time                         1.344048e+04               2.978635e+03   \n",
       "Full_time_year_round              3.280466e+04              -3.354902e+03   \n",
       "Unemployed                        3.934201e+03               5.613174e+02   \n",
       "Unemployment_rate                 2.616208e-03               9.362232e-03   \n",
       "Median                           -2.113729e+03              -1.629158e+03   \n",
       "P25th                            -1.207951e+03               4.221780e+02   \n",
       "P75th                            -2.448181e+03               4.255338e+02   \n",
       "College_jobs                      1.678415e+04               3.698811e+03   \n",
       "Non_college_jobs                  2.217731e+04              -3.388515e+02   \n",
       "Low_wage_jobs                     6.335155e+03              -9.646362e+01   \n",
       "normalized_gradmedian            -1.987964e-01              -7.581939e-02   \n",
       "normalized_gradmedian_1          -1.837440e-01              -1.416208e-01   \n",
       "normalized_gradundemploymentrate  7.034544e-02               3.051136e-01   \n",
       "normalized_gradunemployednum      1.040936e+00               3.508772e-02   \n",
       "normalized_grademployednum        1.116925e+00              -2.692098e-01   \n",
       "Major_category_n                 -2.692098e-01               1.798708e+01   "
      ]
     },
     "metadata": {},
     "output_type": "display_data"
    },
    {
     "data": {
      "text/html": [
       "<table>\n",
       "<thead><tr><th></th><th scope=col>Rank</th><th scope=col>Major_code</th><th scope=col>Total</th><th scope=col>Sample_size</th><th scope=col>Men</th><th scope=col>Women</th><th scope=col>ShareWomen</th><th scope=col>Employed</th><th scope=col>Full_time</th><th scope=col>Part_time</th><th scope=col>...</th><th scope=col>P75th</th><th scope=col>College_jobs</th><th scope=col>Non_college_jobs</th><th scope=col>Low_wage_jobs</th><th scope=col>normalized_gradmedian</th><th scope=col>normalized_gradmedian_1</th><th scope=col>normalized_gradundemploymentrate</th><th scope=col>normalized_gradunemployednum</th><th scope=col>normalized_grademployednum</th><th scope=col>Major_category_n</th></tr></thead>\n",
       "<tbody>\n",
       "\t<tr><th scope=row>Rank</th><td> 1.000000000 </td><td> 0.10837967  </td><td> 0.0740537862</td><td> 0.007636643 </td><td>-0.06003634  </td><td> 0.20243375  </td><td> 0.652780896 </td><td> 0.069908142 </td><td> 0.03385009  </td><td> 0.19250155  </td><td>...          </td><td>-0.805416136 </td><td> 0.051821588 </td><td> 0.144000661 </td><td> 0.202299609 </td><td>-0.86331294  </td><td>-0.87350019  </td><td> 0.02713807  </td><td> 0.121021086 </td><td> 0.12759719  </td><td> 0.0514099213</td></tr>\n",
       "\t<tr><th scope=row>Major_code</th><td> 0.108379672 </td><td> 1.00000000  </td><td> 0.2003886989</td><td> 0.206622151 </td><td> 0.03681534  </td><td> 0.04835239  </td><td> 0.073415267 </td><td> 0.200980922 </td><td> 0.19944670  </td><td> 0.19522780  </td><td>...          </td><td>-0.094931892 </td><td> 0.041080026 </td><td> 0.232486082 </td><td> 0.225347036 </td><td>-0.14877113  </td><td>-0.17607719  </td><td> 0.11618111  </td><td> 0.223423165 </td><td> 0.19671179  </td><td> 0.3137502712</td></tr>\n",
       "\t<tr><th scope=row>Total</th><td> 0.074053786 </td><td> 0.20038870  </td><td> 1.0000000000</td><td> 0.945556829 </td><td> 0.26146511  </td><td> 0.48061522  </td><td> 0.052445835 </td><td> 0.996212283 </td><td> 0.98933511  </td><td> 0.95024338  </td><td>...          </td><td>-0.089771970 </td><td> 0.800385557 </td><td> 0.941227859 </td><td> 0.935480010 </td><td>-0.11865476  </td><td>-0.11002014  </td><td> 0.07031321  </td><td> 0.916716018 </td><td> 0.93411044  </td><td>-0.0007929819</td></tr>\n",
       "\t<tr><th scope=row>Sample_size</th><td> 0.007636643 </td><td> 0.20662215  </td><td> 0.9455568290</td><td> 1.000000000 </td><td> 0.17327147  </td><td> 0.34169478  </td><td> 0.012186758 </td><td> 0.964395221 </td><td> 0.97835565  </td><td> 0.82447417  </td><td>...          </td><td>-0.058461749 </td><td> 0.701128320 </td><td> 0.915307031 </td><td> 0.860060617 </td><td>-0.05370588  </td><td>-0.06768657  </td><td> 0.04547478  </td><td> 0.865568852 </td><td> 0.91348128  </td><td>-0.0572759510</td></tr>\n",
       "\t<tr><th scope=row>Men</th><td>-0.060036336 </td><td> 0.03681534  </td><td> 0.2614651137</td><td> 0.173271466 </td><td> 1.00000000  </td><td> 0.67272370  </td><td>-0.114051727 </td><td> 0.232789177 </td><td> 0.23099447  </td><td> 0.26792907  </td><td>...          </td><td> 0.030333805 </td><td> 0.214515253 </td><td> 0.185976541 </td><td> 0.213177075 </td><td> 0.02065080  </td><td> 0.02239683  </td><td> 0.12856202  </td><td> 0.252847533 </td><td> 0.20877390  </td><td> 0.1105560274</td></tr>\n",
       "\t<tr><th scope=row>Women</th><td> 0.202433746 </td><td> 0.04835239  </td><td> 0.4806152194</td><td> 0.341694782 </td><td> 0.67272370  </td><td> 1.00000000  </td><td> 0.296029427 </td><td> 0.462884266 </td><td> 0.42791742  </td><td> 0.55405968  </td><td>...          </td><td>-0.171710542 </td><td> 0.610713352 </td><td> 0.358183579 </td><td> 0.422896803 </td><td>-0.19758348  </td><td>-0.18542715  </td><td> 0.04235806  </td><td> 0.405594251 </td><td> 0.42754941  </td><td> 0.1032941595</td></tr>\n",
       "\t<tr><th scope=row>ShareWomen</th><td> 0.652780896 </td><td> 0.07341527  </td><td> 0.0524458352</td><td> 0.012186758 </td><td>-0.11405173  </td><td> 0.29602943  </td><td> 1.000000000 </td><td> 0.054940691 </td><td> 0.03166313  </td><td> 0.11286769  </td><td>...          </td><td>-0.556656730 </td><td> 0.150003186 </td><td> 0.040454611 </td><td> 0.075201255 </td><td>-0.61387987  </td><td>-0.61503467  </td><td>-0.03884262  </td><td> 0.008156769 </td><td> 0.06158761  </td><td> 0.0338950161</td></tr>\n",
       "\t<tr><th scope=row>Employed</th><td> 0.069908142 </td><td> 0.20098092  </td><td> 0.9962122825</td><td> 0.964395221 </td><td> 0.23278918  </td><td> 0.46288427  </td><td> 0.054940691 </td><td> 1.000000000 </td><td> 0.99582939  </td><td> 0.93438594  </td><td>...          </td><td>-0.090593137 </td><td> 0.797114894 </td><td> 0.941216392 </td><td> 0.927088380 </td><td>-0.11349602  </td><td>-0.10771382  </td><td> 0.05794685  </td><td> 0.909547220 </td><td> 0.93877135  </td><td>-0.0088304741</td></tr>\n",
       "\t<tr><th scope=row>Full_time</th><td> 0.033850089 </td><td> 0.19944670  </td><td> 0.9893351148</td><td> 0.978355646 </td><td> 0.23099447  </td><td> 0.42791742  </td><td> 0.031663129 </td><td> 0.995829393 </td><td> 1.00000000  </td><td> 0.90066504  </td><td>...          </td><td>-0.067989873 </td><td> 0.772050048 </td><td> 0.932997978 </td><td> 0.904670844 </td><td>-0.08394136  </td><td>-0.08239265  </td><td> 0.05359783  </td><td> 0.902543557 </td><td> 0.93739571  </td><td>-0.0179942496</td></tr>\n",
       "\t<tr><th scope=row>Part_time</th><td> 0.192501553 </td><td> 0.19522780  </td><td> 0.9502433836</td><td> 0.824474172 </td><td> 0.26792907  </td><td> 0.55405968  </td><td> 0.112867693 </td><td> 0.934385938 </td><td> 0.90066504  </td><td> 1.00000000  </td><td>...          </td><td>-0.161390590 </td><td> 0.804589888 </td><td> 0.909461032 </td><td> 0.951504609 </td><td>-0.21001467  </td><td>-0.19037313  </td><td> 0.09577639  </td><td> 0.886760410 </td><td> 0.86659311  </td><td> 0.0478574136</td></tr>\n",
       "\t<tr><th scope=row>Full_time_year_round</th><td> 0.019545013 </td><td> 0.20568404  </td><td> 0.9811062040</td><td> 0.985207266 </td><td> 0.21741525  </td><td> 0.40841398  </td><td> 0.022685482 </td><td> 0.991029433 </td><td> 0.99819978  </td><td> 0.88060632  </td><td>...          </td><td>-0.059760039 </td><td> 0.754764318 </td><td> 0.928739138 </td><td> 0.892644544 </td><td>-0.07135514  </td><td>-0.07310224  </td><td> 0.04781267  </td><td> 0.892852230 </td><td> 0.93427311  </td><td>-0.0238094758</td></tr>\n",
       "\t<tr><th scope=row>Unemployed</th><td> 0.089294235 </td><td> 0.22348488  </td><td> 0.9747527175</td><td> 0.917898934 </td><td> 0.26496160  </td><td> 0.43895857  </td><td> 0.026983919 </td><td> 0.968836122 </td><td> 0.96001962  </td><td> 0.94498031  </td><td>...          </td><td>-0.100052404 </td><td> 0.713234430 </td><td> 0.956450929 </td><td> 0.955305666 </td><td>-0.12904664  </td><td>-0.12655934  </td><td> 0.15665552  </td><td> 0.937805488 </td><td> 0.90339814  </td><td> 0.0321190576</td></tr>\n",
       "\t<tr><th scope=row>Unemployment_rate</th><td> 0.066490840 </td><td> 0.12789385  </td><td> 0.0729188373</td><td> 0.053228612 </td><td> 0.13884379  </td><td> 0.04295418  </td><td>-0.034517066 </td><td> 0.060937119 </td><td> 0.05629756  </td><td> 0.10265275  </td><td>...          </td><td>-0.043630626 </td><td>-0.022514698 </td><td> 0.110772167 </td><td> 0.123081163 </td><td>-0.09879723  </td><td>-0.11065454  </td><td> 0.96032358  </td><td> 0.228947001 </td><td> 0.08260823  </td><td> 0.0736651616</td></tr>\n",
       "\t<tr><th scope=row>Median</th><td>-0.873500190 </td><td>-0.17607719  </td><td>-0.1100201353</td><td>-0.067686565 </td><td> 0.02239683  </td><td>-0.18542715  </td><td>-0.615034666 </td><td>-0.107713821 </td><td>-0.08239265  </td><td>-0.19037313  </td><td>...          </td><td> 0.903435441 </td><td>-0.050369514 </td><td>-0.174565487 </td><td>-0.209663671 </td><td> 0.95803078  </td><td> 1.00000000  </td><td>-0.07808282  </td><td>-0.167903855 </td><td>-0.17386055  </td><td>-0.0333923256</td></tr>\n",
       "\t<tr><th scope=row>P25th</th><td>-0.736926197 </td><td>-0.16719478  </td><td>-0.0689362206</td><td>-0.021518653 </td><td> 0.04884162  </td><td>-0.11584835  </td><td>-0.527211176 </td><td>-0.063706672 </td><td>-0.03909981  </td><td>-0.15020672  </td><td>...          </td><td> 0.743803705 </td><td>-0.007716339 </td><td>-0.135781748 </td><td>-0.170924191 </td><td> 0.85541637  </td><td> 0.89521225  </td><td>-0.06750661  </td><td>-0.143053190 </td><td>-0.12481399  </td><td> 0.0108702946</td></tr>\n",
       "\t<tr><th scope=row>P75th</th><td>-0.805416136 </td><td>-0.09493189  </td><td>-0.0897719698</td><td>-0.058461749 </td><td> 0.03033380  </td><td>-0.17171054  </td><td>-0.556656730 </td><td>-0.090593137 </td><td>-0.06798987  </td><td>-0.16139059  </td><td>...          </td><td> 1.000000000 </td><td>-0.059251100 </td><td>-0.142240320 </td><td>-0.176446109 </td><td> 0.86819156  </td><td> 0.90343544  </td><td>-0.01364692  </td><td>-0.120006825 </td><td>-0.15522169  </td><td> 0.0067231784</td></tr>\n",
       "\t<tr><th scope=row>College_jobs</th><td> 0.051821588 </td><td> 0.04108003  </td><td> 0.8003855569</td><td> 0.701128320 </td><td> 0.21451525  </td><td> 0.61071335  </td><td> 0.150003186 </td><td> 0.797114894 </td><td> 0.77205005  </td><td> 0.80458989  </td><td>...          </td><td>-0.059251100 </td><td> 1.000000000 </td><td> 0.612743428 </td><td> 0.649580027 </td><td>-0.07358528  </td><td>-0.05036951  </td><td>-0.01676392  </td><td> 0.662255423 </td><td> 0.74416588  </td><td> 0.0408661879</td></tr>\n",
       "\t<tr><th scope=row>Non_college_jobs</th><td> 0.144000661 </td><td> 0.23248608  </td><td> 0.9412278586</td><td> 0.915307031 </td><td> 0.18597654  </td><td> 0.35818358  </td><td> 0.040454611 </td><td> 0.941216392 </td><td> 0.93299798  </td><td> 0.90946103  </td><td>...          </td><td>-0.142240320 </td><td> 0.612743428 </td><td> 1.000000000 </td><td> 0.975689224 </td><td>-0.17047943  </td><td>-0.17456549  </td><td> 0.09952494  </td><td> 0.905654756 </td><td> 0.88031670  </td><td>-0.0033517458</td></tr>\n",
       "\t<tr><th scope=row>Low_wage_jobs</th><td> 0.202299609 </td><td> 0.22534704  </td><td> 0.9354800101</td><td> 0.860060617 </td><td> 0.21317708  </td><td> 0.42289680  </td><td> 0.075201255 </td><td> 0.927088380 </td><td> 0.90467084  </td><td> 0.95150461  </td><td>...          </td><td>-0.176446109 </td><td> 0.649580027 </td><td> 0.975689224 </td><td> 1.000000000 </td><td>-0.21539312  </td><td>-0.20966367  </td><td> 0.11731427  </td><td> 0.901182832 </td><td> 0.86138894  </td><td>-0.0032684158</td></tr>\n",
       "\t<tr><th scope=row>normalized_gradmedian</th><td>-0.863312938 </td><td>-0.14877113  </td><td>-0.1186547612</td><td>-0.053705876 </td><td> 0.02065080  </td><td>-0.19758348  </td><td>-0.613879865 </td><td>-0.113496021 </td><td>-0.08394136  </td><td>-0.21001467  </td><td>...          </td><td> 0.868191557 </td><td>-0.073585275 </td><td>-0.170479431 </td><td>-0.215393118 </td><td> 1.00000000  </td><td> 0.95803078  </td><td>-0.07349640  </td><td>-0.169668900 </td><td>-0.17615044  </td><td>-0.0167412235</td></tr>\n",
       "\t<tr><th scope=row>normalized_gradmedian_1</th><td>-0.873500190 </td><td>-0.17607719  </td><td>-0.1100201353</td><td>-0.067686565 </td><td> 0.02239683  </td><td>-0.18542715  </td><td>-0.615034666 </td><td>-0.107713821 </td><td>-0.08239265  </td><td>-0.19037313  </td><td>...          </td><td> 0.903435441 </td><td>-0.050369514 </td><td>-0.174565487 </td><td>-0.209663671 </td><td> 0.95803078  </td><td> 1.00000000  </td><td>-0.07808282  </td><td>-0.167903855 </td><td>-0.17386055  </td><td>-0.0333923256</td></tr>\n",
       "\t<tr><th scope=row>normalized_gradundemploymentrate</th><td> 0.027138073 </td><td> 0.11618111  </td><td> 0.0703132077</td><td> 0.045474777 </td><td> 0.12856202  </td><td> 0.04235806  </td><td>-0.038842622 </td><td> 0.057946846 </td><td> 0.05359783  </td><td> 0.09577639  </td><td>...          </td><td>-0.013646922 </td><td>-0.016763919 </td><td> 0.099524944 </td><td> 0.117314268 </td><td>-0.07349640  </td><td>-0.07808282  </td><td> 1.00000000  </td><td> 0.220595409 </td><td> 0.06367516  </td><td> 0.0688219973</td></tr>\n",
       "\t<tr><th scope=row>normalized_gradunemployednum</th><td> 0.121021086 </td><td> 0.22342316  </td><td> 0.9167160184</td><td> 0.865568852 </td><td> 0.25284753  </td><td> 0.40559425  </td><td> 0.008156769 </td><td> 0.909547220 </td><td> 0.90254356  </td><td> 0.88676041  </td><td>...          </td><td>-0.120006825 </td><td> 0.662255423 </td><td> 0.905654756 </td><td> 0.901182832 </td><td>-0.16966890  </td><td>-0.16790385  </td><td> 0.22059541  </td><td> 1.000000000 </td><td> 0.92471747  </td><td> 0.0077673343</td></tr>\n",
       "\t<tr><th scope=row>normalized_grademployednum</th><td> 0.127597193 </td><td> 0.19671179  </td><td> 0.9341104388</td><td> 0.913481283 </td><td> 0.20877390  </td><td> 0.42754941  </td><td> 0.061587609 </td><td> 0.938771347 </td><td> 0.93739571  </td><td> 0.86659311  </td><td>...          </td><td>-0.155221693 </td><td> 0.744165883 </td><td> 0.880316698 </td><td> 0.861388939 </td><td>-0.17615044  </td><td>-0.17386055  </td><td> 0.06367516  </td><td> 0.924717473 </td><td> 1.00000000  </td><td>-0.0600618337</td></tr>\n",
       "\t<tr><th scope=row>Major_category_n</th><td> 0.051409921 </td><td> 0.31375027  </td><td>-0.0007929819</td><td>-0.057275951 </td><td> 0.11055603  </td><td> 0.10329416  </td><td> 0.033895016 </td><td>-0.008830474 </td><td>-0.01799425  </td><td> 0.04785741  </td><td>...          </td><td> 0.006723178 </td><td> 0.040866188 </td><td>-0.003351746 </td><td>-0.003268416 </td><td>-0.01674122  </td><td>-0.03339233  </td><td> 0.06882200  </td><td> 0.007767334 </td><td>-0.06006183  </td><td> 1.0000000000</td></tr>\n",
       "</tbody>\n",
       "</table>\n"
      ],
      "text/latex": [
       "\\begin{tabular}{r|lllllllllllllllllllllllll}\n",
       "  & Rank & Major\\_code & Total & Sample\\_size & Men & Women & ShareWomen & Employed & Full\\_time & Part\\_time & ... & P75th & College\\_jobs & Non\\_college\\_jobs & Low\\_wage\\_jobs & normalized\\_gradmedian & normalized\\_gradmedian\\_1 & normalized\\_gradundemploymentrate & normalized\\_gradunemployednum & normalized\\_grademployednum & Major\\_category\\_n\\\\\n",
       "\\hline\n",
       "\tRank &  1.000000000  &  0.10837967   &  0.0740537862 &  0.007636643  & -0.06003634   &  0.20243375   &  0.652780896  &  0.069908142  &  0.03385009   &  0.19250155   & ...           & -0.805416136  &  0.051821588  &  0.144000661  &  0.202299609  & -0.86331294   & -0.87350019   &  0.02713807   &  0.121021086  &  0.12759719   &  0.0514099213\\\\\n",
       "\tMajor\\_code &  0.108379672  &  1.00000000   &  0.2003886989 &  0.206622151  &  0.03681534   &  0.04835239   &  0.073415267  &  0.200980922  &  0.19944670   &  0.19522780   & ...           & -0.094931892  &  0.041080026  &  0.232486082  &  0.225347036  & -0.14877113   & -0.17607719   &  0.11618111   &  0.223423165  &  0.19671179   &  0.3137502712\\\\\n",
       "\tTotal &  0.074053786  &  0.20038870   &  1.0000000000 &  0.945556829  &  0.26146511   &  0.48061522   &  0.052445835  &  0.996212283  &  0.98933511   &  0.95024338   & ...           & -0.089771970  &  0.800385557  &  0.941227859  &  0.935480010  & -0.11865476   & -0.11002014   &  0.07031321   &  0.916716018  &  0.93411044   & -0.0007929819\\\\\n",
       "\tSample\\_size &  0.007636643  &  0.20662215   &  0.9455568290 &  1.000000000  &  0.17327147   &  0.34169478   &  0.012186758  &  0.964395221  &  0.97835565   &  0.82447417   & ...           & -0.058461749  &  0.701128320  &  0.915307031  &  0.860060617  & -0.05370588   & -0.06768657   &  0.04547478   &  0.865568852  &  0.91348128   & -0.0572759510\\\\\n",
       "\tMen & -0.060036336  &  0.03681534   &  0.2614651137 &  0.173271466  &  1.00000000   &  0.67272370   & -0.114051727  &  0.232789177  &  0.23099447   &  0.26792907   & ...           &  0.030333805  &  0.214515253  &  0.185976541  &  0.213177075  &  0.02065080   &  0.02239683   &  0.12856202   &  0.252847533  &  0.20877390   &  0.1105560274\\\\\n",
       "\tWomen &  0.202433746  &  0.04835239   &  0.4806152194 &  0.341694782  &  0.67272370   &  1.00000000   &  0.296029427  &  0.462884266  &  0.42791742   &  0.55405968   & ...           & -0.171710542  &  0.610713352  &  0.358183579  &  0.422896803  & -0.19758348   & -0.18542715   &  0.04235806   &  0.405594251  &  0.42754941   &  0.1032941595\\\\\n",
       "\tShareWomen &  0.652780896  &  0.07341527   &  0.0524458352 &  0.012186758  & -0.11405173   &  0.29602943   &  1.000000000  &  0.054940691  &  0.03166313   &  0.11286769   & ...           & -0.556656730  &  0.150003186  &  0.040454611  &  0.075201255  & -0.61387987   & -0.61503467   & -0.03884262   &  0.008156769  &  0.06158761   &  0.0338950161\\\\\n",
       "\tEmployed &  0.069908142  &  0.20098092   &  0.9962122825 &  0.964395221  &  0.23278918   &  0.46288427   &  0.054940691  &  1.000000000  &  0.99582939   &  0.93438594   & ...           & -0.090593137  &  0.797114894  &  0.941216392  &  0.927088380  & -0.11349602   & -0.10771382   &  0.05794685   &  0.909547220  &  0.93877135   & -0.0088304741\\\\\n",
       "\tFull\\_time &  0.033850089  &  0.19944670   &  0.9893351148 &  0.978355646  &  0.23099447   &  0.42791742   &  0.031663129  &  0.995829393  &  1.00000000   &  0.90066504   & ...           & -0.067989873  &  0.772050048  &  0.932997978  &  0.904670844  & -0.08394136   & -0.08239265   &  0.05359783   &  0.902543557  &  0.93739571   & -0.0179942496\\\\\n",
       "\tPart\\_time &  0.192501553  &  0.19522780   &  0.9502433836 &  0.824474172  &  0.26792907   &  0.55405968   &  0.112867693  &  0.934385938  &  0.90066504   &  1.00000000   & ...           & -0.161390590  &  0.804589888  &  0.909461032  &  0.951504609  & -0.21001467   & -0.19037313   &  0.09577639   &  0.886760410  &  0.86659311   &  0.0478574136\\\\\n",
       "\tFull\\_time\\_year\\_round &  0.019545013  &  0.20568404   &  0.9811062040 &  0.985207266  &  0.21741525   &  0.40841398   &  0.022685482  &  0.991029433  &  0.99819978   &  0.88060632   & ...           & -0.059760039  &  0.754764318  &  0.928739138  &  0.892644544  & -0.07135514   & -0.07310224   &  0.04781267   &  0.892852230  &  0.93427311   & -0.0238094758\\\\\n",
       "\tUnemployed &  0.089294235  &  0.22348488   &  0.9747527175 &  0.917898934  &  0.26496160   &  0.43895857   &  0.026983919  &  0.968836122  &  0.96001962   &  0.94498031   & ...           & -0.100052404  &  0.713234430  &  0.956450929  &  0.955305666  & -0.12904664   & -0.12655934   &  0.15665552   &  0.937805488  &  0.90339814   &  0.0321190576\\\\\n",
       "\tUnemployment\\_rate &  0.066490840  &  0.12789385   &  0.0729188373 &  0.053228612  &  0.13884379   &  0.04295418   & -0.034517066  &  0.060937119  &  0.05629756   &  0.10265275   & ...           & -0.043630626  & -0.022514698  &  0.110772167  &  0.123081163  & -0.09879723   & -0.11065454   &  0.96032358   &  0.228947001  &  0.08260823   &  0.0736651616\\\\\n",
       "\tMedian & -0.873500190  & -0.17607719   & -0.1100201353 & -0.067686565  &  0.02239683   & -0.18542715   & -0.615034666  & -0.107713821  & -0.08239265   & -0.19037313   & ...           &  0.903435441  & -0.050369514  & -0.174565487  & -0.209663671  &  0.95803078   &  1.00000000   & -0.07808282   & -0.167903855  & -0.17386055   & -0.0333923256\\\\\n",
       "\tP25th & -0.736926197  & -0.16719478   & -0.0689362206 & -0.021518653  &  0.04884162   & -0.11584835   & -0.527211176  & -0.063706672  & -0.03909981   & -0.15020672   & ...           &  0.743803705  & -0.007716339  & -0.135781748  & -0.170924191  &  0.85541637   &  0.89521225   & -0.06750661   & -0.143053190  & -0.12481399   &  0.0108702946\\\\\n",
       "\tP75th & -0.805416136  & -0.09493189   & -0.0897719698 & -0.058461749  &  0.03033380   & -0.17171054   & -0.556656730  & -0.090593137  & -0.06798987   & -0.16139059   & ...           &  1.000000000  & -0.059251100  & -0.142240320  & -0.176446109  &  0.86819156   &  0.90343544   & -0.01364692   & -0.120006825  & -0.15522169   &  0.0067231784\\\\\n",
       "\tCollege\\_jobs &  0.051821588  &  0.04108003   &  0.8003855569 &  0.701128320  &  0.21451525   &  0.61071335   &  0.150003186  &  0.797114894  &  0.77205005   &  0.80458989   & ...           & -0.059251100  &  1.000000000  &  0.612743428  &  0.649580027  & -0.07358528   & -0.05036951   & -0.01676392   &  0.662255423  &  0.74416588   &  0.0408661879\\\\\n",
       "\tNon\\_college\\_jobs &  0.144000661  &  0.23248608   &  0.9412278586 &  0.915307031  &  0.18597654   &  0.35818358   &  0.040454611  &  0.941216392  &  0.93299798   &  0.90946103   & ...           & -0.142240320  &  0.612743428  &  1.000000000  &  0.975689224  & -0.17047943   & -0.17456549   &  0.09952494   &  0.905654756  &  0.88031670   & -0.0033517458\\\\\n",
       "\tLow\\_wage\\_jobs &  0.202299609  &  0.22534704   &  0.9354800101 &  0.860060617  &  0.21317708   &  0.42289680   &  0.075201255  &  0.927088380  &  0.90467084   &  0.95150461   & ...           & -0.176446109  &  0.649580027  &  0.975689224  &  1.000000000  & -0.21539312   & -0.20966367   &  0.11731427   &  0.901182832  &  0.86138894   & -0.0032684158\\\\\n",
       "\tnormalized\\_gradmedian & -0.863312938  & -0.14877113   & -0.1186547612 & -0.053705876  &  0.02065080   & -0.19758348   & -0.613879865  & -0.113496021  & -0.08394136   & -0.21001467   & ...           &  0.868191557  & -0.073585275  & -0.170479431  & -0.215393118  &  1.00000000   &  0.95803078   & -0.07349640   & -0.169668900  & -0.17615044   & -0.0167412235\\\\\n",
       "\tnormalized\\_gradmedian\\_1 & -0.873500190  & -0.17607719   & -0.1100201353 & -0.067686565  &  0.02239683   & -0.18542715   & -0.615034666  & -0.107713821  & -0.08239265   & -0.19037313   & ...           &  0.903435441  & -0.050369514  & -0.174565487  & -0.209663671  &  0.95803078   &  1.00000000   & -0.07808282   & -0.167903855  & -0.17386055   & -0.0333923256\\\\\n",
       "\tnormalized\\_gradundemploymentrate &  0.027138073  &  0.11618111   &  0.0703132077 &  0.045474777  &  0.12856202   &  0.04235806   & -0.038842622  &  0.057946846  &  0.05359783   &  0.09577639   & ...           & -0.013646922  & -0.016763919  &  0.099524944  &  0.117314268  & -0.07349640   & -0.07808282   &  1.00000000   &  0.220595409  &  0.06367516   &  0.0688219973\\\\\n",
       "\tnormalized\\_gradunemployednum &  0.121021086  &  0.22342316   &  0.9167160184 &  0.865568852  &  0.25284753   &  0.40559425   &  0.008156769  &  0.909547220  &  0.90254356   &  0.88676041   & ...           & -0.120006825  &  0.662255423  &  0.905654756  &  0.901182832  & -0.16966890   & -0.16790385   &  0.22059541   &  1.000000000  &  0.92471747   &  0.0077673343\\\\\n",
       "\tnormalized\\_grademployednum &  0.127597193  &  0.19671179   &  0.9341104388 &  0.913481283  &  0.20877390   &  0.42754941   &  0.061587609  &  0.938771347  &  0.93739571   &  0.86659311   & ...           & -0.155221693  &  0.744165883  &  0.880316698  &  0.861388939  & -0.17615044   & -0.17386055   &  0.06367516   &  0.924717473  &  1.00000000   & -0.0600618337\\\\\n",
       "\tMajor\\_category\\_n &  0.051409921  &  0.31375027   & -0.0007929819 & -0.057275951  &  0.11055603   &  0.10329416   &  0.033895016  & -0.008830474  & -0.01799425   &  0.04785741   & ...           &  0.006723178  &  0.040866188  & -0.003351746  & -0.003268416  & -0.01674122   & -0.03339233   &  0.06882200   &  0.007767334  & -0.06006183   &  1.0000000000\\\\\n",
       "\\end{tabular}\n"
      ],
      "text/markdown": [
       "\n",
       "| <!--/--> | Rank | Major_code | Total | Sample_size | Men | Women | ShareWomen | Employed | Full_time | Part_time | ... | P75th | College_jobs | Non_college_jobs | Low_wage_jobs | normalized_gradmedian | normalized_gradmedian_1 | normalized_gradundemploymentrate | normalized_gradunemployednum | normalized_grademployednum | Major_category_n | \n",
       "|---|---|---|---|---|---|---|---|---|---|---|---|---|---|---|---|---|---|---|---|---|---|---|---|---|\n",
       "| Rank |  1.000000000  |  0.10837967   |  0.0740537862 |  0.007636643  | -0.06003634   |  0.20243375   |  0.652780896  |  0.069908142  |  0.03385009   |  0.19250155   | ...           | -0.805416136  |  0.051821588  |  0.144000661  |  0.202299609  | -0.86331294   | -0.87350019   |  0.02713807   |  0.121021086  |  0.12759719   |  0.0514099213 | \n",
       "| Major_code |  0.108379672  |  1.00000000   |  0.2003886989 |  0.206622151  |  0.03681534   |  0.04835239   |  0.073415267  |  0.200980922  |  0.19944670   |  0.19522780   | ...           | -0.094931892  |  0.041080026  |  0.232486082  |  0.225347036  | -0.14877113   | -0.17607719   |  0.11618111   |  0.223423165  |  0.19671179   |  0.3137502712 | \n",
       "| Total |  0.074053786  |  0.20038870   |  1.0000000000 |  0.945556829  |  0.26146511   |  0.48061522   |  0.052445835  |  0.996212283  |  0.98933511   |  0.95024338   | ...           | -0.089771970  |  0.800385557  |  0.941227859  |  0.935480010  | -0.11865476   | -0.11002014   |  0.07031321   |  0.916716018  |  0.93411044   | -0.0007929819 | \n",
       "| Sample_size |  0.007636643  |  0.20662215   |  0.9455568290 |  1.000000000  |  0.17327147   |  0.34169478   |  0.012186758  |  0.964395221  |  0.97835565   |  0.82447417   | ...           | -0.058461749  |  0.701128320  |  0.915307031  |  0.860060617  | -0.05370588   | -0.06768657   |  0.04547478   |  0.865568852  |  0.91348128   | -0.0572759510 | \n",
       "| Men | -0.060036336  |  0.03681534   |  0.2614651137 |  0.173271466  |  1.00000000   |  0.67272370   | -0.114051727  |  0.232789177  |  0.23099447   |  0.26792907   | ...           |  0.030333805  |  0.214515253  |  0.185976541  |  0.213177075  |  0.02065080   |  0.02239683   |  0.12856202   |  0.252847533  |  0.20877390   |  0.1105560274 | \n",
       "| Women |  0.202433746  |  0.04835239   |  0.4806152194 |  0.341694782  |  0.67272370   |  1.00000000   |  0.296029427  |  0.462884266  |  0.42791742   |  0.55405968   | ...           | -0.171710542  |  0.610713352  |  0.358183579  |  0.422896803  | -0.19758348   | -0.18542715   |  0.04235806   |  0.405594251  |  0.42754941   |  0.1032941595 | \n",
       "| ShareWomen |  0.652780896  |  0.07341527   |  0.0524458352 |  0.012186758  | -0.11405173   |  0.29602943   |  1.000000000  |  0.054940691  |  0.03166313   |  0.11286769   | ...           | -0.556656730  |  0.150003186  |  0.040454611  |  0.075201255  | -0.61387987   | -0.61503467   | -0.03884262   |  0.008156769  |  0.06158761   |  0.0338950161 | \n",
       "| Employed |  0.069908142  |  0.20098092   |  0.9962122825 |  0.964395221  |  0.23278918   |  0.46288427   |  0.054940691  |  1.000000000  |  0.99582939   |  0.93438594   | ...           | -0.090593137  |  0.797114894  |  0.941216392  |  0.927088380  | -0.11349602   | -0.10771382   |  0.05794685   |  0.909547220  |  0.93877135   | -0.0088304741 | \n",
       "| Full_time |  0.033850089  |  0.19944670   |  0.9893351148 |  0.978355646  |  0.23099447   |  0.42791742   |  0.031663129  |  0.995829393  |  1.00000000   |  0.90066504   | ...           | -0.067989873  |  0.772050048  |  0.932997978  |  0.904670844  | -0.08394136   | -0.08239265   |  0.05359783   |  0.902543557  |  0.93739571   | -0.0179942496 | \n",
       "| Part_time |  0.192501553  |  0.19522780   |  0.9502433836 |  0.824474172  |  0.26792907   |  0.55405968   |  0.112867693  |  0.934385938  |  0.90066504   |  1.00000000   | ...           | -0.161390590  |  0.804589888  |  0.909461032  |  0.951504609  | -0.21001467   | -0.19037313   |  0.09577639   |  0.886760410  |  0.86659311   |  0.0478574136 | \n",
       "| Full_time_year_round |  0.019545013  |  0.20568404   |  0.9811062040 |  0.985207266  |  0.21741525   |  0.40841398   |  0.022685482  |  0.991029433  |  0.99819978   |  0.88060632   | ...           | -0.059760039  |  0.754764318  |  0.928739138  |  0.892644544  | -0.07135514   | -0.07310224   |  0.04781267   |  0.892852230  |  0.93427311   | -0.0238094758 | \n",
       "| Unemployed |  0.089294235  |  0.22348488   |  0.9747527175 |  0.917898934  |  0.26496160   |  0.43895857   |  0.026983919  |  0.968836122  |  0.96001962   |  0.94498031   | ...           | -0.100052404  |  0.713234430  |  0.956450929  |  0.955305666  | -0.12904664   | -0.12655934   |  0.15665552   |  0.937805488  |  0.90339814   |  0.0321190576 | \n",
       "| Unemployment_rate |  0.066490840  |  0.12789385   |  0.0729188373 |  0.053228612  |  0.13884379   |  0.04295418   | -0.034517066  |  0.060937119  |  0.05629756   |  0.10265275   | ...           | -0.043630626  | -0.022514698  |  0.110772167  |  0.123081163  | -0.09879723   | -0.11065454   |  0.96032358   |  0.228947001  |  0.08260823   |  0.0736651616 | \n",
       "| Median | -0.873500190  | -0.17607719   | -0.1100201353 | -0.067686565  |  0.02239683   | -0.18542715   | -0.615034666  | -0.107713821  | -0.08239265   | -0.19037313   | ...           |  0.903435441  | -0.050369514  | -0.174565487  | -0.209663671  |  0.95803078   |  1.00000000   | -0.07808282   | -0.167903855  | -0.17386055   | -0.0333923256 | \n",
       "| P25th | -0.736926197  | -0.16719478   | -0.0689362206 | -0.021518653  |  0.04884162   | -0.11584835   | -0.527211176  | -0.063706672  | -0.03909981   | -0.15020672   | ...           |  0.743803705  | -0.007716339  | -0.135781748  | -0.170924191  |  0.85541637   |  0.89521225   | -0.06750661   | -0.143053190  | -0.12481399   |  0.0108702946 | \n",
       "| P75th | -0.805416136  | -0.09493189   | -0.0897719698 | -0.058461749  |  0.03033380   | -0.17171054   | -0.556656730  | -0.090593137  | -0.06798987   | -0.16139059   | ...           |  1.000000000  | -0.059251100  | -0.142240320  | -0.176446109  |  0.86819156   |  0.90343544   | -0.01364692   | -0.120006825  | -0.15522169   |  0.0067231784 | \n",
       "| College_jobs |  0.051821588  |  0.04108003   |  0.8003855569 |  0.701128320  |  0.21451525   |  0.61071335   |  0.150003186  |  0.797114894  |  0.77205005   |  0.80458989   | ...           | -0.059251100  |  1.000000000  |  0.612743428  |  0.649580027  | -0.07358528   | -0.05036951   | -0.01676392   |  0.662255423  |  0.74416588   |  0.0408661879 | \n",
       "| Non_college_jobs |  0.144000661  |  0.23248608   |  0.9412278586 |  0.915307031  |  0.18597654   |  0.35818358   |  0.040454611  |  0.941216392  |  0.93299798   |  0.90946103   | ...           | -0.142240320  |  0.612743428  |  1.000000000  |  0.975689224  | -0.17047943   | -0.17456549   |  0.09952494   |  0.905654756  |  0.88031670   | -0.0033517458 | \n",
       "| Low_wage_jobs |  0.202299609  |  0.22534704   |  0.9354800101 |  0.860060617  |  0.21317708   |  0.42289680   |  0.075201255  |  0.927088380  |  0.90467084   |  0.95150461   | ...           | -0.176446109  |  0.649580027  |  0.975689224  |  1.000000000  | -0.21539312   | -0.20966367   |  0.11731427   |  0.901182832  |  0.86138894   | -0.0032684158 | \n",
       "| normalized_gradmedian | -0.863312938  | -0.14877113   | -0.1186547612 | -0.053705876  |  0.02065080   | -0.19758348   | -0.613879865  | -0.113496021  | -0.08394136   | -0.21001467   | ...           |  0.868191557  | -0.073585275  | -0.170479431  | -0.215393118  |  1.00000000   |  0.95803078   | -0.07349640   | -0.169668900  | -0.17615044   | -0.0167412235 | \n",
       "| normalized_gradmedian_1 | -0.873500190  | -0.17607719   | -0.1100201353 | -0.067686565  |  0.02239683   | -0.18542715   | -0.615034666  | -0.107713821  | -0.08239265   | -0.19037313   | ...           |  0.903435441  | -0.050369514  | -0.174565487  | -0.209663671  |  0.95803078   |  1.00000000   | -0.07808282   | -0.167903855  | -0.17386055   | -0.0333923256 | \n",
       "| normalized_gradundemploymentrate |  0.027138073  |  0.11618111   |  0.0703132077 |  0.045474777  |  0.12856202   |  0.04235806   | -0.038842622  |  0.057946846  |  0.05359783   |  0.09577639   | ...           | -0.013646922  | -0.016763919  |  0.099524944  |  0.117314268  | -0.07349640   | -0.07808282   |  1.00000000   |  0.220595409  |  0.06367516   |  0.0688219973 | \n",
       "| normalized_gradunemployednum |  0.121021086  |  0.22342316   |  0.9167160184 |  0.865568852  |  0.25284753   |  0.40559425   |  0.008156769  |  0.909547220  |  0.90254356   |  0.88676041   | ...           | -0.120006825  |  0.662255423  |  0.905654756  |  0.901182832  | -0.16966890   | -0.16790385   |  0.22059541   |  1.000000000  |  0.92471747   |  0.0077673343 | \n",
       "| normalized_grademployednum |  0.127597193  |  0.19671179   |  0.9341104388 |  0.913481283  |  0.20877390   |  0.42754941   |  0.061587609  |  0.938771347  |  0.93739571   |  0.86659311   | ...           | -0.155221693  |  0.744165883  |  0.880316698  |  0.861388939  | -0.17615044   | -0.17386055   |  0.06367516   |  0.924717473  |  1.00000000   | -0.0600618337 | \n",
       "| Major_category_n |  0.051409921  |  0.31375027   | -0.0007929819 | -0.057275951  |  0.11055603   |  0.10329416   |  0.033895016  | -0.008830474  | -0.01799425   |  0.04785741   | ...           |  0.006723178  |  0.040866188  | -0.003351746  | -0.003268416  | -0.01674122   | -0.03339233   |  0.06882200   |  0.007767334  | -0.06006183   |  1.0000000000 | \n",
       "\n",
       "\n"
      ],
      "text/plain": [
       "                                 Rank         Major_code  Total        \n",
       "Rank                              1.000000000  0.10837967  0.0740537862\n",
       "Major_code                        0.108379672  1.00000000  0.2003886989\n",
       "Total                             0.074053786  0.20038870  1.0000000000\n",
       "Sample_size                       0.007636643  0.20662215  0.9455568290\n",
       "Men                              -0.060036336  0.03681534  0.2614651137\n",
       "Women                             0.202433746  0.04835239  0.4806152194\n",
       "ShareWomen                        0.652780896  0.07341527  0.0524458352\n",
       "Employed                          0.069908142  0.20098092  0.9962122825\n",
       "Full_time                         0.033850089  0.19944670  0.9893351148\n",
       "Part_time                         0.192501553  0.19522780  0.9502433836\n",
       "Full_time_year_round              0.019545013  0.20568404  0.9811062040\n",
       "Unemployed                        0.089294235  0.22348488  0.9747527175\n",
       "Unemployment_rate                 0.066490840  0.12789385  0.0729188373\n",
       "Median                           -0.873500190 -0.17607719 -0.1100201353\n",
       "P25th                            -0.736926197 -0.16719478 -0.0689362206\n",
       "P75th                            -0.805416136 -0.09493189 -0.0897719698\n",
       "College_jobs                      0.051821588  0.04108003  0.8003855569\n",
       "Non_college_jobs                  0.144000661  0.23248608  0.9412278586\n",
       "Low_wage_jobs                     0.202299609  0.22534704  0.9354800101\n",
       "normalized_gradmedian            -0.863312938 -0.14877113 -0.1186547612\n",
       "normalized_gradmedian_1          -0.873500190 -0.17607719 -0.1100201353\n",
       "normalized_gradundemploymentrate  0.027138073  0.11618111  0.0703132077\n",
       "normalized_gradunemployednum      0.121021086  0.22342316  0.9167160184\n",
       "normalized_grademployednum        0.127597193  0.19671179  0.9341104388\n",
       "Major_category_n                  0.051409921  0.31375027 -0.0007929819\n",
       "                                 Sample_size  Men         Women      \n",
       "Rank                              0.007636643 -0.06003634  0.20243375\n",
       "Major_code                        0.206622151  0.03681534  0.04835239\n",
       "Total                             0.945556829  0.26146511  0.48061522\n",
       "Sample_size                       1.000000000  0.17327147  0.34169478\n",
       "Men                               0.173271466  1.00000000  0.67272370\n",
       "Women                             0.341694782  0.67272370  1.00000000\n",
       "ShareWomen                        0.012186758 -0.11405173  0.29602943\n",
       "Employed                          0.964395221  0.23278918  0.46288427\n",
       "Full_time                         0.978355646  0.23099447  0.42791742\n",
       "Part_time                         0.824474172  0.26792907  0.55405968\n",
       "Full_time_year_round              0.985207266  0.21741525  0.40841398\n",
       "Unemployed                        0.917898934  0.26496160  0.43895857\n",
       "Unemployment_rate                 0.053228612  0.13884379  0.04295418\n",
       "Median                           -0.067686565  0.02239683 -0.18542715\n",
       "P25th                            -0.021518653  0.04884162 -0.11584835\n",
       "P75th                            -0.058461749  0.03033380 -0.17171054\n",
       "College_jobs                      0.701128320  0.21451525  0.61071335\n",
       "Non_college_jobs                  0.915307031  0.18597654  0.35818358\n",
       "Low_wage_jobs                     0.860060617  0.21317708  0.42289680\n",
       "normalized_gradmedian            -0.053705876  0.02065080 -0.19758348\n",
       "normalized_gradmedian_1          -0.067686565  0.02239683 -0.18542715\n",
       "normalized_gradundemploymentrate  0.045474777  0.12856202  0.04235806\n",
       "normalized_gradunemployednum      0.865568852  0.25284753  0.40559425\n",
       "normalized_grademployednum        0.913481283  0.20877390  0.42754941\n",
       "Major_category_n                 -0.057275951  0.11055603  0.10329416\n",
       "                                 ShareWomen   Employed     Full_time  \n",
       "Rank                              0.652780896  0.069908142  0.03385009\n",
       "Major_code                        0.073415267  0.200980922  0.19944670\n",
       "Total                             0.052445835  0.996212283  0.98933511\n",
       "Sample_size                       0.012186758  0.964395221  0.97835565\n",
       "Men                              -0.114051727  0.232789177  0.23099447\n",
       "Women                             0.296029427  0.462884266  0.42791742\n",
       "ShareWomen                        1.000000000  0.054940691  0.03166313\n",
       "Employed                          0.054940691  1.000000000  0.99582939\n",
       "Full_time                         0.031663129  0.995829393  1.00000000\n",
       "Part_time                         0.112867693  0.934385938  0.90066504\n",
       "Full_time_year_round              0.022685482  0.991029433  0.99819978\n",
       "Unemployed                        0.026983919  0.968836122  0.96001962\n",
       "Unemployment_rate                -0.034517066  0.060937119  0.05629756\n",
       "Median                           -0.615034666 -0.107713821 -0.08239265\n",
       "P25th                            -0.527211176 -0.063706672 -0.03909981\n",
       "P75th                            -0.556656730 -0.090593137 -0.06798987\n",
       "College_jobs                      0.150003186  0.797114894  0.77205005\n",
       "Non_college_jobs                  0.040454611  0.941216392  0.93299798\n",
       "Low_wage_jobs                     0.075201255  0.927088380  0.90467084\n",
       "normalized_gradmedian            -0.613879865 -0.113496021 -0.08394136\n",
       "normalized_gradmedian_1          -0.615034666 -0.107713821 -0.08239265\n",
       "normalized_gradundemploymentrate -0.038842622  0.057946846  0.05359783\n",
       "normalized_gradunemployednum      0.008156769  0.909547220  0.90254356\n",
       "normalized_grademployednum        0.061587609  0.938771347  0.93739571\n",
       "Major_category_n                  0.033895016 -0.008830474 -0.01799425\n",
       "                                 Part_time   ... P75th        College_jobs\n",
       "Rank                              0.19250155 ... -0.805416136  0.051821588\n",
       "Major_code                        0.19522780 ... -0.094931892  0.041080026\n",
       "Total                             0.95024338 ... -0.089771970  0.800385557\n",
       "Sample_size                       0.82447417 ... -0.058461749  0.701128320\n",
       "Men                               0.26792907 ...  0.030333805  0.214515253\n",
       "Women                             0.55405968 ... -0.171710542  0.610713352\n",
       "ShareWomen                        0.11286769 ... -0.556656730  0.150003186\n",
       "Employed                          0.93438594 ... -0.090593137  0.797114894\n",
       "Full_time                         0.90066504 ... -0.067989873  0.772050048\n",
       "Part_time                         1.00000000 ... -0.161390590  0.804589888\n",
       "Full_time_year_round              0.88060632 ... -0.059760039  0.754764318\n",
       "Unemployed                        0.94498031 ... -0.100052404  0.713234430\n",
       "Unemployment_rate                 0.10265275 ... -0.043630626 -0.022514698\n",
       "Median                           -0.19037313 ...  0.903435441 -0.050369514\n",
       "P25th                            -0.15020672 ...  0.743803705 -0.007716339\n",
       "P75th                            -0.16139059 ...  1.000000000 -0.059251100\n",
       "College_jobs                      0.80458989 ... -0.059251100  1.000000000\n",
       "Non_college_jobs                  0.90946103 ... -0.142240320  0.612743428\n",
       "Low_wage_jobs                     0.95150461 ... -0.176446109  0.649580027\n",
       "normalized_gradmedian            -0.21001467 ...  0.868191557 -0.073585275\n",
       "normalized_gradmedian_1          -0.19037313 ...  0.903435441 -0.050369514\n",
       "normalized_gradundemploymentrate  0.09577639 ... -0.013646922 -0.016763919\n",
       "normalized_gradunemployednum      0.88676041 ... -0.120006825  0.662255423\n",
       "normalized_grademployednum        0.86659311 ... -0.155221693  0.744165883\n",
       "Major_category_n                  0.04785741 ...  0.006723178  0.040866188\n",
       "                                 Non_college_jobs Low_wage_jobs\n",
       "Rank                              0.144000661      0.202299609 \n",
       "Major_code                        0.232486082      0.225347036 \n",
       "Total                             0.941227859      0.935480010 \n",
       "Sample_size                       0.915307031      0.860060617 \n",
       "Men                               0.185976541      0.213177075 \n",
       "Women                             0.358183579      0.422896803 \n",
       "ShareWomen                        0.040454611      0.075201255 \n",
       "Employed                          0.941216392      0.927088380 \n",
       "Full_time                         0.932997978      0.904670844 \n",
       "Part_time                         0.909461032      0.951504609 \n",
       "Full_time_year_round              0.928739138      0.892644544 \n",
       "Unemployed                        0.956450929      0.955305666 \n",
       "Unemployment_rate                 0.110772167      0.123081163 \n",
       "Median                           -0.174565487     -0.209663671 \n",
       "P25th                            -0.135781748     -0.170924191 \n",
       "P75th                            -0.142240320     -0.176446109 \n",
       "College_jobs                      0.612743428      0.649580027 \n",
       "Non_college_jobs                  1.000000000      0.975689224 \n",
       "Low_wage_jobs                     0.975689224      1.000000000 \n",
       "normalized_gradmedian            -0.170479431     -0.215393118 \n",
       "normalized_gradmedian_1          -0.174565487     -0.209663671 \n",
       "normalized_gradundemploymentrate  0.099524944      0.117314268 \n",
       "normalized_gradunemployednum      0.905654756      0.901182832 \n",
       "normalized_grademployednum        0.880316698      0.861388939 \n",
       "Major_category_n                 -0.003351746     -0.003268416 \n",
       "                                 normalized_gradmedian normalized_gradmedian_1\n",
       "Rank                             -0.86331294           -0.87350019            \n",
       "Major_code                       -0.14877113           -0.17607719            \n",
       "Total                            -0.11865476           -0.11002014            \n",
       "Sample_size                      -0.05370588           -0.06768657            \n",
       "Men                               0.02065080            0.02239683            \n",
       "Women                            -0.19758348           -0.18542715            \n",
       "ShareWomen                       -0.61387987           -0.61503467            \n",
       "Employed                         -0.11349602           -0.10771382            \n",
       "Full_time                        -0.08394136           -0.08239265            \n",
       "Part_time                        -0.21001467           -0.19037313            \n",
       "Full_time_year_round             -0.07135514           -0.07310224            \n",
       "Unemployed                       -0.12904664           -0.12655934            \n",
       "Unemployment_rate                -0.09879723           -0.11065454            \n",
       "Median                            0.95803078            1.00000000            \n",
       "P25th                             0.85541637            0.89521225            \n",
       "P75th                             0.86819156            0.90343544            \n",
       "College_jobs                     -0.07358528           -0.05036951            \n",
       "Non_college_jobs                 -0.17047943           -0.17456549            \n",
       "Low_wage_jobs                    -0.21539312           -0.20966367            \n",
       "normalized_gradmedian             1.00000000            0.95803078            \n",
       "normalized_gradmedian_1           0.95803078            1.00000000            \n",
       "normalized_gradundemploymentrate -0.07349640           -0.07808282            \n",
       "normalized_gradunemployednum     -0.16966890           -0.16790385            \n",
       "normalized_grademployednum       -0.17615044           -0.17386055            \n",
       "Major_category_n                 -0.01674122           -0.03339233            \n",
       "                                 normalized_gradundemploymentrate\n",
       "Rank                              0.02713807                     \n",
       "Major_code                        0.11618111                     \n",
       "Total                             0.07031321                     \n",
       "Sample_size                       0.04547478                     \n",
       "Men                               0.12856202                     \n",
       "Women                             0.04235806                     \n",
       "ShareWomen                       -0.03884262                     \n",
       "Employed                          0.05794685                     \n",
       "Full_time                         0.05359783                     \n",
       "Part_time                         0.09577639                     \n",
       "Full_time_year_round              0.04781267                     \n",
       "Unemployed                        0.15665552                     \n",
       "Unemployment_rate                 0.96032358                     \n",
       "Median                           -0.07808282                     \n",
       "P25th                            -0.06750661                     \n",
       "P75th                            -0.01364692                     \n",
       "College_jobs                     -0.01676392                     \n",
       "Non_college_jobs                  0.09952494                     \n",
       "Low_wage_jobs                     0.11731427                     \n",
       "normalized_gradmedian            -0.07349640                     \n",
       "normalized_gradmedian_1          -0.07808282                     \n",
       "normalized_gradundemploymentrate  1.00000000                     \n",
       "normalized_gradunemployednum      0.22059541                     \n",
       "normalized_grademployednum        0.06367516                     \n",
       "Major_category_n                  0.06882200                     \n",
       "                                 normalized_gradunemployednum\n",
       "Rank                              0.121021086                \n",
       "Major_code                        0.223423165                \n",
       "Total                             0.916716018                \n",
       "Sample_size                       0.865568852                \n",
       "Men                               0.252847533                \n",
       "Women                             0.405594251                \n",
       "ShareWomen                        0.008156769                \n",
       "Employed                          0.909547220                \n",
       "Full_time                         0.902543557                \n",
       "Part_time                         0.886760410                \n",
       "Full_time_year_round              0.892852230                \n",
       "Unemployed                        0.937805488                \n",
       "Unemployment_rate                 0.228947001                \n",
       "Median                           -0.167903855                \n",
       "P25th                            -0.143053190                \n",
       "P75th                            -0.120006825                \n",
       "College_jobs                      0.662255423                \n",
       "Non_college_jobs                  0.905654756                \n",
       "Low_wage_jobs                     0.901182832                \n",
       "normalized_gradmedian            -0.169668900                \n",
       "normalized_gradmedian_1          -0.167903855                \n",
       "normalized_gradundemploymentrate  0.220595409                \n",
       "normalized_gradunemployednum      1.000000000                \n",
       "normalized_grademployednum        0.924717473                \n",
       "Major_category_n                  0.007767334                \n",
       "                                 normalized_grademployednum Major_category_n\n",
       "Rank                              0.12759719                 0.0514099213   \n",
       "Major_code                        0.19671179                 0.3137502712   \n",
       "Total                             0.93411044                -0.0007929819   \n",
       "Sample_size                       0.91348128                -0.0572759510   \n",
       "Men                               0.20877390                 0.1105560274   \n",
       "Women                             0.42754941                 0.1032941595   \n",
       "ShareWomen                        0.06158761                 0.0338950161   \n",
       "Employed                          0.93877135                -0.0088304741   \n",
       "Full_time                         0.93739571                -0.0179942496   \n",
       "Part_time                         0.86659311                 0.0478574136   \n",
       "Full_time_year_round              0.93427311                -0.0238094758   \n",
       "Unemployed                        0.90339814                 0.0321190576   \n",
       "Unemployment_rate                 0.08260823                 0.0736651616   \n",
       "Median                           -0.17386055                -0.0333923256   \n",
       "P25th                            -0.12481399                 0.0108702946   \n",
       "P75th                            -0.15522169                 0.0067231784   \n",
       "College_jobs                      0.74416588                 0.0408661879   \n",
       "Non_college_jobs                  0.88031670                -0.0033517458   \n",
       "Low_wage_jobs                     0.86138894                -0.0032684158   \n",
       "normalized_gradmedian            -0.17615044                -0.0167412235   \n",
       "normalized_gradmedian_1          -0.17386055                -0.0333923256   \n",
       "normalized_gradundemploymentrate  0.06367516                 0.0688219973   \n",
       "normalized_gradunemployednum      0.92471747                 0.0077673343   \n",
       "normalized_grademployednum        1.00000000                -0.0600618337   \n",
       "Major_category_n                 -0.06006183                 1.0000000000   "
      ]
     },
     "metadata": {},
     "output_type": "display_data"
    }
   ],
   "source": [
    "#Retain numeric variables in the data frame\n",
    "numeric_recentgrads1 <- data.frame(recentgrads[sapply(recentgrads,is.numeric)])\n",
    "numeric_recentgrads <- data.frame(lapply(numeric_recentgrads1, as.numeric))\n",
    "str(numeric_recentgrads)\n",
    "\n",
    "#All the columns are num or integer hence we can calculate the summary of the complete dataset\n",
    "lapply(numeric_recentgrads, summary)\n",
    "# Frequency Tables.\n",
    "table(numeric_recentgrads$Major_category_n)\n",
    "#Calculate covariance.\n",
    "cov(numeric_recentgrads)\n",
    "#Calculate the Pearson's correlation of between numeric attributes.\n",
    "cor(numeric_recentgrads)"
   ]
  },
  {
   "cell_type": "markdown",
   "metadata": {},
   "source": [
    "# Compute the standard deviation of the numeric columns. \n",
    "The standard deviation is a measure of the dispursion of a distribution defined as:\n",
    "\n",
    "$$sd = \\sigma = \\frac{1}{1-n} \\Sigma_i (\\mu - x_i)^2$$\n",
    "\n",
    "The code below applies the `sd` function to each of the columns of the data frame `Cleansedenergy.ff`. Since a data frame is a list, the `lapply` function is used to iterate the `sd` function over the list.  \n",
    "\n",
    "Execute this code and examine the result."
   ]
  },
  {
   "cell_type": "code",
   "execution_count": 31,
   "metadata": {
    "collapsed": false
   },
   "outputs": [
    {
     "data": {
      "text/html": [
       "<dl>\n",
       "\t<dt>$Relative.Compactness</dt>\n",
       "\t\t<dd>0.105512570858924</dd>\n",
       "\t<dt>$Surface.Area</dt>\n",
       "\t\t<dd>87.9301802429226</dd>\n",
       "\t<dt>$Wall.Area</dt>\n",
       "\t\t<dd>43.6744786663358</dd>\n",
       "\t<dt>$Roof.Area</dt>\n",
       "\t\t<dd>45.1186176309375</dd>\n",
       "\t<dt>$Overall.Height</dt>\n",
       "\t\t<dd>1.75113744839754</dd>\n",
       "\t<dt>$Orientation</dt>\n",
       "\t\t<dd>1.11876144055516</dd>\n",
       "\t<dt>$Glazing.Area</dt>\n",
       "\t\t<dd>0.132853793879975</dd>\n",
       "\t<dt>$Glazing.Area.Distribution</dt>\n",
       "\t\t<dd>1.54629575555956</dd>\n",
       "\t<dt>$Heating.Load</dt>\n",
       "\t\t<dd>10.1003713955829</dd>\n",
       "\t<dt>$Cooling.Load</dt>\n",
       "\t\t<dd>9.52496130166711</dd>\n",
       "</dl>\n"
      ],
      "text/latex": [
       "\\begin{description}\n",
       "\\item[\\$Relative.Compactness] 0.105512570858924\n",
       "\\item[\\$Surface.Area] 87.9301802429226\n",
       "\\item[\\$Wall.Area] 43.6744786663358\n",
       "\\item[\\$Roof.Area] 45.1186176309375\n",
       "\\item[\\$Overall.Height] 1.75113744839754\n",
       "\\item[\\$Orientation] 1.11876144055516\n",
       "\\item[\\$Glazing.Area] 0.132853793879975\n",
       "\\item[\\$Glazing.Area.Distribution] 1.54629575555956\n",
       "\\item[\\$Heating.Load] 10.1003713955829\n",
       "\\item[\\$Cooling.Load] 9.52496130166711\n",
       "\\end{description}\n"
      ],
      "text/markdown": [
       "$Relative.Compactness\n",
       ":   0.105512570858924\n",
       "$Surface.Area\n",
       ":   87.9301802429226\n",
       "$Wall.Area\n",
       ":   43.6744786663358\n",
       "$Roof.Area\n",
       ":   45.1186176309375\n",
       "$Overall.Height\n",
       ":   1.75113744839754\n",
       "$Orientation\n",
       ":   1.11876144055516\n",
       "$Glazing.Area\n",
       ":   0.132853793879975\n",
       "$Glazing.Area.Distribution\n",
       ":   1.54629575555956\n",
       "$Heating.Load\n",
       ":   10.1003713955829\n",
       "$Cooling.Load\n",
       ":   9.52496130166711\n",
       "\n",
       "\n"
      ],
      "text/plain": [
       "$Relative.Compactness\n",
       "[1] 0.1055126\n",
       "\n",
       "$Surface.Area\n",
       "[1] 87.93018\n",
       "\n",
       "$Wall.Area\n",
       "[1] 43.67448\n",
       "\n",
       "$Roof.Area\n",
       "[1] 45.11862\n",
       "\n",
       "$Overall.Height\n",
       "[1] 1.751137\n",
       "\n",
       "$Orientation\n",
       "[1] 1.118761\n",
       "\n",
       "$Glazing.Area\n",
       "[1] 0.1328538\n",
       "\n",
       "$Glazing.Area.Distribution\n",
       "[1] 1.546296\n",
       "\n",
       "$Heating.Load\n",
       "[1] 10.10037\n",
       "\n",
       "$Cooling.Load\n",
       "[1] 9.524961\n"
      ]
     },
     "metadata": {},
     "output_type": "display_data"
    }
   ],
   "source": [
    "lapply(Cleansedenergy.ff, sd)"
   ]
  },
  {
   "cell_type": "markdown",
   "metadata": {},
   "source": [
    "Standard deviation of **Heating.Load and Cooling.Load** are way off from their respective means, this would convey a skewed distribution."
   ]
  },
  {
   "cell_type": "markdown",
   "metadata": {},
   "source": [
    "### Examine the data frames\n",
    "\n",
    "Next, we can look the first and last few lines of the data frame using the `head` and `tail` functions. Execute the code in the cells below to examine the first and last few rows of the data frame."
   ]
  },
  {
   "cell_type": "code",
   "execution_count": 32,
   "metadata": {
    "collapsed": false
   },
   "outputs": [
    {
     "data": {
      "text/html": [
       "<table>\n",
       "<thead><tr><th></th><th scope=col>Relative.Compactness</th><th scope=col>Surface.Area</th><th scope=col>Wall.Area</th><th scope=col>Roof.Area</th><th scope=col>Overall.Height</th><th scope=col>Orientation</th><th scope=col>Glazing.Area</th><th scope=col>Glazing.Area.Distribution</th><th scope=col>Heating.Load</th><th scope=col>Cooling.Load</th></tr></thead>\n",
       "<tbody>\n",
       "\t<tr><th scope=row>3</th><td>0.98  </td><td>514.5 </td><td>294.0 </td><td>110.25</td><td>7     </td><td>3     </td><td>0     </td><td>0     </td><td>15.55 </td><td>21.33 </td></tr>\n",
       "\t<tr><th scope=row>4</th><td>0.98  </td><td>514.5 </td><td>294.0 </td><td>110.25</td><td>7     </td><td>4     </td><td>0     </td><td>0     </td><td>15.55 </td><td>21.33 </td></tr>\n",
       "\t<tr><th scope=row>5</th><td>0.98  </td><td>514.5 </td><td>294.0 </td><td>110.25</td><td>7     </td><td>5     </td><td>0     </td><td>0     </td><td>15.55 </td><td>21.33 </td></tr>\n",
       "\t<tr><th scope=row>6</th><td>0.90  </td><td>563.5 </td><td>318.5 </td><td>122.50</td><td>7     </td><td>2     </td><td>0     </td><td>0     </td><td>20.84 </td><td>28.28 </td></tr>\n",
       "\t<tr><th scope=row>8</th><td>0.90  </td><td>563.5 </td><td>318.5 </td><td>122.50</td><td>7     </td><td>4     </td><td>0     </td><td>0     </td><td>20.71 </td><td>25.16 </td></tr>\n",
       "\t<tr><th scope=row>9</th><td>0.90  </td><td>563.5 </td><td>318.5 </td><td>122.50</td><td>7     </td><td>5     </td><td>0     </td><td>0     </td><td>19.68 </td><td>29.60 </td></tr>\n",
       "</tbody>\n",
       "</table>\n"
      ],
      "text/latex": [
       "\\begin{tabular}{r|llllllllll}\n",
       "  & Relative.Compactness & Surface.Area & Wall.Area & Roof.Area & Overall.Height & Orientation & Glazing.Area & Glazing.Area.Distribution & Heating.Load & Cooling.Load\\\\\n",
       "\\hline\n",
       "\t3 & 0.98   & 514.5  & 294.0  & 110.25 & 7      & 3      & 0      & 0      & 15.55  & 21.33 \\\\\n",
       "\t4 & 0.98   & 514.5  & 294.0  & 110.25 & 7      & 4      & 0      & 0      & 15.55  & 21.33 \\\\\n",
       "\t5 & 0.98   & 514.5  & 294.0  & 110.25 & 7      & 5      & 0      & 0      & 15.55  & 21.33 \\\\\n",
       "\t6 & 0.90   & 563.5  & 318.5  & 122.50 & 7      & 2      & 0      & 0      & 20.84  & 28.28 \\\\\n",
       "\t8 & 0.90   & 563.5  & 318.5  & 122.50 & 7      & 4      & 0      & 0      & 20.71  & 25.16 \\\\\n",
       "\t9 & 0.90   & 563.5  & 318.5  & 122.50 & 7      & 5      & 0      & 0      & 19.68  & 29.60 \\\\\n",
       "\\end{tabular}\n"
      ],
      "text/markdown": [
       "\n",
       "| <!--/--> | Relative.Compactness | Surface.Area | Wall.Area | Roof.Area | Overall.Height | Orientation | Glazing.Area | Glazing.Area.Distribution | Heating.Load | Cooling.Load | \n",
       "|---|---|---|---|---|---|\n",
       "| 3 | 0.98   | 514.5  | 294.0  | 110.25 | 7      | 3      | 0      | 0      | 15.55  | 21.33  | \n",
       "| 4 | 0.98   | 514.5  | 294.0  | 110.25 | 7      | 4      | 0      | 0      | 15.55  | 21.33  | \n",
       "| 5 | 0.98   | 514.5  | 294.0  | 110.25 | 7      | 5      | 0      | 0      | 15.55  | 21.33  | \n",
       "| 6 | 0.90   | 563.5  | 318.5  | 122.50 | 7      | 2      | 0      | 0      | 20.84  | 28.28  | \n",
       "| 8 | 0.90   | 563.5  | 318.5  | 122.50 | 7      | 4      | 0      | 0      | 20.71  | 25.16  | \n",
       "| 9 | 0.90   | 563.5  | 318.5  | 122.50 | 7      | 5      | 0      | 0      | 19.68  | 29.60  | \n",
       "\n",
       "\n"
      ],
      "text/plain": [
       "  Relative.Compactness Surface.Area Wall.Area Roof.Area Overall.Height\n",
       "3 0.98                 514.5        294.0     110.25    7             \n",
       "4 0.98                 514.5        294.0     110.25    7             \n",
       "5 0.98                 514.5        294.0     110.25    7             \n",
       "6 0.90                 563.5        318.5     122.50    7             \n",
       "8 0.90                 563.5        318.5     122.50    7             \n",
       "9 0.90                 563.5        318.5     122.50    7             \n",
       "  Orientation Glazing.Area Glazing.Area.Distribution Heating.Load Cooling.Load\n",
       "3 3           0            0                         15.55        21.33       \n",
       "4 4           0            0                         15.55        21.33       \n",
       "5 5           0            0                         15.55        21.33       \n",
       "6 2           0            0                         20.84        28.28       \n",
       "8 4           0            0                         20.71        25.16       \n",
       "9 5           0            0                         19.68        29.60       "
      ]
     },
     "metadata": {},
     "output_type": "display_data"
    }
   ],
   "source": [
    "head(Cleansedenergy.ff)"
   ]
  },
  {
   "cell_type": "code",
   "execution_count": 33,
   "metadata": {
    "collapsed": false
   },
   "outputs": [
    {
     "data": {
      "text/html": [
       "<table>\n",
       "<thead><tr><th></th><th scope=col>Relative.Compactness</th><th scope=col>Surface.Area</th><th scope=col>Wall.Area</th><th scope=col>Roof.Area</th><th scope=col>Overall.Height</th><th scope=col>Orientation</th><th scope=col>Glazing.Area</th><th scope=col>Glazing.Area.Distribution</th><th scope=col>Heating.Load</th><th scope=col>Cooling.Load</th></tr></thead>\n",
       "<tbody>\n",
       "\t<tr><th scope=row>764</th><td>0.64 </td><td>784.0</td><td>343.0</td><td>220.5</td><td>3.5  </td><td>4    </td><td>0.4  </td><td>5    </td><td>18.16</td><td>20.71</td></tr>\n",
       "\t<tr><th scope=row>765</th><td>0.64 </td><td>784.0</td><td>343.0</td><td>220.5</td><td>3.5  </td><td>5    </td><td>0.4  </td><td>5    </td><td>17.88</td><td>21.40</td></tr>\n",
       "\t<tr><th scope=row>766</th><td>0.62 </td><td>808.5</td><td>367.5</td><td>220.5</td><td>3.5  </td><td>2    </td><td>0.4  </td><td>5    </td><td>16.54</td><td>16.88</td></tr>\n",
       "\t<tr><th scope=row>767</th><td>0.62 </td><td>808.5</td><td>367.5</td><td>220.5</td><td>3.5  </td><td>3    </td><td>0.4  </td><td>5    </td><td>16.44</td><td>17.11</td></tr>\n",
       "\t<tr><th scope=row>768</th><td>0.62 </td><td>808.5</td><td>367.5</td><td>220.5</td><td>3.5  </td><td>4    </td><td>0.4  </td><td>5    </td><td>16.48</td><td>16.61</td></tr>\n",
       "\t<tr><th scope=row>769</th><td>0.62 </td><td>808.5</td><td>367.5</td><td>220.5</td><td>3.5  </td><td>5    </td><td>0.4  </td><td>5    </td><td>16.64</td><td>16.03</td></tr>\n",
       "</tbody>\n",
       "</table>\n"
      ],
      "text/latex": [
       "\\begin{tabular}{r|llllllllll}\n",
       "  & Relative.Compactness & Surface.Area & Wall.Area & Roof.Area & Overall.Height & Orientation & Glazing.Area & Glazing.Area.Distribution & Heating.Load & Cooling.Load\\\\\n",
       "\\hline\n",
       "\t764 & 0.64  & 784.0 & 343.0 & 220.5 & 3.5   & 4     & 0.4   & 5     & 18.16 & 20.71\\\\\n",
       "\t765 & 0.64  & 784.0 & 343.0 & 220.5 & 3.5   & 5     & 0.4   & 5     & 17.88 & 21.40\\\\\n",
       "\t766 & 0.62  & 808.5 & 367.5 & 220.5 & 3.5   & 2     & 0.4   & 5     & 16.54 & 16.88\\\\\n",
       "\t767 & 0.62  & 808.5 & 367.5 & 220.5 & 3.5   & 3     & 0.4   & 5     & 16.44 & 17.11\\\\\n",
       "\t768 & 0.62  & 808.5 & 367.5 & 220.5 & 3.5   & 4     & 0.4   & 5     & 16.48 & 16.61\\\\\n",
       "\t769 & 0.62  & 808.5 & 367.5 & 220.5 & 3.5   & 5     & 0.4   & 5     & 16.64 & 16.03\\\\\n",
       "\\end{tabular}\n"
      ],
      "text/markdown": [
       "\n",
       "| <!--/--> | Relative.Compactness | Surface.Area | Wall.Area | Roof.Area | Overall.Height | Orientation | Glazing.Area | Glazing.Area.Distribution | Heating.Load | Cooling.Load | \n",
       "|---|---|---|---|---|---|\n",
       "| 764 | 0.64  | 784.0 | 343.0 | 220.5 | 3.5   | 4     | 0.4   | 5     | 18.16 | 20.71 | \n",
       "| 765 | 0.64  | 784.0 | 343.0 | 220.5 | 3.5   | 5     | 0.4   | 5     | 17.88 | 21.40 | \n",
       "| 766 | 0.62  | 808.5 | 367.5 | 220.5 | 3.5   | 2     | 0.4   | 5     | 16.54 | 16.88 | \n",
       "| 767 | 0.62  | 808.5 | 367.5 | 220.5 | 3.5   | 3     | 0.4   | 5     | 16.44 | 17.11 | \n",
       "| 768 | 0.62  | 808.5 | 367.5 | 220.5 | 3.5   | 4     | 0.4   | 5     | 16.48 | 16.61 | \n",
       "| 769 | 0.62  | 808.5 | 367.5 | 220.5 | 3.5   | 5     | 0.4   | 5     | 16.64 | 16.03 | \n",
       "\n",
       "\n"
      ],
      "text/plain": [
       "    Relative.Compactness Surface.Area Wall.Area Roof.Area Overall.Height\n",
       "764 0.64                 784.0        343.0     220.5     3.5           \n",
       "765 0.64                 784.0        343.0     220.5     3.5           \n",
       "766 0.62                 808.5        367.5     220.5     3.5           \n",
       "767 0.62                 808.5        367.5     220.5     3.5           \n",
       "768 0.62                 808.5        367.5     220.5     3.5           \n",
       "769 0.62                 808.5        367.5     220.5     3.5           \n",
       "    Orientation Glazing.Area Glazing.Area.Distribution Heating.Load\n",
       "764 4           0.4          5                         18.16       \n",
       "765 5           0.4          5                         17.88       \n",
       "766 2           0.4          5                         16.54       \n",
       "767 3           0.4          5                         16.44       \n",
       "768 4           0.4          5                         16.48       \n",
       "769 5           0.4          5                         16.64       \n",
       "    Cooling.Load\n",
       "764 20.71       \n",
       "765 21.40       \n",
       "766 16.88       \n",
       "767 17.11       \n",
       "768 16.61       \n",
       "769 16.03       "
      ]
     },
     "metadata": {},
     "output_type": "display_data"
    }
   ],
   "source": [
    "tail(Cleansedenergy.ff)"
   ]
  },
  {
   "cell_type": "markdown",
   "metadata": {},
   "source": [
    "### Frequency tables\n",
    "\n",
    "The summary techniques we have used so far are suitable only for numeric variables. Categorical variables have values which are typically unordered. Therefore, we need a method to summrize categorical based on counts.\n",
    "\n",
    "**Overall.Height** has a numeric datatype, data however in this column is static and can be used as a categorical variable.\n",
    "\n",
    "The R `table` function lets you look create a fequency table. The frequency table shows the count of each category of the variable. Execute the following code to show the number of houses with different overall height."
   ]
  },
  {
   "cell_type": "code",
   "execution_count": 34,
   "metadata": {
    "collapsed": false
   },
   "outputs": [
    {
     "data": {
      "text/plain": [
       "\n",
       "3.5   7 \n",
       "384 382 "
      ]
     },
     "metadata": {},
     "output_type": "display_data"
    }
   ],
   "source": [
    "table(Cleansedenergy.ff$Overall.Height)"
   ]
  },
  {
   "cell_type": "markdown",
   "metadata": {},
   "source": [
    "Notice that overall height of 3.5 and 7 is equally distributed in the dataset.\n",
    "\n",
    "You can also look at the frequency of a combination of two categorical variables. To see an example, execute the code in the cell below and examine the results."
   ]
  },
  {
   "cell_type": "code",
   "execution_count": 35,
   "metadata": {
    "collapsed": false
   },
   "outputs": [
    {
     "data": {
      "text/plain": [
       "     \n",
       "       2  3  4  5\n",
       "  3.5 96 96 96 96\n",
       "  7   95 95 96 96"
      ]
     },
     "metadata": {},
     "output_type": "display_data"
    }
   ],
   "source": [
    "table(Cleansedenergy.ff$Overall.Height, Cleansedenergy.ff$Orientation)"
   ]
  },
  {
   "cell_type": "markdown",
   "metadata": {},
   "source": [
    "Notice that orientation of 2,3,4 & 5 is equally distributed across overall height of 3.5 & 7."
   ]
  },
  {
   "cell_type": "markdown",
   "metadata": {},
   "source": [
    "### Covariance and correlation\n",
    "\n",
    "Now, you will work with the correlations between the numberic variables.  Covariance is defined as follows:\n",
    "\n",
    "$$cov(x,y) = E((x - \\mu_x) (y - \\mu_y))$$\n",
    "\n",
    "Pearson correlation is similar to covariance, but with normalization by the variance, and is defined as follows: \n",
    "\n",
    "$$cor(x,y) = \\frac{E((x - \\mu_x) (y - \\mu_y))}{\\sigma_x \\sigma_y}$$\n",
    "\n",
    "There are also non-parametric measures of correlation. One of widely used non-parametric method is Kendal's rank correlation. The Kendal correlation counts the number of values which have the same sign (concordant) and with the oposite sign (discordant). As a rank or non-parametric method, Kendal correlation is robust to outliers. Kendal's rank correlation can be computed as follows:\n",
    "\n",
    "$$\\tau = \\frac{\\Sigma concordant\\ pairs - \\Sigma disconcordant\\ pairs}{n(n-1)/2}$$\n",
    "\n",
    "Execute the code in the cell below to compute the Pearson correltion for a subset of the data frame. "
   ]
  },
  {
   "cell_type": "code",
   "execution_count": 36,
   "metadata": {
    "collapsed": false,
    "scrolled": true
   },
   "outputs": [
    {
     "data": {
      "text/html": [
       "<table>\n",
       "<thead><tr><th></th><th scope=col>Relative.Compactness</th><th scope=col>Surface.Area</th><th scope=col>Wall.Area</th><th scope=col>Roof.Area</th><th scope=col>Overall.Height</th><th scope=col>Orientation</th><th scope=col>Glazing.Area</th><th scope=col>Glazing.Area.Distribution</th><th scope=col>Heating.Load</th><th scope=col>Cooling.Load</th></tr></thead>\n",
       "<tbody>\n",
       "\t<tr><th scope=row>Relative.Compactness</th><td> 0.0111329026</td><td>  -9.2025042 </td><td>-9.359227e-01</td><td>  -4.13329077</td><td> 1.529189e-01</td><td> 0.0005131828</td><td> 0.0001080223</td><td> 0.001296268 </td><td>   0.6679585 </td><td>   0.6407800 </td></tr>\n",
       "\t<tr><th scope=row>Surface.Area</th><td>-9.2025042066</td><td>7731.7165976 </td><td> 7.482090e+02</td><td>3491.75378462</td><td>-1.321076e+02</td><td>-0.3798819092</td><td>-0.0815286950</td><td>-0.978344340 </td><td>-587.9824567 </td><td>-565.9994198 </td></tr>\n",
       "\t<tr><th scope=row>Wall.Area</th><td>-0.9359226608</td><td> 748.2090283 </td><td> 1.907460e+03</td><td>-579.62552923</td><td> 2.157776e+01</td><td>-0.0481228349</td><td>-0.0075257257</td><td>-0.090308708 </td><td> 200.8940070 </td><td> 177.6262497 </td></tr>\n",
       "\t<tr><th scope=row>Roof.Area</th><td>-4.1332907729</td><td>3491.7537846 </td><td>-5.796255e+02</td><td>2035.68965693</td><td>-7.684268e+01</td><td>-0.1658795372</td><td>-0.0370014847</td><td>-0.444017816 </td><td>-394.4382319 </td><td>-371.8128347 </td></tr>\n",
       "\t<tr><th scope=row>Overall.Height</th><td> 0.1529189235</td><td>-132.1075923 </td><td> 2.157776e+01</td><td> -76.84267650</td><td> 3.066482e+00</td><td> 0.0045871090</td><td> 0.0010751037</td><td> 0.012901244 </td><td>  15.7741895 </td><td>  14.9676744 </td></tr>\n",
       "\t<tr><th scope=row>Orientation</th><td> 0.0005131828</td><td>  -0.3798819 </td><td>-4.812283e-02</td><td>  -0.16587954</td><td> 4.587109e-03</td><td> 1.2516271609</td><td>-0.0006143450</td><td>-0.007372139 </td><td>  -0.0431036 </td><td>   0.1466053 </td></tr>\n",
       "\t<tr><th scope=row>Glazing.Area</th><td> 0.0001080223</td><td>  -0.0815287 </td><td>-7.525726e-03</td><td>  -0.03700148</td><td> 1.075104e-03</td><td>-0.0006143450</td><td> 0.0176501305</td><td> 0.042389802 </td><td>   0.3613385 </td><td>   0.2629154 </td></tr>\n",
       "\t<tr><th scope=row>Glazing.Area.Distribution</th><td> 0.0012962679</td><td>  -0.9783443 </td><td>-9.030871e-02</td><td>  -0.44401782</td><td> 1.290124e-02</td><td>-0.0073721395</td><td> 0.0423898019</td><td> 2.391030564 </td><td>   1.3428022 </td><td>   0.7383466 </td></tr>\n",
       "\t<tr><th scope=row>Heating.Load</th><td> 0.6679585054</td><td>-587.9824567 </td><td> 2.008940e+02</td><td>-394.43823186</td><td> 1.577419e+01</td><td>-0.0431036025</td><td> 0.3613385245</td><td> 1.342802164 </td><td> 102.0175023 </td><td>  93.8910330 </td></tr>\n",
       "\t<tr><th scope=row>Cooling.Load</th><td> 0.6407800253</td><td>-565.9994198 </td><td> 1.776262e+02</td><td>-371.81283473</td><td> 1.496767e+01</td><td> 0.1466052834</td><td> 0.2629153723</td><td> 0.738346559 </td><td>  93.8910330 </td><td>  90.7248878 </td></tr>\n",
       "</tbody>\n",
       "</table>\n"
      ],
      "text/latex": [
       "\\begin{tabular}{r|llllllllll}\n",
       "  & Relative.Compactness & Surface.Area & Wall.Area & Roof.Area & Overall.Height & Orientation & Glazing.Area & Glazing.Area.Distribution & Heating.Load & Cooling.Load\\\\\n",
       "\\hline\n",
       "\tRelative.Compactness &  0.0111329026 &   -9.2025042  & -9.359227e-01 &   -4.13329077 &  1.529189e-01 &  0.0005131828 &  0.0001080223 &  0.001296268  &    0.6679585  &    0.6407800 \\\\\n",
       "\tSurface.Area & -9.2025042066 & 7731.7165976  &  7.482090e+02 & 3491.75378462 & -1.321076e+02 & -0.3798819092 & -0.0815286950 & -0.978344340  & -587.9824567  & -565.9994198 \\\\\n",
       "\tWall.Area & -0.9359226608 &  748.2090283  &  1.907460e+03 & -579.62552923 &  2.157776e+01 & -0.0481228349 & -0.0075257257 & -0.090308708  &  200.8940070  &  177.6262497 \\\\\n",
       "\tRoof.Area & -4.1332907729 & 3491.7537846  & -5.796255e+02 & 2035.68965693 & -7.684268e+01 & -0.1658795372 & -0.0370014847 & -0.444017816  & -394.4382319  & -371.8128347 \\\\\n",
       "\tOverall.Height &  0.1529189235 & -132.1075923  &  2.157776e+01 &  -76.84267650 &  3.066482e+00 &  0.0045871090 &  0.0010751037 &  0.012901244  &   15.7741895  &   14.9676744 \\\\\n",
       "\tOrientation &  0.0005131828 &   -0.3798819  & -4.812283e-02 &   -0.16587954 &  4.587109e-03 &  1.2516271609 & -0.0006143450 & -0.007372139  &   -0.0431036  &    0.1466053 \\\\\n",
       "\tGlazing.Area &  0.0001080223 &   -0.0815287  & -7.525726e-03 &   -0.03700148 &  1.075104e-03 & -0.0006143450 &  0.0176501305 &  0.042389802  &    0.3613385  &    0.2629154 \\\\\n",
       "\tGlazing.Area.Distribution &  0.0012962679 &   -0.9783443  & -9.030871e-02 &   -0.44401782 &  1.290124e-02 & -0.0073721395 &  0.0423898019 &  2.391030564  &    1.3428022  &    0.7383466 \\\\\n",
       "\tHeating.Load &  0.6679585054 & -587.9824567  &  2.008940e+02 & -394.43823186 &  1.577419e+01 & -0.0431036025 &  0.3613385245 &  1.342802164  &  102.0175023  &   93.8910330 \\\\\n",
       "\tCooling.Load &  0.6407800253 & -565.9994198  &  1.776262e+02 & -371.81283473 &  1.496767e+01 &  0.1466052834 &  0.2629153723 &  0.738346559  &   93.8910330  &   90.7248878 \\\\\n",
       "\\end{tabular}\n"
      ],
      "text/markdown": [
       "\n",
       "| <!--/--> | Relative.Compactness | Surface.Area | Wall.Area | Roof.Area | Overall.Height | Orientation | Glazing.Area | Glazing.Area.Distribution | Heating.Load | Cooling.Load | \n",
       "|---|---|---|---|---|---|---|---|---|---|\n",
       "| Relative.Compactness |  0.0111329026 |   -9.2025042  | -9.359227e-01 |   -4.13329077 |  1.529189e-01 |  0.0005131828 |  0.0001080223 |  0.001296268  |    0.6679585  |    0.6407800  | \n",
       "| Surface.Area | -9.2025042066 | 7731.7165976  |  7.482090e+02 | 3491.75378462 | -1.321076e+02 | -0.3798819092 | -0.0815286950 | -0.978344340  | -587.9824567  | -565.9994198  | \n",
       "| Wall.Area | -0.9359226608 |  748.2090283  |  1.907460e+03 | -579.62552923 |  2.157776e+01 | -0.0481228349 | -0.0075257257 | -0.090308708  |  200.8940070  |  177.6262497  | \n",
       "| Roof.Area | -4.1332907729 | 3491.7537846  | -5.796255e+02 | 2035.68965693 | -7.684268e+01 | -0.1658795372 | -0.0370014847 | -0.444017816  | -394.4382319  | -371.8128347  | \n",
       "| Overall.Height |  0.1529189235 | -132.1075923  |  2.157776e+01 |  -76.84267650 |  3.066482e+00 |  0.0045871090 |  0.0010751037 |  0.012901244  |   15.7741895  |   14.9676744  | \n",
       "| Orientation |  0.0005131828 |   -0.3798819  | -4.812283e-02 |   -0.16587954 |  4.587109e-03 |  1.2516271609 | -0.0006143450 | -0.007372139  |   -0.0431036  |    0.1466053  | \n",
       "| Glazing.Area |  0.0001080223 |   -0.0815287  | -7.525726e-03 |   -0.03700148 |  1.075104e-03 | -0.0006143450 |  0.0176501305 |  0.042389802  |    0.3613385  |    0.2629154  | \n",
       "| Glazing.Area.Distribution |  0.0012962679 |   -0.9783443  | -9.030871e-02 |   -0.44401782 |  1.290124e-02 | -0.0073721395 |  0.0423898019 |  2.391030564  |    1.3428022  |    0.7383466  | \n",
       "| Heating.Load |  0.6679585054 | -587.9824567  |  2.008940e+02 | -394.43823186 |  1.577419e+01 | -0.0431036025 |  0.3613385245 |  1.342802164  |  102.0175023  |   93.8910330  | \n",
       "| Cooling.Load |  0.6407800253 | -565.9994198  |  1.776262e+02 | -371.81283473 |  1.496767e+01 |  0.1466052834 |  0.2629153723 |  0.738346559  |   93.8910330  |   90.7248878  | \n",
       "\n",
       "\n"
      ],
      "text/plain": [
       "                          Relative.Compactness Surface.Area Wall.Area    \n",
       "Relative.Compactness       0.0111329026          -9.2025042 -9.359227e-01\n",
       "Surface.Area              -9.2025042066        7731.7165976  7.482090e+02\n",
       "Wall.Area                 -0.9359226608         748.2090283  1.907460e+03\n",
       "Roof.Area                 -4.1332907729        3491.7537846 -5.796255e+02\n",
       "Overall.Height             0.1529189235        -132.1075923  2.157776e+01\n",
       "Orientation                0.0005131828          -0.3798819 -4.812283e-02\n",
       "Glazing.Area               0.0001080223          -0.0815287 -7.525726e-03\n",
       "Glazing.Area.Distribution  0.0012962679          -0.9783443 -9.030871e-02\n",
       "Heating.Load               0.6679585054        -587.9824567  2.008940e+02\n",
       "Cooling.Load               0.6407800253        -565.9994198  1.776262e+02\n",
       "                          Roof.Area     Overall.Height Orientation  \n",
       "Relative.Compactness        -4.13329077  1.529189e-01   0.0005131828\n",
       "Surface.Area              3491.75378462 -1.321076e+02  -0.3798819092\n",
       "Wall.Area                 -579.62552923  2.157776e+01  -0.0481228349\n",
       "Roof.Area                 2035.68965693 -7.684268e+01  -0.1658795372\n",
       "Overall.Height             -76.84267650  3.066482e+00   0.0045871090\n",
       "Orientation                 -0.16587954  4.587109e-03   1.2516271609\n",
       "Glazing.Area                -0.03700148  1.075104e-03  -0.0006143450\n",
       "Glazing.Area.Distribution   -0.44401782  1.290124e-02  -0.0073721395\n",
       "Heating.Load              -394.43823186  1.577419e+01  -0.0431036025\n",
       "Cooling.Load              -371.81283473  1.496767e+01   0.1466052834\n",
       "                          Glazing.Area  Glazing.Area.Distribution Heating.Load\n",
       "Relative.Compactness       0.0001080223  0.001296268                 0.6679585\n",
       "Surface.Area              -0.0815286950 -0.978344340              -587.9824567\n",
       "Wall.Area                 -0.0075257257 -0.090308708               200.8940070\n",
       "Roof.Area                 -0.0370014847 -0.444017816              -394.4382319\n",
       "Overall.Height             0.0010751037  0.012901244                15.7741895\n",
       "Orientation               -0.0006143450 -0.007372139                -0.0431036\n",
       "Glazing.Area               0.0176501305  0.042389802                 0.3613385\n",
       "Glazing.Area.Distribution  0.0423898019  2.391030564                 1.3428022\n",
       "Heating.Load               0.3613385245  1.342802164               102.0175023\n",
       "Cooling.Load               0.2629153723  0.738346559                93.8910330\n",
       "                          Cooling.Load\n",
       "Relative.Compactness         0.6407800\n",
       "Surface.Area              -565.9994198\n",
       "Wall.Area                  177.6262497\n",
       "Roof.Area                 -371.8128347\n",
       "Overall.Height              14.9676744\n",
       "Orientation                  0.1466053\n",
       "Glazing.Area                 0.2629154\n",
       "Glazing.Area.Distribution    0.7383466\n",
       "Heating.Load                93.8910330\n",
       "Cooling.Load                90.7248878"
      ]
     },
     "metadata": {},
     "output_type": "display_data"
    }
   ],
   "source": [
    "#Calculate covariance between numeric attributes.\n",
    "cov(Cleansedenergy.ff)"
   ]
  },
  {
   "cell_type": "markdown",
   "metadata": {},
   "source": [
    "Next, compute the correlation matrix by execting the code in the cell below. "
   ]
  },
  {
   "cell_type": "code",
   "execution_count": 37,
   "metadata": {
    "collapsed": false
   },
   "outputs": [
    {
     "data": {
      "text/html": [
       "<table>\n",
       "<thead><tr><th></th><th scope=col>Relative.Compactness</th><th scope=col>Surface.Area</th><th scope=col>Wall.Area</th><th scope=col>Roof.Area</th><th scope=col>Overall.Height</th><th scope=col>Orientation</th><th scope=col>Glazing.Area</th><th scope=col>Glazing.Area.Distribution</th><th scope=col>Heating.Load</th><th scope=col>Cooling.Load</th></tr></thead>\n",
       "<tbody>\n",
       "\t<tr><th scope=row>Relative.Compactness</th><td> 1.000000000</td><td>-0.991890787</td><td>-0.203099114</td><td>-0.868232360</td><td> 0.827631081</td><td> 0.004347408</td><td> 0.007706112</td><td> 0.007945075</td><td> 0.62676962 </td><td> 0.63759006 </td></tr>\n",
       "\t<tr><th scope=row>Surface.Area</th><td>-0.991890787</td><td> 1.000000000</td><td> 0.194830637</td><td> 0.880136160</td><td>-0.857965014</td><td>-0.003861652</td><td>-0.006979086</td><td>-0.007195504</td><td>-0.66204737 </td><td>-0.67579473 </td></tr>\n",
       "\t<tr><th scope=row>Wall.Area</th><td>-0.203099114</td><td> 0.194830637</td><td> 1.000000000</td><td>-0.294146707</td><td> 0.282135937</td><td>-0.000984886</td><td>-0.001297020</td><td>-0.001337240</td><td> 0.45540931 </td><td> 0.42698852 </td></tr>\n",
       "\t<tr><th scope=row>Roof.Area</th><td>-0.868232360</td><td> 0.880136160</td><td>-0.294146707</td><td> 1.000000000</td><td>-0.972582526</td><td>-0.003286242</td><td>-0.006172902</td><td>-0.006364321</td><td>-0.86553747 </td><td>-0.86517781 </td></tr>\n",
       "\t<tr><th scope=row>Overall.Height</th><td> 0.827631081</td><td>-0.857965014</td><td> 0.282135937</td><td>-0.972582526</td><td> 1.000000000</td><td> 0.002341431</td><td> 0.004621215</td><td> 0.004764516</td><td> 0.89184519 </td><td> 0.89736861 </td></tr>\n",
       "\t<tr><th scope=row>Orientation</th><td> 0.004347408</td><td>-0.003861652</td><td>-0.000984886</td><td>-0.003286242</td><td> 0.002341431</td><td> 1.000000000</td><td>-0.004133337</td><td>-0.004261510</td><td>-0.00381451 </td><td> 0.01375780 </td></tr>\n",
       "\t<tr><th scope=row>Glazing.Area</th><td> 0.007706112</td><td>-0.006979086</td><td>-0.001297020</td><td>-0.006172902</td><td> 0.004621215</td><td>-0.004133337</td><td> 1.000000000</td><td> 0.206345433</td><td> 0.26927930 </td><td> 0.20776807 </td></tr>\n",
       "\t<tr><th scope=row>Glazing.Area.Distribution</th><td> 0.007945075</td><td>-0.007195504</td><td>-0.001337240</td><td>-0.006364321</td><td> 0.004764516</td><td>-0.004261510</td><td> 0.206345433</td><td> 1.000000000</td><td> 0.08597697 </td><td> 0.05013078 </td></tr>\n",
       "\t<tr><th scope=row>Heating.Load</th><td> 0.626769618</td><td>-0.662047366</td><td> 0.455409314</td><td>-0.865537473</td><td> 0.891845190</td><td>-0.003814510</td><td> 0.269279296</td><td> 0.085976968</td><td> 1.00000000 </td><td> 0.97594098 </td></tr>\n",
       "\t<tr><th scope=row>Cooling.Load</th><td> 0.637590064</td><td>-0.675794733</td><td> 0.426988518</td><td>-0.865177810</td><td> 0.897368606</td><td> 0.013757797</td><td> 0.207768067</td><td> 0.050130781</td><td> 0.97594098 </td><td> 1.00000000 </td></tr>\n",
       "</tbody>\n",
       "</table>\n"
      ],
      "text/latex": [
       "\\begin{tabular}{r|llllllllll}\n",
       "  & Relative.Compactness & Surface.Area & Wall.Area & Roof.Area & Overall.Height & Orientation & Glazing.Area & Glazing.Area.Distribution & Heating.Load & Cooling.Load\\\\\n",
       "\\hline\n",
       "\tRelative.Compactness &  1.000000000 & -0.991890787 & -0.203099114 & -0.868232360 &  0.827631081 &  0.004347408 &  0.007706112 &  0.007945075 &  0.62676962  &  0.63759006 \\\\\n",
       "\tSurface.Area & -0.991890787 &  1.000000000 &  0.194830637 &  0.880136160 & -0.857965014 & -0.003861652 & -0.006979086 & -0.007195504 & -0.66204737  & -0.67579473 \\\\\n",
       "\tWall.Area & -0.203099114 &  0.194830637 &  1.000000000 & -0.294146707 &  0.282135937 & -0.000984886 & -0.001297020 & -0.001337240 &  0.45540931  &  0.42698852 \\\\\n",
       "\tRoof.Area & -0.868232360 &  0.880136160 & -0.294146707 &  1.000000000 & -0.972582526 & -0.003286242 & -0.006172902 & -0.006364321 & -0.86553747  & -0.86517781 \\\\\n",
       "\tOverall.Height &  0.827631081 & -0.857965014 &  0.282135937 & -0.972582526 &  1.000000000 &  0.002341431 &  0.004621215 &  0.004764516 &  0.89184519  &  0.89736861 \\\\\n",
       "\tOrientation &  0.004347408 & -0.003861652 & -0.000984886 & -0.003286242 &  0.002341431 &  1.000000000 & -0.004133337 & -0.004261510 & -0.00381451  &  0.01375780 \\\\\n",
       "\tGlazing.Area &  0.007706112 & -0.006979086 & -0.001297020 & -0.006172902 &  0.004621215 & -0.004133337 &  1.000000000 &  0.206345433 &  0.26927930  &  0.20776807 \\\\\n",
       "\tGlazing.Area.Distribution &  0.007945075 & -0.007195504 & -0.001337240 & -0.006364321 &  0.004764516 & -0.004261510 &  0.206345433 &  1.000000000 &  0.08597697  &  0.05013078 \\\\\n",
       "\tHeating.Load &  0.626769618 & -0.662047366 &  0.455409314 & -0.865537473 &  0.891845190 & -0.003814510 &  0.269279296 &  0.085976968 &  1.00000000  &  0.97594098 \\\\\n",
       "\tCooling.Load &  0.637590064 & -0.675794733 &  0.426988518 & -0.865177810 &  0.897368606 &  0.013757797 &  0.207768067 &  0.050130781 &  0.97594098  &  1.00000000 \\\\\n",
       "\\end{tabular}\n"
      ],
      "text/markdown": [
       "\n",
       "| <!--/--> | Relative.Compactness | Surface.Area | Wall.Area | Roof.Area | Overall.Height | Orientation | Glazing.Area | Glazing.Area.Distribution | Heating.Load | Cooling.Load | \n",
       "|---|---|---|---|---|---|---|---|---|---|\n",
       "| Relative.Compactness |  1.000000000 | -0.991890787 | -0.203099114 | -0.868232360 |  0.827631081 |  0.004347408 |  0.007706112 |  0.007945075 |  0.62676962  |  0.63759006  | \n",
       "| Surface.Area | -0.991890787 |  1.000000000 |  0.194830637 |  0.880136160 | -0.857965014 | -0.003861652 | -0.006979086 | -0.007195504 | -0.66204737  | -0.67579473  | \n",
       "| Wall.Area | -0.203099114 |  0.194830637 |  1.000000000 | -0.294146707 |  0.282135937 | -0.000984886 | -0.001297020 | -0.001337240 |  0.45540931  |  0.42698852  | \n",
       "| Roof.Area | -0.868232360 |  0.880136160 | -0.294146707 |  1.000000000 | -0.972582526 | -0.003286242 | -0.006172902 | -0.006364321 | -0.86553747  | -0.86517781  | \n",
       "| Overall.Height |  0.827631081 | -0.857965014 |  0.282135937 | -0.972582526 |  1.000000000 |  0.002341431 |  0.004621215 |  0.004764516 |  0.89184519  |  0.89736861  | \n",
       "| Orientation |  0.004347408 | -0.003861652 | -0.000984886 | -0.003286242 |  0.002341431 |  1.000000000 | -0.004133337 | -0.004261510 | -0.00381451  |  0.01375780  | \n",
       "| Glazing.Area |  0.007706112 | -0.006979086 | -0.001297020 | -0.006172902 |  0.004621215 | -0.004133337 |  1.000000000 |  0.206345433 |  0.26927930  |  0.20776807  | \n",
       "| Glazing.Area.Distribution |  0.007945075 | -0.007195504 | -0.001337240 | -0.006364321 |  0.004764516 | -0.004261510 |  0.206345433 |  1.000000000 |  0.08597697  |  0.05013078  | \n",
       "| Heating.Load |  0.626769618 | -0.662047366 |  0.455409314 | -0.865537473 |  0.891845190 | -0.003814510 |  0.269279296 |  0.085976968 |  1.00000000  |  0.97594098  | \n",
       "| Cooling.Load |  0.637590064 | -0.675794733 |  0.426988518 | -0.865177810 |  0.897368606 |  0.013757797 |  0.207768067 |  0.050130781 |  0.97594098  |  1.00000000  | \n",
       "\n",
       "\n"
      ],
      "text/plain": [
       "                          Relative.Compactness Surface.Area Wall.Area   \n",
       "Relative.Compactness       1.000000000         -0.991890787 -0.203099114\n",
       "Surface.Area              -0.991890787          1.000000000  0.194830637\n",
       "Wall.Area                 -0.203099114          0.194830637  1.000000000\n",
       "Roof.Area                 -0.868232360          0.880136160 -0.294146707\n",
       "Overall.Height             0.827631081         -0.857965014  0.282135937\n",
       "Orientation                0.004347408         -0.003861652 -0.000984886\n",
       "Glazing.Area               0.007706112         -0.006979086 -0.001297020\n",
       "Glazing.Area.Distribution  0.007945075         -0.007195504 -0.001337240\n",
       "Heating.Load               0.626769618         -0.662047366  0.455409314\n",
       "Cooling.Load               0.637590064         -0.675794733  0.426988518\n",
       "                          Roof.Area    Overall.Height Orientation  Glazing.Area\n",
       "Relative.Compactness      -0.868232360  0.827631081    0.004347408  0.007706112\n",
       "Surface.Area               0.880136160 -0.857965014   -0.003861652 -0.006979086\n",
       "Wall.Area                 -0.294146707  0.282135937   -0.000984886 -0.001297020\n",
       "Roof.Area                  1.000000000 -0.972582526   -0.003286242 -0.006172902\n",
       "Overall.Height            -0.972582526  1.000000000    0.002341431  0.004621215\n",
       "Orientation               -0.003286242  0.002341431    1.000000000 -0.004133337\n",
       "Glazing.Area              -0.006172902  0.004621215   -0.004133337  1.000000000\n",
       "Glazing.Area.Distribution -0.006364321  0.004764516   -0.004261510  0.206345433\n",
       "Heating.Load              -0.865537473  0.891845190   -0.003814510  0.269279296\n",
       "Cooling.Load              -0.865177810  0.897368606    0.013757797  0.207768067\n",
       "                          Glazing.Area.Distribution Heating.Load Cooling.Load\n",
       "Relative.Compactness       0.007945075               0.62676962   0.63759006 \n",
       "Surface.Area              -0.007195504              -0.66204737  -0.67579473 \n",
       "Wall.Area                 -0.001337240               0.45540931   0.42698852 \n",
       "Roof.Area                 -0.006364321              -0.86553747  -0.86517781 \n",
       "Overall.Height             0.004764516               0.89184519   0.89736861 \n",
       "Orientation               -0.004261510              -0.00381451   0.01375780 \n",
       "Glazing.Area               0.206345433               0.26927930   0.20776807 \n",
       "Glazing.Area.Distribution  1.000000000               0.08597697   0.05013078 \n",
       "Heating.Load               0.085976968               1.00000000   0.97594098 \n",
       "Cooling.Load               0.050130781               0.97594098   1.00000000 "
      ]
     },
     "metadata": {},
     "output_type": "display_data"
    }
   ],
   "source": [
    "#Calculate the Pearson's correlation of between numeric attributes.\n",
    "cor(Cleansedenergy.ff)"
   ]
  },
  {
   "cell_type": "markdown",
   "metadata": {},
   "source": [
    "The covariance is a bit hard to interpret since the variables are not normalized. The numberic ranges of the variables are quite different, leading to a large range of covariance values. \n",
    "\n",
    "The correlation matrix is a bit easier to understand, since there is a normalization of the values. The diagonal values of the correlation matrix are all 1.0, as a result of the normalization. The magnituges of the correlation values between the variables exhibit a significant range. \n",
    "\n",
    "Some pairs of variables are weakly correlated, with small magnitudes. For example, **Orientation** and **Heating.load** have no relationship while **Overall.Height** and **Heating.Load** are strongly correlated and **Wall.Area** and **Heating.Load** are moderately correlated."
   ]
  },
  {
   "cell_type": "markdown",
   "metadata": {},
   "source": [
    "### Bar plots\n",
    "\n",
    "Bar plots are used to display the counts or fequency of unique values of a categorical variable. The height of the bar represents the count for each unique category of the variable. \n",
    "\n",
    "The code below uses ggplot2 to create the bar plot. The `ggplot` function defines the data frame and the x and y column(s) to be plotted. The plot type is defined by these function `geom_bar`. The `+` operator chains the functions. \n",
    "\n",
    "Execute this code to create the bar plot."
   ]
  },
  {
   "cell_type": "code",
   "execution_count": 38,
   "metadata": {
    "collapsed": false
   },
   "outputs": [
    {
     "data": {},
     "metadata": {},
     "output_type": "display_data"
    },
    {
     "data": {
      "text/plain": [
       "List of 1\n",
       " $ axis.text.x:List of 10\n",
       "  ..$ family    : NULL\n",
       "  ..$ face      : NULL\n",
       "  ..$ colour    : NULL\n",
       "  ..$ size      : NULL\n",
       "  ..$ hjust     : num 1\n",
       "  ..$ vjust     : NULL\n",
       "  ..$ angle     : num 90\n",
       "  ..$ lineheight: NULL\n",
       "  ..$ margin    : NULL\n",
       "  ..$ debug     : NULL\n",
       "  ..- attr(*, \"class\")= chr [1:2] \"element_text\" \"element\"\n",
       " - attr(*, \"class\")= chr [1:2] \"theme\" \"gg\"\n",
       " - attr(*, \"complete\")= logi FALSE\n",
       " - attr(*, \"validate\")= logi TRUE"
      ]
     },
     "metadata": {},
     "output_type": "display_data"
    },
    {
     "data": {
      "image/png": "[encoded data removed]",
      "text/plain": [
       "plot without title"
      ]
     },
     "metadata": {},
     "output_type": "display_data"
    }
   ],
   "source": [
    "require(ggplot2)\n",
    "ggplot(Cleansedenergy.ff, aes(x=reorder(Wall.Area,Wall.Area, function(x) -length(x)))) + ## Function shorts the bars\n",
    "  geom_bar() + \n",
    "  xlab('Wall Area')\n",
    "  theme(axis.text.x = element_text(angle = 90, hjust = 1)) ## Theme function for conrol"
   ]
  },
  {
   "cell_type": "markdown",
   "metadata": {
    "collapsed": true
   },
   "source": [
    "Bar plot clearly shows you that wall area between 294 & 318.5 is most prevalent in the homes."
   ]
  },
  {
   "cell_type": "markdown",
   "metadata": {},
   "source": [
    "### Histograms\n",
    "\n",
    "Histograms are related to bar plots. Histograms are used for numeric variables. Whereas, a bar plot shows the counts of unique categories, a histogram shows the number of data with values in each bin. The bins divide the values of the variable into equal segments. The vertical axis of the histogram shows the count of data values within each bin.  \n",
    "\n",
    "Execute the code in the cell below to create a histogram using the `geom_histogram` function. "
   ]
  },
  {
   "cell_type": "code",
   "execution_count": 39,
   "metadata": {
    "collapsed": false
   },
   "outputs": [
    {
     "data": {},
     "metadata": {},
     "output_type": "display_data"
    },
    {
     "data": {
      "image/png": "[encoded data removed]",
      "text/plain": [
       "plot without title"
      ]
     },
     "metadata": {},
     "output_type": "display_data"
    }
   ],
   "source": [
    "ggplot(Cleansedenergy.ff, aes(Heating.Load)) + geom_histogram(binwidth = 1) + \n",
    "  ggtitle('Histogram Of Heating Load')"
   ]
  },
  {
   "cell_type": "markdown",
   "metadata": {},
   "source": [
    "The histogram shows Heating.Load with a positive skewed distribution."
   ]
  },
  {
   "cell_type": "markdown",
   "metadata": {},
   "source": [
    "### Box plots\n",
    "\n",
    "Box plots, also known as box and wisker plots, were introduced by John Tukey in 1970. Box plots are another way to visualize the distribution of data values. In this respect, box plots are comparable to histograms, but are quite different in presentation. \n",
    "\n",
    "A diagram showing the interpretation of a box plot is shown in the figure below.\n",
    "\n",
    "![Interpretation of a box plot](BoxPlot.png)\n",
    "\n",
    "On a box plot the median value is shown with a dark bar. The inner two qartiles of data values are contained within the 'box'. The 'wiskers' enclose the majority of the data, at +/-1.5 times the inter-quartile range. Outliers are shown by symbols beyond the wiskers.\n",
    "\n",
    "Several box plots can be stacked along an axis. The data are divided using a 'group by' operation, and the box plots for each group are stacked next to each other. In this way, the box plot allows you to display two dimensions of your data set. \n",
    "\n",
    "Execute the code in the cell below to create a box plot of the price of the automobiles."
   ]
  },
  {
   "cell_type": "code",
   "execution_count": 40,
   "metadata": {
    "collapsed": false
   },
   "outputs": [
    {
     "data": {},
     "metadata": {},
     "output_type": "display_data"
    },
    {
     "data": {
      "image/png": "[encoded data removed]",
      "text/plain": [
       "plot without title"
      ]
     },
     "metadata": {},
     "output_type": "display_data"
    }
   ],
   "source": [
    "ggplot(Cleansedenergy.ff, aes(x = factor(0), y = Cooling.Load )) + geom_boxplot()"
   ]
  },
  {
   "cell_type": "markdown",
   "metadata": {},
   "source": [
    "Box plots are most useful when the data are subdivided using another variable. In ggolot2 the you can add an x variable of **Overall Height** factor to perform this group by operation. Execute the code below to display the box plots of `Cooling.Load` grouped by the `Overall.Height` variable."
   ]
  },
  {
   "cell_type": "code",
   "execution_count": 41,
   "metadata": {
    "collapsed": false
   },
   "outputs": [
    {
     "data": {},
     "metadata": {},
     "output_type": "display_data"
    },
    {
     "data": {
      "image/png": "[encoded data removed]",
      "text/plain": [
       "plot without title"
      ]
     },
     "metadata": {},
     "output_type": "display_data"
    }
   ],
   "source": [
    "#Create boxplot to compare two variables.\n",
    "ggplot(Cleansedenergy.ff, aes(x = factor(Overall.Height), y = Cooling.Load)) + geom_boxplot() + \n",
    "  xlab('Overall Height') + ggtitle('Cooling load by Overall Height')"
   ]
  },
  {
   "cell_type": "markdown",
   "metadata": {
    "collapsed": true
   },
   "source": [
    "Examine these box plots and note the following:\n",
    "\n",
    "- The median cooling load of a overall height of 3.5 is considerably less than overall height of 7.\n",
    "- Overall Height of 3.5 has a lot more outliers as compared to 7 when grouped by cooling load.\n",
    "- There is no overlap between the interquartile ranges of cooling load distributions of overall height of 3.5 & 7, this would convey that overall height of the house has a strong effect on the cooling load as cooling numbers are dramatically going up with the overall height."
   ]
  },
  {
   "cell_type": "code",
   "execution_count": 42,
   "metadata": {
    "collapsed": false
   },
   "outputs": [
    {
     "data": {},
     "metadata": {},
     "output_type": "display_data"
    },
    {
     "data": {
      "image/png": "[encoded data removed]",
      "text/plain": [
       "plot without title"
      ]
     },
     "metadata": {},
     "output_type": "display_data"
    }
   ],
   "source": [
    "ggplot(Cleansedenergy.ff, aes(x = factor(Roof.Area), y = Cooling.Load)) + geom_boxplot() + \n",
    "  xlab('Roof Area') + ggtitle('Cooling load by Roof Area')"
   ]
  },
  {
   "cell_type": "markdown",
   "metadata": {},
   "source": [
    "One can see that Roof Area has a negative correlation with cooling loads."
   ]
  },
  {
   "cell_type": "code",
   "execution_count": 43,
   "metadata": {
    "collapsed": false
   },
   "outputs": [
    {
     "data": {},
     "metadata": {},
     "output_type": "display_data"
    },
    {
     "data": {
      "image/png": "[encoded data removed]",
      "text/plain": [
       "plot without title"
      ]
     },
     "metadata": {},
     "output_type": "display_data"
    }
   ],
   "source": [
    "ggplot(Cleansedenergy.ff, aes(x = factor(Orientation), y = Cooling.Load)) + geom_boxplot() + \n",
    "  xlab('Orientation') + ggtitle('Cooling load by Orientation')"
   ]
  },
  {
   "cell_type": "markdown",
   "metadata": {},
   "source": [
    "One can clearly see that Orientation has no correlation with cooling loads."
   ]
  },
  {
   "cell_type": "markdown",
   "metadata": {},
   "source": [
    "### Kernel density estimation plots\n",
    "\n",
    "You have used two methods for visualizing distributions. Now, you will look at another method, kernel density estimation. Kernel density estimation uses a moving denisty kernel to average the density of the distribution. Execute the code in the cell below to compute and plot a kernel density estimate of auto price. "
   ]
  },
  {
   "cell_type": "code",
   "execution_count": 44,
   "metadata": {
    "collapsed": false
   },
   "outputs": [
    {
     "data": {},
     "metadata": {},
     "output_type": "display_data"
    },
    {
     "data": {
      "image/png": "[encoded data removed]",
      "text/plain": [
       "plot without title"
      ]
     },
     "metadata": {},
     "output_type": "display_data"
    }
   ],
   "source": [
    "ggplot(Cleansedenergy.ff, aes(Cooling.Load )) + geom_density()"
   ]
  },
  {
   "cell_type": "markdown",
   "metadata": {},
   "source": [
    "Notice that the distribution is heavily skewed to the left with a small blip in the middle and then going down on the right."
   ]
  },
  {
   "cell_type": "markdown",
   "metadata": {},
   "source": [
    "### Violin plots\n",
    "\n",
    "Violine plots are a useful, and relatively new, plot type. The violin plot combines some attributes of a kernal density plot and the box plot. The violin plot shows a pair of symetric kernel density plot. Like a box plot, the violin plot can be conditioned on a categorical (factor) variable. \n",
    "\n",
    "The code in the cell below creates a violin plot of cooling load, grouped by overall height. Some attributes have been added to show quantiles with the `draw_quantiles` attribute. Additionally, the `trim` attribute adds wiskers to show outliers. Execute this code to create the plot. "
   ]
  },
  {
   "cell_type": "code",
   "execution_count": 45,
   "metadata": {
    "collapsed": false
   },
   "outputs": [
    {
     "data": {},
     "metadata": {},
     "output_type": "display_data"
    },
    {
     "data": {
      "image/png": "[encoded data removed]",
      "text/plain": [
       "plot without title"
      ]
     },
     "metadata": {},
     "output_type": "display_data"
    }
   ],
   "source": [
    "ggplot(Cleansedenergy.ff, aes(x = factor(Overall.Height), y = Cooling.Load)) + \n",
    "    geom_violin(trim = FALSE, draw_quantiles = c(0.25, 0.5, 0.75)) +\n",
    "    xlab('Overall Height')  + ggtitle('Cooling Load by Overall Height')"
   ]
  },
  {
   "cell_type": "markdown",
   "metadata": {},
   "source": [
    "This plot clearly shows a thick spread of **Cooling.Load** on the 1st quartile of 3.5 and then goes onto to show a fair share of outliers beyond the 3rd quartile, one can also validate an even spread **Cooling.Load** between 1st and 3rd quartile of 7, with no outliers. \n",
    "\n",
    "**One would have however expected to see atleast one outlier beyound 3rd Quartile on 7 as seen on the previous bar plot.** \n",
    "\n",
    "`This would be a question to the professor.`\n",
    "\n",
    "Given below is a violin plot between cooling load and orientation, we would expect to see no meaningful relationship in this plot."
   ]
  },
  {
   "cell_type": "code",
   "execution_count": 46,
   "metadata": {
    "collapsed": false
   },
   "outputs": [
    {
     "data": {},
     "metadata": {},
     "output_type": "display_data"
    },
    {
     "data": {
      "image/png": "[encoded data removed]",
      "text/plain": [
       "plot without title"
      ]
     },
     "metadata": {},
     "output_type": "display_data"
    }
   ],
   "source": [
    "ggplot(Cleansedenergy.ff, aes(x = factor(Orientation), y = Cooling.Load)) + \n",
    "  geom_violin(trim = FALSE, draw_quantiles = c(0.25, 0.5, 0.75)) +\n",
    "  xlab('Orientation')  + ggtitle('Cooling Load by Roof Area')"
   ]
  },
  {
   "cell_type": "markdown",
   "metadata": {},
   "source": [
    "As you can see above orientation has no bearing on cooling load."
   ]
  },
  {
   "cell_type": "markdown",
   "metadata": {},
   "source": [
    "## Scatter plots\n",
    "\n",
    "A basic scatter plot shows the relationship between two variables. Points are ploted at the x-y coordinates of each value pair. \n",
    "\n",
    "Execute the code in the cell below to create a scatter plot of `Overall.Height` on the horizontal axis vs. `Cooling.Load` on the vertical axis. "
   ]
  },
  {
   "cell_type": "code",
   "execution_count": 47,
   "metadata": {
    "collapsed": false
   },
   "outputs": [
    {
     "data": {},
     "metadata": {},
     "output_type": "display_data"
    },
    {
     "data": {
      "image/png": "[encoded data removed]",
      "text/plain": [
       "plot without title"
      ]
     },
     "metadata": {},
     "output_type": "display_data"
    }
   ],
   "source": [
    "ggplot(Cleansedenergy.ff, aes(x = Overall.Height, y = Cooling.Load)) + geom_point() + \n",
    "    xlab('Overall Height') + ylab('Cooling Load') + \n",
    "    ggtitle('Relationship between Cooling Load and Overall Height')"
   ]
  },
  {
   "cell_type": "markdown",
   "metadata": {},
   "source": [
    "The scatter plot shows the relationship between Cooling Load and Overall Height. The relationship clearly shows a higher cooling load for homes with a higher overall height."
   ]
  },
  {
   "cell_type": "markdown",
   "metadata": {},
   "source": [
    "### 2D kernel density plot\n",
    "\n",
    "A 2 dimensional kernel density plot works much like the 1 dimensional version we have already explored. A useful application is to overlay the 2D kernel density plot on a scatter plot. Execute the code below to create the plot."
   ]
  },
  {
   "cell_type": "code",
   "execution_count": 48,
   "metadata": {
    "collapsed": false
   },
   "outputs": [
    {
     "data": {},
     "metadata": {},
     "output_type": "display_data"
    },
    {
     "data": {
      "image/png": "[encoded data removed]",
      "text/plain": [
       "plot without title"
      ]
     },
     "metadata": {},
     "output_type": "display_data"
    }
   ],
   "source": [
    "ggplot(Cleansedenergy.ff, aes(Overall.Height, Cooling.Load)) + geom_point() + \n",
    "    geom_density2d() +\n",
    "    xlab('Overall Height') + ylab('Cooling Load') +\n",
    "    ggtitle('Relationship between Cooling.Load and Overall.Height')"
   ]
  },
  {
   "cell_type": "markdown",
   "metadata": {},
   "source": [
    "The 2D kernel density estimate is shown using contours in this case. Other options are available. \n",
    "\n",
    "The groups of outliers are very prominent."
   ]
  }
 ],
 "metadata": {
  "anaconda-cloud": {},
  "kernelspec": {
   "display_name": "R",
   "language": "R",
   "name": "ir"
  },
  "language_info": {
   "codemirror_mode": "r",
   "file_extension": ".r",
   "mimetype": "text/x-r-source",
   "name": "R",
   "pygments_lexer": "r",
   "version": "3.3.1"
  }
 },
 "nbformat": 4,
 "nbformat_minor": 1
}
